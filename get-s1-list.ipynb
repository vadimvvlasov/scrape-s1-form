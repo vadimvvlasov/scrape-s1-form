{
 "cells": [
  {
   "cell_type": "markdown",
   "metadata": {},
   "source": [
    "# Получение ссылок на формы S1"
   ]
  },
  {
   "cell_type": "code",
   "execution_count": 1,
   "metadata": {
    "scrolled": true
   },
   "outputs": [
    {
     "name": "stdout",
     "output_type": "stream",
     "text": [
      "0\n",
      "200\n",
      "400\n",
      "600\n",
      "800\n",
      "1000\n",
      "1200\n",
      "1400\n",
      "1600\n",
      "1800\n",
      "2000\n",
      "2200\n",
      "2400\n",
      "2600\n",
      "2800\n",
      "3000\n",
      "3200\n",
      "3400\n",
      "3600\n",
      "3800\n",
      "4000\n",
      "4200\n",
      "4400\n",
      "4600\n",
      "4800\n",
      "5000\n",
      "5200\n",
      "5400\n",
      "5600\n",
      "5800\n",
      "6000\n",
      "6200\n",
      "6400\n",
      "6600\n",
      "6800\n",
      "7000\n",
      "7200\n",
      "7400\n",
      "7600\n",
      "7800\n",
      "8000\n",
      "8200\n",
      "8400\n",
      "8600\n",
      "8800\n",
      "9000\n",
      "9200\n",
      "9400\n",
      "9600\n",
      "9800\n",
      "10000\n",
      "10200\n",
      "10400\n",
      "10600\n",
      "10800\n",
      "11000\n",
      "11200\n",
      "11400\n",
      "11600\n",
      "11800\n",
      "12000\n",
      "12200\n",
      "12400\n",
      "12600\n",
      "12800\n",
      "13000\n",
      "13200\n",
      "13400\n",
      "13600\n",
      "13800\n",
      "14000\n",
      "14200\n",
      "14400\n",
      "14600\n",
      "14800\n",
      "15000\n",
      "15200\n",
      "15400\n",
      "15600\n",
      "15800\n",
      "16000\n",
      "16200\n",
      "16400\n",
      "16600\n",
      "16800\n",
      "17000\n",
      "17200\n",
      "17400\n",
      "17600\n",
      "17800\n",
      "18000\n",
      "18200\n",
      "18400\n",
      "18600\n",
      "18800\n",
      "19000\n",
      "19200\n",
      "19400\n",
      "19600\n",
      "19800\n"
     ]
    }
   ],
   "source": [
    "# package used to execute HTTP POST request to the API\n",
    "# import json\n",
    "# import urllib.request\n",
    "import pandas as pd\n",
    "from secure import TOKEN\n",
    "from form_parser import get_filings\n",
    "\n",
    "\n",
    "output = pd.DataFrame()\n",
    "for item in range(0,200*100,200):\n",
    "    print(item)\n",
    "    output = output.append(get_filings(start_from=item), ignore_index=True)"
   ]
  },
  {
   "cell_type": "code",
   "execution_count": 3,
   "metadata": {},
   "outputs": [],
   "source": [
    "# save DataFrame to csv file\n",
    "# output.to_csv('s1-list.csv')"
   ]
  },
  {
   "cell_type": "code",
   "execution_count": 11,
   "metadata": {},
   "outputs": [
    {
     "name": "stdout",
     "output_type": "stream",
     "text": [
      "10000\n"
     ]
    },
    {
     "data": {
      "text/plain": [
       "2643"
      ]
     },
     "execution_count": 11,
     "metadata": {},
     "output_type": "execute_result"
    }
   ],
   "source": [
    "print(output.id.size)\n",
    "output.companyName.unique().size"
   ]
  },
  {
   "cell_type": "code",
   "execution_count": 5,
   "metadata": {},
   "outputs": [
    {
     "data": {
      "text/plain": [
       "Korth Direct Mortgage LLC                         29\n",
       "DELCATH SYSTEMS, INC.                             25\n",
       "Valeritas Holdings Inc.                           24\n",
       "Teucrium Commodity Trust                          24\n",
       "ProShares Trust II                                22\n",
       "                                                  ..\n",
       "Invesco CurrencyShares Australian Dollar Trust     1\n",
       "Fortis Minerals, LLC                               1\n",
       "Invesco CurrencyShares Swiss Franc Trust           1\n",
       "TAURIGA SCIENCES, INC.                             1\n",
       "GNS Group Inc                                      1\n",
       "Name: companyName, Length: 2643, dtype: int64"
      ]
     },
     "execution_count": 5,
     "metadata": {},
     "output_type": "execute_result"
    }
   ],
   "source": [
    "output.companyName.value_counts()"
   ]
  },
  {
   "cell_type": "code",
   "execution_count": 6,
   "metadata": {},
   "outputs": [
    {
     "data": {
      "text/plain": [
       "https://www.sec.gov/Archives/edgar/data/1430306/000161577418011996/s113713_s1a.htm        1\n",
       "https://www.sec.gov/Archives/edgar/data/1430306/000138713119004970/tnxp-s1a_071119.htm    1\n",
       "https://www.sec.gov/Archives/edgar/data/1430306/000161577418009355/s112612_s1.htm         1\n",
       "https://www.sec.gov/Archives/edgar/data/1430306/000138713120001063/tnxp-s1a_020620.htm    1\n",
       "https://www.sec.gov/Archives/edgar/data/1430306/000161577417005489/s107646_s-1.htm        1\n",
       "https://www.sec.gov/Archives/edgar/data/1430306/000138713119004759/tnxp-s1a_070119.htm    1\n",
       "https://www.sec.gov/Archives/edgar/data/1430306/000138713120000350/tnxp-s1_012120.htm     1\n",
       "https://www.sec.gov/Archives/edgar/data/1430306/000161577418013697/s114372_s1a.htm        1\n",
       "https://www.sec.gov/Archives/edgar/data/1430306/000161577418013865/s114510_s1a.htm        1\n",
       "https://www.sec.gov/Archives/edgar/data/1430306/000138713119008666/tnxp-s1a_111319.htm    1\n",
       "https://www.sec.gov/Archives/edgar/data/1430306/000138713119006791/tnxp-s1a_090619.htm    1\n",
       "https://www.sec.gov/Archives/edgar/data/1430306/000138713119005027/tnxp-s1a_071519.htm    1\n",
       "https://www.sec.gov/Archives/edgar/data/1430306/000161577418011280/s113451_s1.htm         1\n",
       "https://www.sec.gov/Archives/edgar/data/1430306/000138713119007745/tnxp-s1_101819.htm     1\n",
       "https://www.sec.gov/Archives/edgar/data/1430306/000161577418013717/s114432_s1a2.htm       1\n",
       "https://www.sec.gov/Archives/edgar/data/1430306/000138713119008761/tnxp-s1a_111419.htm    1\n",
       "https://www.sec.gov/Archives/edgar/data/1430306/000138713119004490/tnxp-s1_061919.htm     1\n",
       "https://www.sec.gov/Archives/edgar/data/1430306/000138713119006373/tnxp-s1_082319.htm     1\n",
       "Name: linkToFilingDetails, dtype: int64"
      ]
     },
     "execution_count": 6,
     "metadata": {},
     "output_type": "execute_result"
    }
   ],
   "source": [
    "output[output.companyName=='Tonix Pharmaceuticals Holding Corp.']['linkToFilingDetails'].value_counts()"
   ]
  },
  {
   "cell_type": "code",
   "execution_count": 8,
   "metadata": {},
   "outputs": [
    {
     "name": "stdout",
     "output_type": "stream",
     "text": [
      "<class 'pandas.core.frame.DataFrame'>\n",
      "RangeIndex: 10000 entries, 0 to 9999\n",
      "Data columns (total 17 columns):\n",
      " #   Column                                Non-Null Count  Dtype \n",
      "---  ------                                --------------  ----- \n",
      " 0   id                                    10000 non-null  object\n",
      " 1   accessionNo                           10000 non-null  object\n",
      " 2   cik                                   10000 non-null  object\n",
      " 3   ticker                                10000 non-null  object\n",
      " 4   companyName                           10000 non-null  object\n",
      " 5   companyNameLong                       10000 non-null  object\n",
      " 6   formType                              10000 non-null  object\n",
      " 7   description                           10000 non-null  object\n",
      " 8   filedAt                               10000 non-null  object\n",
      " 9   linkToTxt                             10000 non-null  object\n",
      " 10  linkToHtml                            10000 non-null  object\n",
      " 11  linkToXbrl                            10000 non-null  object\n",
      " 12  linkToFilingDetails                   10000 non-null  object\n",
      " 13  entities                              10000 non-null  object\n",
      " 14  documentFormatFiles                   10000 non-null  object\n",
      " 15  dataFiles                             10000 non-null  object\n",
      " 16  seriesAndClassesContractsInformation  8738 non-null   object\n",
      "dtypes: object(17)\n",
      "memory usage: 1.3+ MB\n"
     ]
    }
   ],
   "source": [
    "output.info()"
   ]
  },
  {
   "cell_type": "code",
   "execution_count": 9,
   "metadata": {},
   "outputs": [
    {
     "data": {
      "text/plain": [
       "(10000, 17)"
      ]
     },
     "execution_count": 9,
     "metadata": {},
     "output_type": "execute_result"
    }
   ],
   "source": [
    "output.shape"
   ]
  },
  {
   "cell_type": "code",
   "execution_count": null,
   "metadata": {},
   "outputs": [],
   "source": [
    "Через sec-api.io скачал ссылки на url форм S-1. Всё это выгрузил в csv, ссылка ниже\n",
    "https://yadi.sk/d/UNxLP0WGr9GH1Q\n",
    "\n",
    "В файле 10 000 записей, из которых уникальных 2643. Есть компании,у которых до 29 url на S1 с разными датами\n",
    "\n",
    "Сделал парсер таблиц из форм\n"
   ]
  }
 ],
 "metadata": {
  "kernelspec": {
   "display_name": "Python 3",
   "language": "python",
   "name": "python3"
  },
  "language_info": {
   "codemirror_mode": {
    "name": "ipython",
    "version": 3
   },
   "file_extension": ".py",
   "mimetype": "text/x-python",
   "name": "python",
   "nbconvert_exporter": "python",
   "pygments_lexer": "ipython3",
   "version": "3.8.6"
  }
 },
 "nbformat": 4,
 "nbformat_minor": 4
}
