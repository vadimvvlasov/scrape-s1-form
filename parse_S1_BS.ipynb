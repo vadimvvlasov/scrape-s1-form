{
 "cells": [
  {
   "cell_type": "markdown",
   "metadata": {},
   "source": [
    "# Web Scraping using BeautifulSoup\n",
    "\n",
    "\n",
    "Суть полей, которые нас интересуют, отражена ниже. Они могут назваться разными похожими вариациями. Весь их перечень я смогу дать с течением времени, когда буду встречать новые варианты при анализе форм S-1\n",
    "\n",
    "From **Statement of Operations:**\n",
    "- Revenue / Total Revenue\n",
    "- Net Income / Net Loss\n",
    "\n",
    "From **Balance Sheet:**\n",
    "- Cash and cash equivalents\n",
    "- Goodwill\n",
    "- Intangible assets\n",
    "- Total assets\n",
    "- Long Term Debt\n",
    "- Commercial Paper\n",
    "- Other Current Borrowings\n",
    "- Long Term Debt, current portion\n",
    "- Short-Term Debt\n",
    "\n",
    "From **Statement of Cash Flow:**\n",
    "- Net cash used in operating activities\n",
    "- Purchases of property and equipment / Proceeds from property and equipment"
   ]
  },
  {
   "cell_type": "code",
   "execution_count": 1,
   "metadata": {},
   "outputs": [],
   "source": [
    "import pandas as pd\n",
    "import time\n",
    "\n",
    "from form_parser import *\n",
    "\n",
    "# pd.set_option('display.max_colwidth', None)"
   ]
  },
  {
   "cell_type": "code",
   "execution_count": 2,
   "metadata": {},
   "outputs": [
    {
     "name": "stdout",
     "output_type": "stream",
     "text": [
      "There are 10000 companies in the list\n",
      "Index(['Unnamed: 0', 'id', 'accessionNo', 'cik', 'ticker', 'companyName',\n",
      "       'companyNameLong', 'formType', 'description', 'filedAt', 'linkToTxt',\n",
      "       'linkToHtml', 'linkToXbrl', 'linkToFilingDetails', 'entities',\n",
      "       'documentFormatFiles', 'dataFiles',\n",
      "       'seriesAndClassesContractsInformation'],\n",
      "      dtype='object')\n"
     ]
    },
    {
     "data": {
      "text/html": [
       "<div>\n",
       "<style scoped>\n",
       "    .dataframe tbody tr th:only-of-type {\n",
       "        vertical-align: middle;\n",
       "    }\n",
       "\n",
       "    .dataframe tbody tr th {\n",
       "        vertical-align: top;\n",
       "    }\n",
       "\n",
       "    .dataframe thead th {\n",
       "        text-align: right;\n",
       "    }\n",
       "</style>\n",
       "<table border=\"1\" class=\"dataframe\">\n",
       "  <thead>\n",
       "    <tr style=\"text-align: right;\">\n",
       "      <th></th>\n",
       "      <th>Unnamed: 0</th>\n",
       "      <th>id</th>\n",
       "      <th>accessionNo</th>\n",
       "      <th>cik</th>\n",
       "      <th>ticker</th>\n",
       "      <th>companyName</th>\n",
       "      <th>companyNameLong</th>\n",
       "      <th>formType</th>\n",
       "      <th>description</th>\n",
       "      <th>filedAt</th>\n",
       "      <th>linkToTxt</th>\n",
       "      <th>linkToHtml</th>\n",
       "      <th>linkToXbrl</th>\n",
       "      <th>linkToFilingDetails</th>\n",
       "      <th>entities</th>\n",
       "      <th>documentFormatFiles</th>\n",
       "      <th>dataFiles</th>\n",
       "      <th>seriesAndClassesContractsInformation</th>\n",
       "    </tr>\n",
       "  </thead>\n",
       "  <tbody>\n",
       "    <tr>\n",
       "      <th>0</th>\n",
       "      <td>0</td>\n",
       "      <td>86a54bcc128dae366ff72b596ae1b9c3</td>\n",
       "      <td>0001829126-20-000154</td>\n",
       "      <td>1828957</td>\n",
       "      <td>NaN</td>\n",
       "      <td>DD3 Acquisition Corp. II</td>\n",
       "      <td>DD3 Acquisition Corp. II (Filer)</td>\n",
       "      <td>S-1</td>\n",
       "      <td>Form S-1 - General form for registration of se...</td>\n",
       "      <td>2020-11-19T17:28:19-05:00</td>\n",
       "      <td>https://www.sec.gov/Archives/edgar/data/182895...</td>\n",
       "      <td>https://www.sec.gov/Archives/edgar/data/182895...</td>\n",
       "      <td>NaN</td>\n",
       "      <td>https://www.sec.gov/Archives/edgar/data/182895...</td>\n",
       "      <td>[{'companyName': 'DD3 Acquisition Corp. II (Fi...</td>\n",
       "      <td>[{'sequence': '1', 'description': 'S-1', 'docu...</td>\n",
       "      <td>[]</td>\n",
       "      <td>[]</td>\n",
       "    </tr>\n",
       "    <tr>\n",
       "      <th>1</th>\n",
       "      <td>1</td>\n",
       "      <td>66894d57b0692c458313da9c59778dbf</td>\n",
       "      <td>0000950103-20-022555</td>\n",
       "      <td>1826991</td>\n",
       "      <td>NaN</td>\n",
       "      <td>Trepont Acquistion Corp I</td>\n",
       "      <td>Trepont Acquistion Corp I (Filer)</td>\n",
       "      <td>S-1/A</td>\n",
       "      <td>Form S-1/A - General form for registration of ...</td>\n",
       "      <td>2020-11-19T17:25:40-05:00</td>\n",
       "      <td>https://www.sec.gov/Archives/edgar/data/182699...</td>\n",
       "      <td>https://www.sec.gov/Archives/edgar/data/182699...</td>\n",
       "      <td>NaN</td>\n",
       "      <td>https://www.sec.gov/Archives/edgar/data/182699...</td>\n",
       "      <td>[{'companyName': 'Trepont Acquistion Corp I (F...</td>\n",
       "      <td>[{'sequence': '1', 'description': 'FORM S-1/A'...</td>\n",
       "      <td>[]</td>\n",
       "      <td>[]</td>\n",
       "    </tr>\n",
       "    <tr>\n",
       "      <th>2</th>\n",
       "      <td>2</td>\n",
       "      <td>b8dfd567decca580e602fe0a2650c271</td>\n",
       "      <td>0001213900-20-038278</td>\n",
       "      <td>1826889</td>\n",
       "      <td>FRX</td>\n",
       "      <td>Forest Road Acquisition Corp.</td>\n",
       "      <td>Forest Road Acquisition Corp. (Filer)</td>\n",
       "      <td>S-1/A</td>\n",
       "      <td>Form S-1/A - General form for registration of ...</td>\n",
       "      <td>2020-11-19T17:24:33-05:00</td>\n",
       "      <td>https://www.sec.gov/Archives/edgar/data/182688...</td>\n",
       "      <td>https://www.sec.gov/Archives/edgar/data/182688...</td>\n",
       "      <td>NaN</td>\n",
       "      <td>https://www.sec.gov/Archives/edgar/data/182688...</td>\n",
       "      <td>[{'companyName': 'Forest Road Acquisition Corp...</td>\n",
       "      <td>[{'sequence': '1', 'description': 'REGISTRATIO...</td>\n",
       "      <td>[]</td>\n",
       "      <td>[]</td>\n",
       "    </tr>\n",
       "  </tbody>\n",
       "</table>\n",
       "</div>"
      ],
      "text/plain": [
       "   Unnamed: 0                                id           accessionNo  \\\n",
       "0           0  86a54bcc128dae366ff72b596ae1b9c3  0001829126-20-000154   \n",
       "1           1  66894d57b0692c458313da9c59778dbf  0000950103-20-022555   \n",
       "2           2  b8dfd567decca580e602fe0a2650c271  0001213900-20-038278   \n",
       "\n",
       "       cik ticker                    companyName  \\\n",
       "0  1828957    NaN       DD3 Acquisition Corp. II   \n",
       "1  1826991    NaN      Trepont Acquistion Corp I   \n",
       "2  1826889    FRX  Forest Road Acquisition Corp.   \n",
       "\n",
       "                         companyNameLong formType  \\\n",
       "0       DD3 Acquisition Corp. II (Filer)      S-1   \n",
       "1      Trepont Acquistion Corp I (Filer)    S-1/A   \n",
       "2  Forest Road Acquisition Corp. (Filer)    S-1/A   \n",
       "\n",
       "                                         description  \\\n",
       "0  Form S-1 - General form for registration of se...   \n",
       "1  Form S-1/A - General form for registration of ...   \n",
       "2  Form S-1/A - General form for registration of ...   \n",
       "\n",
       "                     filedAt  \\\n",
       "0  2020-11-19T17:28:19-05:00   \n",
       "1  2020-11-19T17:25:40-05:00   \n",
       "2  2020-11-19T17:24:33-05:00   \n",
       "\n",
       "                                           linkToTxt  \\\n",
       "0  https://www.sec.gov/Archives/edgar/data/182895...   \n",
       "1  https://www.sec.gov/Archives/edgar/data/182699...   \n",
       "2  https://www.sec.gov/Archives/edgar/data/182688...   \n",
       "\n",
       "                                          linkToHtml  linkToXbrl  \\\n",
       "0  https://www.sec.gov/Archives/edgar/data/182895...         NaN   \n",
       "1  https://www.sec.gov/Archives/edgar/data/182699...         NaN   \n",
       "2  https://www.sec.gov/Archives/edgar/data/182688...         NaN   \n",
       "\n",
       "                                 linkToFilingDetails  \\\n",
       "0  https://www.sec.gov/Archives/edgar/data/182895...   \n",
       "1  https://www.sec.gov/Archives/edgar/data/182699...   \n",
       "2  https://www.sec.gov/Archives/edgar/data/182688...   \n",
       "\n",
       "                                            entities  \\\n",
       "0  [{'companyName': 'DD3 Acquisition Corp. II (Fi...   \n",
       "1  [{'companyName': 'Trepont Acquistion Corp I (F...   \n",
       "2  [{'companyName': 'Forest Road Acquisition Corp...   \n",
       "\n",
       "                                 documentFormatFiles dataFiles  \\\n",
       "0  [{'sequence': '1', 'description': 'S-1', 'docu...        []   \n",
       "1  [{'sequence': '1', 'description': 'FORM S-1/A'...        []   \n",
       "2  [{'sequence': '1', 'description': 'REGISTRATIO...        []   \n",
       "\n",
       "  seriesAndClassesContractsInformation  \n",
       "0                                   []  \n",
       "1                                   []  \n",
       "2                                   []  "
      ]
     },
     "execution_count": 2,
     "metadata": {},
     "output_type": "execute_result"
    }
   ],
   "source": [
    "df = pd.read_csv('s1-list.csv')\n",
    "print(f'There are {len(df)} companies in the list')\n",
    "print(df.columns)\n",
    "df[['ticker','companyName', 'linkToFilingDetails']].head()\n",
    "df.head(3)"
   ]
  },
  {
   "cell_type": "markdown",
   "metadata": {},
   "source": [
    "## Extract data"
   ]
  },
  {
   "cell_type": "code",
   "execution_count": null,
   "metadata": {
    "scrolled": true
   },
   "outputs": [
    {
     "name": "stdout",
     "output_type": "stream",
     "text": [
      "(0) https://www.sec.gov/Archives/edgar/data/1828957/000182912620000154/dd3acqcorpii_s1.htm\n"
     ]
    },
    {
     "name": "stderr",
     "output_type": "stream",
     "text": [
      "c:\\python38\\lib\\site-packages\\urllib3\\connectionpool.py:981: InsecureRequestWarning: Unverified HTTPS request is being made to host 'www.sec.gov'. Adding certificate verification is strongly advised. See: https://urllib3.readthedocs.io/en/latest/advanced-usage.html#ssl-warnings\n",
      "  warnings.warn(\n"
     ]
    },
    {
     "name": "stdout",
     "output_type": "stream",
     "text": [
      "{'Revenue': None, 'Net Income': None, 'Cash and cash equivalents': None, 'Goodwill': None, 'Intangible assets': None, 'Total assets': None, 'Commercial Paper': None, 'Other Current Borrowings': None, 'Long Term Debt': None, 'Short-Term Debt': None, 'Net cash used in operating activities': None, 'Purchases of property and equipment': None}\n",
      "(1) https://www.sec.gov/Archives/edgar/data/1826991/000095010320022555/dp141189_s1a.htm\n"
     ]
    },
    {
     "name": "stderr",
     "output_type": "stream",
     "text": [
      "c:\\python38\\lib\\site-packages\\urllib3\\connectionpool.py:981: InsecureRequestWarning: Unverified HTTPS request is being made to host 'www.sec.gov'. Adding certificate verification is strongly advised. See: https://urllib3.readthedocs.io/en/latest/advanced-usage.html#ssl-warnings\n",
      "  warnings.warn(\n"
     ]
    },
    {
     "name": "stdout",
     "output_type": "stream",
     "text": [
      "{'Revenue': None, 'Net Income': None, 'Cash and cash equivalents': None, 'Goodwill': None, 'Intangible assets': None, 'Total assets': 59841.0, 'Commercial Paper': None, 'Other Current Borrowings': None, 'Long Term Debt': None, 'Short-Term Debt': None, 'Net cash used in operating activities': None, 'Purchases of property and equipment': None}\n",
      "(2) https://www.sec.gov/Archives/edgar/data/1826889/000121390020038278/fs12020a1_forestroadacq.htm\n"
     ]
    },
    {
     "name": "stderr",
     "output_type": "stream",
     "text": [
      "c:\\python38\\lib\\site-packages\\urllib3\\connectionpool.py:981: InsecureRequestWarning: Unverified HTTPS request is being made to host 'www.sec.gov'. Adding certificate verification is strongly advised. See: https://urllib3.readthedocs.io/en/latest/advanced-usage.html#ssl-warnings\n",
      "  warnings.warn(\n"
     ]
    },
    {
     "name": "stdout",
     "output_type": "stream",
     "text": [
      "{'Revenue': None, 'Net Income': -761.0, 'Cash and cash equivalents': None, 'Goodwill': None, 'Intangible assets': None, 'Total assets': 41739.0, 'Commercial Paper': None, 'Other Current Borrowings': None, 'Long Term Debt': None, 'Short-Term Debt': None, 'Net cash used in operating activities': None, 'Purchases of property and equipment': None}\n",
      "(3) https://www.sec.gov/Archives/edgar/data/1315098/000119312520298230/d87104ds1.htm\n"
     ]
    },
    {
     "name": "stderr",
     "output_type": "stream",
     "text": [
      "c:\\python38\\lib\\site-packages\\urllib3\\connectionpool.py:981: InsecureRequestWarning: Unverified HTTPS request is being made to host 'www.sec.gov'. Adding certificate verification is strongly advised. See: https://urllib3.readthedocs.io/en/latest/advanced-usage.html#ssl-warnings\n",
      "  warnings.warn(\n"
     ]
    },
    {
     "name": "stdout",
     "output_type": "stream",
     "text": [
      "{'Revenue': 312773.0, 'Net Income': None, 'Cash and cash equivalents': 801646.0, 'Goodwill': None, 'Intangible assets': None, 'Total assets': 1489541.0, 'Commercial Paper': None, 'Other Current Borrowings': None, 'Long Term Debt': None, 'Short-Term Debt': None, 'Net cash used in operating activities': None, 'Purchases of property and equipment': None}\n",
      "(4) https://www.sec.gov/Archives/edgar/data/1776661/000119312520298162/d25439ds1.htm\n"
     ]
    },
    {
     "name": "stderr",
     "output_type": "stream",
     "text": [
      "c:\\python38\\lib\\site-packages\\urllib3\\connectionpool.py:981: InsecureRequestWarning: Unverified HTTPS request is being made to host 'www.sec.gov'. Adding certificate verification is strongly advised. See: https://urllib3.readthedocs.io/en/latest/advanced-usage.html#ssl-warnings\n",
      "  warnings.warn(\n"
     ]
    },
    {
     "name": "stdout",
     "output_type": "stream",
     "text": [
      "{'Revenue': None, 'Net Income': 2469141.0, 'Cash and cash equivalents': 486396.0, 'Goodwill': 2153855.0, 'Intangible assets': None, 'Total assets': 454689.0, 'Commercial Paper': None, 'Other Current Borrowings': None, 'Long Term Debt': None, 'Short-Term Debt': None, 'Net cash used in operating activities': None, 'Purchases of property and equipment': None}\n",
      "(5) https://www.sec.gov/Archives/edgar/data/1558569/000110465920127325/tm2035427-1_s1.htm\n"
     ]
    },
    {
     "name": "stderr",
     "output_type": "stream",
     "text": [
      "c:\\python38\\lib\\site-packages\\urllib3\\connectionpool.py:981: InsecureRequestWarning: Unverified HTTPS request is being made to host 'www.sec.gov'. Adding certificate verification is strongly advised. See: https://urllib3.readthedocs.io/en/latest/advanced-usage.html#ssl-warnings\n",
      "  warnings.warn(\n"
     ]
    }
   ],
   "source": [
    "fields_dict = {'Statement of Operations':['Revenue',\n",
    "                                         ['Net Income', 'Net Loss', 'net income (loss)']],\n",
    "              'Balance Sheet': ['Cash and cash equivalents',\n",
    "                                'Goodwill', \n",
    "                                'Intangible assets', \n",
    "                                'Total assets', \n",
    "                                'Commercial Paper', \n",
    "                                'Other Current Borrowings', \n",
    "                                ['Long Term Debt', 'current portion'],\n",
    "                                'Short-Term Debt'],\n",
    "              'Statement of Cash Flow': ['Net cash used in operating activities', \n",
    "                                         ['Purchases of property and equipment', 'Proceeds from property and equipment']]}\n",
    "result = []\n",
    "for n, url in enumerate(df['linkToFilingDetails']):\n",
    "    print(f'({n}) {url}')\n",
    "    dict = iterate_fields_dict(html=get_html(url), fields_dict=fields_dict)\n",
    "    result.append(dict)\n",
    "    print(dict)\n"
   ]
  },
  {
   "cell_type": "code",
   "execution_count": null,
   "metadata": {},
   "outputs": [],
   "source": [
    "output = pd.DataFrame()\n",
    "for item in result:\n",
    "    output = output.append(item, ignore_index=True)\n",
    "output\n"
   ]
  },
  {
   "cell_type": "code",
   "execution_count": 11,
   "metadata": {},
   "outputs": [],
   "source": [
    "result = pd.concat([df, output], axis=1, sort=False)\n",
    "# result.to_csv('s1-result.csv')"
   ]
  },
  {
   "cell_type": "code",
   "execution_count": 19,
   "metadata": {},
   "outputs": [
    {
     "name": "stdout",
     "output_type": "stream",
     "text": [
      "<class 'pandas.core.frame.DataFrame'>\n",
      "RangeIndex: 200 entries, 0 to 199\n",
      "Data columns (total 30 columns):\n",
      " #   Column                                 Non-Null Count  Dtype  \n",
      "---  ------                                 --------------  -----  \n",
      " 0   Unnamed: 0                             200 non-null    int64  \n",
      " 1   id                                     200 non-null    object \n",
      " 2   accessionNo                            200 non-null    object \n",
      " 3   cik                                    200 non-null    int64  \n",
      " 4   ticker                                 143 non-null    object \n",
      " 5   companyName                            200 non-null    object \n",
      " 6   companyNameLong                        200 non-null    object \n",
      " 7   formType                               200 non-null    object \n",
      " 8   description                            200 non-null    object \n",
      " 9   filedAt                                200 non-null    object \n",
      " 10  linkToTxt                              200 non-null    object \n",
      " 11  linkToHtml                             200 non-null    object \n",
      " 12  linkToXbrl                             0 non-null      float64\n",
      " 13  linkToFilingDetails                    200 non-null    object \n",
      " 14  entities                               200 non-null    object \n",
      " 15  documentFormatFiles                    200 non-null    object \n",
      " 16  dataFiles                              200 non-null    object \n",
      " 17  seriesAndClassesContractsInformation   200 non-null    object \n",
      " 18  Cash and cash equivalents              48 non-null     float64\n",
      " 19  Commercial Paper                       2 non-null      float64\n",
      " 20  Goodwill                               16 non-null     float64\n",
      " 21  Intangible assets                      8 non-null      float64\n",
      " 22  Long Term Debt                         0 non-null      float64\n",
      " 23  Net Income                             63 non-null     float64\n",
      " 24  Net cash used in operating activities  8 non-null      float64\n",
      " 25  Other Current Borrowings               0 non-null      float64\n",
      " 26  Purchases of property and equipment    2 non-null      float64\n",
      " 27  Revenue                                16 non-null     float64\n",
      " 28  Short-Term Debt                        0 non-null      float64\n",
      " 29  Total assets                           121 non-null    float64\n",
      "dtypes: float64(13), int64(2), object(15)\n",
      "memory usage: 47.0+ KB\n"
     ]
    }
   ],
   "source": [
    "result.info()"
   ]
  },
  {
   "cell_type": "code",
   "execution_count": null,
   "metadata": {},
   "outputs": [],
   "source": []
  },
  {
   "cell_type": "code",
   "execution_count": null,
   "metadata": {},
   "outputs": [],
   "source": []
  }
 ],
 "metadata": {
  "kernelspec": {
   "display_name": "Python 3",
   "language": "python",
   "name": "python3"
  },
  "language_info": {
   "codemirror_mode": {
    "name": "ipython",
    "version": 3
   },
   "file_extension": ".py",
   "mimetype": "text/x-python",
   "name": "python",
   "nbconvert_exporter": "python",
   "pygments_lexer": "ipython3",
   "version": "3.8.6"
  }
 },
 "nbformat": 4,
 "nbformat_minor": 4
}
