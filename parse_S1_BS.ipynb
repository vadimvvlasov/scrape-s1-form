{
 "cells": [
  {
   "cell_type": "markdown",
   "metadata": {},
   "source": [
    "# Web Scraping form S1¶\n",
    "\n",
    "From **Statement of Operations:**\n",
    "- Revenue / Total Revenue\n",
    "- Net Income / Net Loss\n",
    "\n",
    "From **Balance Sheet:**\n",
    "- Cash and cash equivalents\n",
    "- Goodwill\n",
    "- Intangible assets\n",
    "- Total assets\n",
    "- Long Term Debt\n",
    "- Commercial Paper\n",
    "- Other Current Borrowings\n",
    "- Long Term Debt, current portion\n",
    "- Short-Term Debt\n",
    "\n",
    "From **Statement of Cash Flow:**\n",
    "- Net cash used in operating activities\n",
    "- Purchases of property and equipment / Proceeds from property and equipment"
   ]
  },
  {
   "cell_type": "code",
   "execution_count": 1,
   "metadata": {},
   "outputs": [],
   "source": [
    "import pandas as pd\n",
    "import time\n",
    "from form_parser import *\n",
    "\n",
    "# pd.set_option('display.max_colwidth', None)"
   ]
  },
  {
   "cell_type": "code",
   "execution_count": 2,
   "metadata": {},
   "outputs": [
    {
     "name": "stdout",
     "output_type": "stream",
     "text": [
      "There are 10000 companies in the list\n",
      "Index(['Unnamed: 0', 'id', 'accessionNo', 'cik', 'ticker', 'companyName',\n",
      "       'companyNameLong', 'formType', 'description', 'filedAt', 'linkToTxt',\n",
      "       'linkToHtml', 'linkToXbrl', 'linkToFilingDetails', 'entities',\n",
      "       'documentFormatFiles', 'dataFiles',\n",
      "       'seriesAndClassesContractsInformation'],\n",
      "      dtype='object')\n"
     ]
    },
    {
     "data": {
      "text/html": [
       "<div>\n",
       "<style scoped>\n",
       "    .dataframe tbody tr th:only-of-type {\n",
       "        vertical-align: middle;\n",
       "    }\n",
       "\n",
       "    .dataframe tbody tr th {\n",
       "        vertical-align: top;\n",
       "    }\n",
       "\n",
       "    .dataframe thead th {\n",
       "        text-align: right;\n",
       "    }\n",
       "</style>\n",
       "<table border=\"1\" class=\"dataframe\">\n",
       "  <thead>\n",
       "    <tr style=\"text-align: right;\">\n",
       "      <th></th>\n",
       "      <th>Unnamed: 0</th>\n",
       "      <th>id</th>\n",
       "      <th>accessionNo</th>\n",
       "      <th>cik</th>\n",
       "      <th>ticker</th>\n",
       "      <th>companyName</th>\n",
       "      <th>companyNameLong</th>\n",
       "      <th>formType</th>\n",
       "      <th>description</th>\n",
       "      <th>filedAt</th>\n",
       "      <th>linkToTxt</th>\n",
       "      <th>linkToHtml</th>\n",
       "      <th>linkToXbrl</th>\n",
       "      <th>linkToFilingDetails</th>\n",
       "      <th>entities</th>\n",
       "      <th>documentFormatFiles</th>\n",
       "      <th>dataFiles</th>\n",
       "      <th>seriesAndClassesContractsInformation</th>\n",
       "    </tr>\n",
       "  </thead>\n",
       "  <tbody>\n",
       "    <tr>\n",
       "      <th>0</th>\n",
       "      <td>0</td>\n",
       "      <td>86a54bcc128dae366ff72b596ae1b9c3</td>\n",
       "      <td>0001829126-20-000154</td>\n",
       "      <td>1828957</td>\n",
       "      <td>NaN</td>\n",
       "      <td>DD3 Acquisition Corp. II</td>\n",
       "      <td>DD3 Acquisition Corp. II (Filer)</td>\n",
       "      <td>S-1</td>\n",
       "      <td>Form S-1 - General form for registration of se...</td>\n",
       "      <td>2020-11-19T17:28:19-05:00</td>\n",
       "      <td>https://www.sec.gov/Archives/edgar/data/182895...</td>\n",
       "      <td>https://www.sec.gov/Archives/edgar/data/182895...</td>\n",
       "      <td>NaN</td>\n",
       "      <td>https://www.sec.gov/Archives/edgar/data/182895...</td>\n",
       "      <td>[{'companyName': 'DD3 Acquisition Corp. II (Fi...</td>\n",
       "      <td>[{'sequence': '1', 'description': 'S-1', 'docu...</td>\n",
       "      <td>[]</td>\n",
       "      <td>[]</td>\n",
       "    </tr>\n",
       "    <tr>\n",
       "      <th>1</th>\n",
       "      <td>1</td>\n",
       "      <td>66894d57b0692c458313da9c59778dbf</td>\n",
       "      <td>0000950103-20-022555</td>\n",
       "      <td>1826991</td>\n",
       "      <td>NaN</td>\n",
       "      <td>Trepont Acquistion Corp I</td>\n",
       "      <td>Trepont Acquistion Corp I (Filer)</td>\n",
       "      <td>S-1/A</td>\n",
       "      <td>Form S-1/A - General form for registration of ...</td>\n",
       "      <td>2020-11-19T17:25:40-05:00</td>\n",
       "      <td>https://www.sec.gov/Archives/edgar/data/182699...</td>\n",
       "      <td>https://www.sec.gov/Archives/edgar/data/182699...</td>\n",
       "      <td>NaN</td>\n",
       "      <td>https://www.sec.gov/Archives/edgar/data/182699...</td>\n",
       "      <td>[{'companyName': 'Trepont Acquistion Corp I (F...</td>\n",
       "      <td>[{'sequence': '1', 'description': 'FORM S-1/A'...</td>\n",
       "      <td>[]</td>\n",
       "      <td>[]</td>\n",
       "    </tr>\n",
       "  </tbody>\n",
       "</table>\n",
       "</div>"
      ],
      "text/plain": [
       "   Unnamed: 0                                id           accessionNo  \\\n",
       "0           0  86a54bcc128dae366ff72b596ae1b9c3  0001829126-20-000154   \n",
       "1           1  66894d57b0692c458313da9c59778dbf  0000950103-20-022555   \n",
       "\n",
       "       cik ticker                companyName  \\\n",
       "0  1828957    NaN   DD3 Acquisition Corp. II   \n",
       "1  1826991    NaN  Trepont Acquistion Corp I   \n",
       "\n",
       "                     companyNameLong formType  \\\n",
       "0   DD3 Acquisition Corp. II (Filer)      S-1   \n",
       "1  Trepont Acquistion Corp I (Filer)    S-1/A   \n",
       "\n",
       "                                         description  \\\n",
       "0  Form S-1 - General form for registration of se...   \n",
       "1  Form S-1/A - General form for registration of ...   \n",
       "\n",
       "                     filedAt  \\\n",
       "0  2020-11-19T17:28:19-05:00   \n",
       "1  2020-11-19T17:25:40-05:00   \n",
       "\n",
       "                                           linkToTxt  \\\n",
       "0  https://www.sec.gov/Archives/edgar/data/182895...   \n",
       "1  https://www.sec.gov/Archives/edgar/data/182699...   \n",
       "\n",
       "                                          linkToHtml  linkToXbrl  \\\n",
       "0  https://www.sec.gov/Archives/edgar/data/182895...         NaN   \n",
       "1  https://www.sec.gov/Archives/edgar/data/182699...         NaN   \n",
       "\n",
       "                                 linkToFilingDetails  \\\n",
       "0  https://www.sec.gov/Archives/edgar/data/182895...   \n",
       "1  https://www.sec.gov/Archives/edgar/data/182699...   \n",
       "\n",
       "                                            entities  \\\n",
       "0  [{'companyName': 'DD3 Acquisition Corp. II (Fi...   \n",
       "1  [{'companyName': 'Trepont Acquistion Corp I (F...   \n",
       "\n",
       "                                 documentFormatFiles dataFiles  \\\n",
       "0  [{'sequence': '1', 'description': 'S-1', 'docu...        []   \n",
       "1  [{'sequence': '1', 'description': 'FORM S-1/A'...        []   \n",
       "\n",
       "  seriesAndClassesContractsInformation  \n",
       "0                                   []  \n",
       "1                                   []  "
      ]
     },
     "execution_count": 2,
     "metadata": {},
     "output_type": "execute_result"
    }
   ],
   "source": [
    "df = pd.read_csv('s1-list.csv')\n",
    "print(f'There are {len(df)} companies in the list')\n",
    "print(df.columns)\n",
    "df[['ticker','companyName', 'linkToFilingDetails']].head()\n",
    "df.head(2)"
   ]
  },
  {
   "cell_type": "markdown",
   "metadata": {},
   "source": [
    "## Extract data\n",
    "формы S1 - плохо структурированы, поэтому парсинг финансовых отчётов делается следующим образом:\n",
    "- нахоим все `<div>` теги, с назыанием финансового отчёта (Statement of Operations', 'Balance Sheet' ...)\n",
    "- для каждого отчёта парсим список таблиц с тегом `<table>`\n",
    "- в списке таблиц отчёта ищем нужные имена полей и в случае совпадения берем их значения в той же строке\n",
    "\n",
    "В случае если поля могут иметь разные имена, то они задаются списком имён"
   ]
  },
  {
   "cell_type": "code",
   "execution_count": 22,
   "metadata": {
    "scrolled": true
   },
   "outputs": [
    {
     "name": "stdout",
     "output_type": "stream",
     "text": [
      "https://www.sec.gov/Archives/edgar/data/1826991/000095010320022555/dp141189_s1a.htm\n"
     ]
    },
    {
     "name": "stderr",
     "output_type": "stream",
     "text": [
      "c:\\python38\\lib\\site-packages\\urllib3\\connectionpool.py:981: InsecureRequestWarning: Unverified HTTPS request is being made to host 'www.sec.gov'. Adding certificate verification is strongly advised. See: https://urllib3.readthedocs.io/en/latest/advanced-usage.html#ssl-warnings\n",
      "  warnings.warn(\n"
     ]
    },
    {
     "data": {
      "text/plain": [
       "{'Revenue': None,\n",
       " 'Net Income': None,\n",
       " 'Cash and cash equivalents': None,\n",
       " 'Goodwill': None,\n",
       " 'Intangible assets': None,\n",
       " 'Total assets': 59841.0,\n",
       " 'Commercial Paper': None,\n",
       " 'Other Current Borrowings': None,\n",
       " 'Long Term Debt': None,\n",
       " 'Short-Term Debt': None,\n",
       " 'Net cash used in operating activities': None,\n",
       " 'Purchases of property and equipment': None}"
      ]
     },
     "execution_count": 22,
     "metadata": {},
     "output_type": "execute_result"
    }
   ],
   "source": [
    "fields_dict = {'Statement of Operations':['Revenue',\n",
    "                                         ['Net Income', 'Net Loss', 'net income (loss)']],\n",
    "              'Balance Sheet': ['Cash and cash equivalents',\n",
    "                                'Goodwill', \n",
    "                                'Intangible assets', \n",
    "                                'Total assets', \n",
    "                                'Commercial Paper', \n",
    "                                'Other Current Borrowings', \n",
    "                                ['Long Term Debt', 'current portion'],\n",
    "                                'Short-Term Debt'],\n",
    "              'Statement of Cash Flow': ['Net cash used in operating activities', \n",
    "                                         ['Purchases of property and equipment', 'Proceeds from property and equipment']]}\n",
    "result = []\n",
    "\n",
    "url = df['linkToFilingDetails'][1]\n",
    "print(url)\n",
    "iterate_fields_dict(html=get_html(url), fields_dict=fields_dict)\n"
   ]
  },
  {
   "cell_type": "markdown",
   "metadata": {},
   "source": [
    "## Парсинг по всем url и сохранение в DataFrame"
   ]
  },
  {
   "cell_type": "code",
   "execution_count": 18,
   "metadata": {
    "scrolled": true
   },
   "outputs": [
    {
     "name": "stdout",
     "output_type": "stream",
     "text": [
      "(0) https://www.sec.gov/Archives/edgar/data/1828957/000182912620000154/dd3acqcorpii_s1.htm\n"
     ]
    },
    {
     "name": "stderr",
     "output_type": "stream",
     "text": [
      "c:\\python38\\lib\\site-packages\\urllib3\\connectionpool.py:981: InsecureRequestWarning: Unverified HTTPS request is being made to host 'www.sec.gov'. Adding certificate verification is strongly advised. See: https://urllib3.readthedocs.io/en/latest/advanced-usage.html#ssl-warnings\n",
      "  warnings.warn(\n"
     ]
    },
    {
     "name": "stdout",
     "output_type": "stream",
     "text": [
      "{'Revenue': None, 'Net Income': None, 'Cash and cash equivalents': None, 'Goodwill': None, 'Intangible assets': None, 'Total assets': None, 'Commercial Paper': None, 'Other Current Borrowings': None, 'Long Term Debt': None, 'Short-Term Debt': None, 'Net cash used in operating activities': None, 'Purchases of property and equipment': None}\n",
      "(1) https://www.sec.gov/Archives/edgar/data/1826991/000095010320022555/dp141189_s1a.htm\n"
     ]
    },
    {
     "name": "stderr",
     "output_type": "stream",
     "text": [
      "c:\\python38\\lib\\site-packages\\urllib3\\connectionpool.py:981: InsecureRequestWarning: Unverified HTTPS request is being made to host 'www.sec.gov'. Adding certificate verification is strongly advised. See: https://urllib3.readthedocs.io/en/latest/advanced-usage.html#ssl-warnings\n",
      "  warnings.warn(\n"
     ]
    },
    {
     "name": "stdout",
     "output_type": "stream",
     "text": [
      "{'Revenue': None, 'Net Income': None, 'Cash and cash equivalents': None, 'Goodwill': None, 'Intangible assets': None, 'Total assets': 59841.0, 'Commercial Paper': None, 'Other Current Borrowings': None, 'Long Term Debt': None, 'Short-Term Debt': None, 'Net cash used in operating activities': None, 'Purchases of property and equipment': None}\n",
      "(2) https://www.sec.gov/Archives/edgar/data/1826889/000121390020038278/fs12020a1_forestroadacq.htm\n"
     ]
    },
    {
     "name": "stderr",
     "output_type": "stream",
     "text": [
      "c:\\python38\\lib\\site-packages\\urllib3\\connectionpool.py:981: InsecureRequestWarning: Unverified HTTPS request is being made to host 'www.sec.gov'. Adding certificate verification is strongly advised. See: https://urllib3.readthedocs.io/en/latest/advanced-usage.html#ssl-warnings\n",
      "  warnings.warn(\n"
     ]
    },
    {
     "name": "stdout",
     "output_type": "stream",
     "text": [
      "{'Revenue': None, 'Net Income': -761.0, 'Cash and cash equivalents': None, 'Goodwill': None, 'Intangible assets': None, 'Total assets': 41739.0, 'Commercial Paper': None, 'Other Current Borrowings': None, 'Long Term Debt': None, 'Short-Term Debt': None, 'Net cash used in operating activities': None, 'Purchases of property and equipment': None}\n",
      "(3) https://www.sec.gov/Archives/edgar/data/1315098/000119312520298230/d87104ds1.htm\n"
     ]
    },
    {
     "name": "stderr",
     "output_type": "stream",
     "text": [
      "c:\\python38\\lib\\site-packages\\urllib3\\connectionpool.py:981: InsecureRequestWarning: Unverified HTTPS request is being made to host 'www.sec.gov'. Adding certificate verification is strongly advised. See: https://urllib3.readthedocs.io/en/latest/advanced-usage.html#ssl-warnings\n",
      "  warnings.warn(\n"
     ]
    },
    {
     "name": "stdout",
     "output_type": "stream",
     "text": [
      "{'Revenue': 312773.0, 'Net Income': None, 'Cash and cash equivalents': 801646.0, 'Goodwill': None, 'Intangible assets': None, 'Total assets': 1489541.0, 'Commercial Paper': None, 'Other Current Borrowings': None, 'Long Term Debt': None, 'Short-Term Debt': None, 'Net cash used in operating activities': None, 'Purchases of property and equipment': None}\n",
      "(4) https://www.sec.gov/Archives/edgar/data/1776661/000119312520298162/d25439ds1.htm\n"
     ]
    },
    {
     "name": "stderr",
     "output_type": "stream",
     "text": [
      "c:\\python38\\lib\\site-packages\\urllib3\\connectionpool.py:981: InsecureRequestWarning: Unverified HTTPS request is being made to host 'www.sec.gov'. Adding certificate verification is strongly advised. See: https://urllib3.readthedocs.io/en/latest/advanced-usage.html#ssl-warnings\n",
      "  warnings.warn(\n"
     ]
    },
    {
     "name": "stdout",
     "output_type": "stream",
     "text": [
      "{'Revenue': None, 'Net Income': 2469141.0, 'Cash and cash equivalents': 486396.0, 'Goodwill': 2153855.0, 'Intangible assets': None, 'Total assets': 454689.0, 'Commercial Paper': None, 'Other Current Borrowings': None, 'Long Term Debt': None, 'Short-Term Debt': None, 'Net cash used in operating activities': None, 'Purchases of property and equipment': None}\n",
      "(5) https://www.sec.gov/Archives/edgar/data/1558569/000110465920127325/tm2035427-1_s1.htm\n"
     ]
    },
    {
     "name": "stderr",
     "output_type": "stream",
     "text": [
      "c:\\python38\\lib\\site-packages\\urllib3\\connectionpool.py:981: InsecureRequestWarning: Unverified HTTPS request is being made to host 'www.sec.gov'. Adding certificate verification is strongly advised. See: https://urllib3.readthedocs.io/en/latest/advanced-usage.html#ssl-warnings\n",
      "  warnings.warn(\n"
     ]
    },
    {
     "name": "stdout",
     "output_type": "stream",
     "text": [
      "{'Revenue': 4298350.0, 'Net Income': -4727050.0, 'Cash and cash equivalents': None, 'Goodwill': None, 'Intangible assets': None, 'Total assets': 4214588.0, 'Commercial Paper': None, 'Other Current Borrowings': None, 'Long Term Debt': None, 'Short-Term Debt': None, 'Net cash used in operating activities': None, 'Purchases of property and equipment': None}\n",
      "(6) https://www.sec.gov/Archives/edgar/data/1722438/000121390020038221/fs12020a1_capitolinvest5.htm\n"
     ]
    },
    {
     "name": "stderr",
     "output_type": "stream",
     "text": [
      "c:\\python38\\lib\\site-packages\\urllib3\\connectionpool.py:981: InsecureRequestWarning: Unverified HTTPS request is being made to host 'www.sec.gov'. Adding certificate verification is strongly advised. See: https://urllib3.readthedocs.io/en/latest/advanced-usage.html#ssl-warnings\n",
      "  warnings.warn(\n"
     ]
    },
    {
     "name": "stdout",
     "output_type": "stream",
     "text": [
      "{'Revenue': None, 'Net Income': None, 'Cash and cash equivalents': None, 'Goodwill': None, 'Intangible assets': None, 'Total assets': 297405.0, 'Commercial Paper': None, 'Other Current Borrowings': None, 'Long Term Debt': None, 'Short-Term Debt': None, 'Net cash used in operating activities': None, 'Purchases of property and equipment': None}\n",
      "(7) https://www.sec.gov/Archives/edgar/data/1015383/000149315220022015/forms-1a.htm\n"
     ]
    },
    {
     "name": "stderr",
     "output_type": "stream",
     "text": [
      "c:\\python38\\lib\\site-packages\\urllib3\\connectionpool.py:981: InsecureRequestWarning: Unverified HTTPS request is being made to host 'www.sec.gov'. Adding certificate verification is strongly advised. See: https://urllib3.readthedocs.io/en/latest/advanced-usage.html#ssl-warnings\n",
      "  warnings.warn(\n"
     ]
    },
    {
     "name": "stdout",
     "output_type": "stream",
     "text": [
      "{'Revenue': None, 'Net Income': None, 'Cash and cash equivalents': None, 'Goodwill': None, 'Intangible assets': None, 'Total assets': None, 'Commercial Paper': None, 'Other Current Borrowings': None, 'Long Term Debt': None, 'Short-Term Debt': None, 'Net cash used in operating activities': None, 'Purchases of property and equipment': None}\n",
      "(8) https://www.sec.gov/Archives/edgar/data/1831992/000110465920127110/tm2036073-1_s1.htm\n"
     ]
    },
    {
     "name": "stderr",
     "output_type": "stream",
     "text": [
      "c:\\python38\\lib\\site-packages\\urllib3\\connectionpool.py:981: InsecureRequestWarning: Unverified HTTPS request is being made to host 'www.sec.gov'. Adding certificate verification is strongly advised. See: https://urllib3.readthedocs.io/en/latest/advanced-usage.html#ssl-warnings\n",
      "  warnings.warn(\n"
     ]
    },
    {
     "name": "stdout",
     "output_type": "stream",
     "text": [
      "{'Revenue': None, 'Net Income': None, 'Cash and cash equivalents': None, 'Goodwill': None, 'Intangible assets': None, 'Total assets': None, 'Commercial Paper': None, 'Other Current Borrowings': None, 'Long Term Debt': None, 'Short-Term Debt': None, 'Net cash used in operating activities': None, 'Purchases of property and equipment': None}\n",
      "(9) https://www.sec.gov/Archives/edgar/data/1822966/000110465920127045/tm2029458-6_s1a.htm\n"
     ]
    },
    {
     "name": "stderr",
     "output_type": "stream",
     "text": [
      "c:\\python38\\lib\\site-packages\\urllib3\\connectionpool.py:981: InsecureRequestWarning: Unverified HTTPS request is being made to host 'www.sec.gov'. Adding certificate verification is strongly advised. See: https://urllib3.readthedocs.io/en/latest/advanced-usage.html#ssl-warnings\n",
      "  warnings.warn(\n"
     ]
    },
    {
     "name": "stdout",
     "output_type": "stream",
     "text": [
      "{'Revenue': None, 'Net Income': None, 'Cash and cash equivalents': None, 'Goodwill': None, 'Intangible assets': None, 'Total assets': 84559.0, 'Commercial Paper': None, 'Other Current Borrowings': None, 'Long Term Debt': None, 'Short-Term Debt': None, 'Net cash used in operating activities': None, 'Purchases of property and equipment': None}\n",
      "(10) https://www.sec.gov/Archives/edgar/data/355379/000110465920127037/tm2034654-4_s1a.htm\n"
     ]
    },
    {
     "name": "stderr",
     "output_type": "stream",
     "text": [
      "c:\\python38\\lib\\site-packages\\urllib3\\connectionpool.py:981: InsecureRequestWarning: Unverified HTTPS request is being made to host 'www.sec.gov'. Adding certificate verification is strongly advised. See: https://urllib3.readthedocs.io/en/latest/advanced-usage.html#ssl-warnings\n",
      "  warnings.warn(\n"
     ]
    },
    {
     "name": "stdout",
     "output_type": "stream",
     "text": [
      "{'Revenue': None, 'Net Income': None, 'Cash and cash equivalents': 43716205.0, 'Goodwill': None, 'Intangible assets': 700000.0, 'Total assets': 536649.0, 'Commercial Paper': None, 'Other Current Borrowings': None, 'Long Term Debt': None, 'Short-Term Debt': None, 'Net cash used in operating activities': None, 'Purchases of property and equipment': None}\n",
      "(11) https://www.sec.gov/Archives/edgar/data/1015383/000149315220021984/forms-1a.htm\n"
     ]
    },
    {
     "name": "stderr",
     "output_type": "stream",
     "text": [
      "c:\\python38\\lib\\site-packages\\urllib3\\connectionpool.py:981: InsecureRequestWarning: Unverified HTTPS request is being made to host 'www.sec.gov'. Adding certificate verification is strongly advised. See: https://urllib3.readthedocs.io/en/latest/advanced-usage.html#ssl-warnings\n",
      "  warnings.warn(\n"
     ]
    },
    {
     "name": "stdout",
     "output_type": "stream",
     "text": [
      "{'Revenue': None, 'Net Income': None, 'Cash and cash equivalents': None, 'Goodwill': None, 'Intangible assets': None, 'Total assets': None, 'Commercial Paper': None, 'Other Current Borrowings': None, 'Long Term Debt': None, 'Short-Term Debt': None, 'Net cash used in operating activities': None, 'Purchases of property and equipment': None}\n",
      "(12) https://www.sec.gov/Archives/edgar/data/1716166/000149315220021982/forms1a.htm\n"
     ]
    },
    {
     "name": "stderr",
     "output_type": "stream",
     "text": [
      "c:\\python38\\lib\\site-packages\\urllib3\\connectionpool.py:981: InsecureRequestWarning: Unverified HTTPS request is being made to host 'www.sec.gov'. Adding certificate verification is strongly advised. See: https://urllib3.readthedocs.io/en/latest/advanced-usage.html#ssl-warnings\n",
      "  warnings.warn(\n"
     ]
    },
    {
     "name": "stdout",
     "output_type": "stream",
     "text": [
      "{'Revenue': None, 'Net Income': None, 'Cash and cash equivalents': None, 'Goodwill': None, 'Intangible assets': None, 'Total assets': None, 'Commercial Paper': None, 'Other Current Borrowings': None, 'Long Term Debt': None, 'Short-Term Debt': None, 'Net cash used in operating activities': None, 'Purchases of property and equipment': None}\n",
      "(13) https://www.sec.gov/Archives/edgar/data/1646188/000121390020038066/ea130146-s1a2_ondas.htm\n"
     ]
    },
    {
     "name": "stderr",
     "output_type": "stream",
     "text": [
      "c:\\python38\\lib\\site-packages\\urllib3\\connectionpool.py:981: InsecureRequestWarning: Unverified HTTPS request is being made to host 'www.sec.gov'. Adding certificate verification is strongly advised. See: https://urllib3.readthedocs.io/en/latest/advanced-usage.html#ssl-warnings\n",
      "  warnings.warn(\n"
     ]
    },
    {
     "name": "stdout",
     "output_type": "stream",
     "text": [
      "{'Revenue': 614026.0, 'Net Income': -9353706.0, 'Cash and cash equivalents': 2129013.0, 'Goodwill': None, 'Intangible assets': None, 'Total assets': 4815408.0, 'Commercial Paper': None, 'Other Current Borrowings': None, 'Long Term Debt': None, 'Short-Term Debt': None, 'Net cash used in operating activities': -4875137.0, 'Purchases of property and equipment': None}\n",
      "(14) https://www.sec.gov/Archives/edgar/data/1583771/000110465920126937/tm2034164d4_s1a.htm\n"
     ]
    },
    {
     "name": "stderr",
     "output_type": "stream",
     "text": [
      "c:\\python38\\lib\\site-packages\\urllib3\\connectionpool.py:981: InsecureRequestWarning: Unverified HTTPS request is being made to host 'www.sec.gov'. Adding certificate verification is strongly advised. See: https://urllib3.readthedocs.io/en/latest/advanced-usage.html#ssl-warnings\n",
      "  warnings.warn(\n"
     ]
    },
    {
     "name": "stdout",
     "output_type": "stream",
     "text": [
      "{'Revenue': None, 'Net Income': None, 'Cash and cash equivalents': None, 'Goodwill': None, 'Intangible assets': None, 'Total assets': None, 'Commercial Paper': None, 'Other Current Borrowings': None, 'Long Term Debt': None, 'Short-Term Debt': None, 'Net cash used in operating activities': None, 'Purchases of property and equipment': None}\n",
      "(15) https://www.sec.gov/Archives/edgar/data/1820953/000110465920126927/tm2026663-4_s1.htm\n"
     ]
    },
    {
     "name": "stderr",
     "output_type": "stream",
     "text": [
      "c:\\python38\\lib\\site-packages\\urllib3\\connectionpool.py:981: InsecureRequestWarning: Unverified HTTPS request is being made to host 'www.sec.gov'. Adding certificate verification is strongly advised. See: https://urllib3.readthedocs.io/en/latest/advanced-usage.html#ssl-warnings\n",
      "  warnings.warn(\n"
     ]
    },
    {
     "name": "stdout",
     "output_type": "stream",
     "text": [
      "{'Revenue': None, 'Net Income': -120455.0, 'Cash and cash equivalents': 684423.0, 'Goodwill': None, 'Intangible assets': None, 'Total assets': 2250549.0, 'Commercial Paper': None, 'Other Current Borrowings': None, 'Long Term Debt': None, 'Short-Term Debt': None, 'Net cash used in operating activities': None, 'Purchases of property and equipment': None}\n",
      "(16) https://www.sec.gov/Archives/edgar/data/1827090/000110465920126924/tm2030105-7_s1.htm\n"
     ]
    },
    {
     "name": "stderr",
     "output_type": "stream",
     "text": [
      "c:\\python38\\lib\\site-packages\\urllib3\\connectionpool.py:981: InsecureRequestWarning: Unverified HTTPS request is being made to host 'www.sec.gov'. Adding certificate verification is strongly advised. See: https://urllib3.readthedocs.io/en/latest/advanced-usage.html#ssl-warnings\n",
      "  warnings.warn(\n"
     ]
    },
    {
     "name": "stdout",
     "output_type": "stream",
     "text": [
      "{'Revenue': None, 'Net Income': 5050.0, 'Cash and cash equivalents': 29937.0, 'Goodwill': 515587.0, 'Intangible assets': None, 'Total assets': 1020380.0, 'Commercial Paper': None, 'Other Current Borrowings': None, 'Long Term Debt': None, 'Short-Term Debt': None, 'Net cash used in operating activities': None, 'Purchases of property and equipment': None}\n",
      "(17) https://www.sec.gov/Archives/edgar/data/1822479/000119312520297076/d93452ds1a.htm\n"
     ]
    },
    {
     "name": "stderr",
     "output_type": "stream",
     "text": [
      "c:\\python38\\lib\\site-packages\\urllib3\\connectionpool.py:981: InsecureRequestWarning: Unverified HTTPS request is being made to host 'www.sec.gov'. Adding certificate verification is strongly advised. See: https://urllib3.readthedocs.io/en/latest/advanced-usage.html#ssl-warnings\n",
      "  warnings.warn(\n"
     ]
    },
    {
     "name": "stdout",
     "output_type": "stream",
     "text": [
      "{'Revenue': None, 'Net Income': -20425.0, 'Cash and cash equivalents': 62863.0, 'Goodwill': 1035865.0, 'Intangible assets': None, 'Total assets': 2580674.0, 'Commercial Paper': None, 'Other Current Borrowings': None, 'Long Term Debt': None, 'Short-Term Debt': None, 'Net cash used in operating activities': None, 'Purchases of property and equipment': None}\n",
      "(18) https://www.sec.gov/Archives/edgar/data/1821769/000121390020038006/fs12020a1_liveoakacq2.htm\n"
     ]
    },
    {
     "name": "stderr",
     "output_type": "stream",
     "text": [
      "c:\\python38\\lib\\site-packages\\urllib3\\connectionpool.py:981: InsecureRequestWarning: Unverified HTTPS request is being made to host 'www.sec.gov'. Adding certificate verification is strongly advised. See: https://urllib3.readthedocs.io/en/latest/advanced-usage.html#ssl-warnings\n",
      "  warnings.warn(\n"
     ]
    },
    {
     "name": "stdout",
     "output_type": "stream",
     "text": [
      "{'Revenue': None, 'Net Income': None, 'Cash and cash equivalents': None, 'Goodwill': None, 'Intangible assets': None, 'Total assets': 129955.0, 'Commercial Paper': None, 'Other Current Borrowings': None, 'Long Term Debt': None, 'Short-Term Debt': None, 'Net cash used in operating activities': None, 'Purchases of property and equipment': None}\n",
      "(19) https://www.sec.gov/Archives/edgar/data/1799858/000091957420007244/d8647509_s1a-3.htm\n"
     ]
    },
    {
     "name": "stderr",
     "output_type": "stream",
     "text": [
      "c:\\python38\\lib\\site-packages\\urllib3\\connectionpool.py:981: InsecureRequestWarning: Unverified HTTPS request is being made to host 'www.sec.gov'. Adding certificate verification is strongly advised. See: https://urllib3.readthedocs.io/en/latest/advanced-usage.html#ssl-warnings\n",
      "  warnings.warn(\n"
     ]
    },
    {
     "name": "stdout",
     "output_type": "stream",
     "text": [
      "{'Revenue': None, 'Net Income': None, 'Cash and cash equivalents': None, 'Goodwill': None, 'Intangible assets': None, 'Total assets': None, 'Commercial Paper': None, 'Other Current Borrowings': None, 'Long Term Debt': None, 'Short-Term Debt': None, 'Net cash used in operating activities': None, 'Purchases of property and equipment': None}\n"
     ]
    }
   ],
   "source": [
    "for n, url in enumerate(df['linkToFilingDetails'][:20]):\n",
    "    print(f'({n}) {url}')\n",
    "    try:\n",
    "        dict = iterate_fields_dict(html=get_html(url), fields_dict=fields_dict)\n",
    "        result.append(dict)\n",
    "        print(dict)\n",
    "    except Exception as e:\n",
    "        print(e)"
   ]
  },
  {
   "cell_type": "code",
   "execution_count": 20,
   "metadata": {},
   "outputs": [
    {
     "data": {
      "text/html": [
       "<div>\n",
       "<style scoped>\n",
       "    .dataframe tbody tr th:only-of-type {\n",
       "        vertical-align: middle;\n",
       "    }\n",
       "\n",
       "    .dataframe tbody tr th {\n",
       "        vertical-align: top;\n",
       "    }\n",
       "\n",
       "    .dataframe thead th {\n",
       "        text-align: right;\n",
       "    }\n",
       "</style>\n",
       "<table border=\"1\" class=\"dataframe\">\n",
       "  <thead>\n",
       "    <tr style=\"text-align: right;\">\n",
       "      <th></th>\n",
       "      <th>Cash and cash equivalents</th>\n",
       "      <th>Commercial Paper</th>\n",
       "      <th>Goodwill</th>\n",
       "      <th>Intangible assets</th>\n",
       "      <th>Long Term Debt</th>\n",
       "      <th>Net Income</th>\n",
       "      <th>Net cash used in operating activities</th>\n",
       "      <th>Other Current Borrowings</th>\n",
       "      <th>Purchases of property and equipment</th>\n",
       "      <th>Revenue</th>\n",
       "      <th>Short-Term Debt</th>\n",
       "      <th>Total assets</th>\n",
       "    </tr>\n",
       "  </thead>\n",
       "  <tbody>\n",
       "    <tr>\n",
       "      <th>0</th>\n",
       "      <td>NaN</td>\n",
       "      <td>NaN</td>\n",
       "      <td>NaN</td>\n",
       "      <td>NaN</td>\n",
       "      <td>NaN</td>\n",
       "      <td>NaN</td>\n",
       "      <td>NaN</td>\n",
       "      <td>NaN</td>\n",
       "      <td>NaN</td>\n",
       "      <td>NaN</td>\n",
       "      <td>NaN</td>\n",
       "      <td>NaN</td>\n",
       "    </tr>\n",
       "    <tr>\n",
       "      <th>1</th>\n",
       "      <td>NaN</td>\n",
       "      <td>NaN</td>\n",
       "      <td>NaN</td>\n",
       "      <td>NaN</td>\n",
       "      <td>NaN</td>\n",
       "      <td>NaN</td>\n",
       "      <td>NaN</td>\n",
       "      <td>NaN</td>\n",
       "      <td>NaN</td>\n",
       "      <td>NaN</td>\n",
       "      <td>NaN</td>\n",
       "      <td>59841.0</td>\n",
       "    </tr>\n",
       "    <tr>\n",
       "      <th>2</th>\n",
       "      <td>NaN</td>\n",
       "      <td>NaN</td>\n",
       "      <td>NaN</td>\n",
       "      <td>NaN</td>\n",
       "      <td>NaN</td>\n",
       "      <td>-761.0</td>\n",
       "      <td>NaN</td>\n",
       "      <td>NaN</td>\n",
       "      <td>NaN</td>\n",
       "      <td>NaN</td>\n",
       "      <td>NaN</td>\n",
       "      <td>41739.0</td>\n",
       "    </tr>\n",
       "    <tr>\n",
       "      <th>3</th>\n",
       "      <td>801646.0</td>\n",
       "      <td>NaN</td>\n",
       "      <td>NaN</td>\n",
       "      <td>NaN</td>\n",
       "      <td>NaN</td>\n",
       "      <td>NaN</td>\n",
       "      <td>NaN</td>\n",
       "      <td>NaN</td>\n",
       "      <td>NaN</td>\n",
       "      <td>312773.0</td>\n",
       "      <td>NaN</td>\n",
       "      <td>1489541.0</td>\n",
       "    </tr>\n",
       "    <tr>\n",
       "      <th>4</th>\n",
       "      <td>486396.0</td>\n",
       "      <td>NaN</td>\n",
       "      <td>2153855.0</td>\n",
       "      <td>NaN</td>\n",
       "      <td>NaN</td>\n",
       "      <td>2469141.0</td>\n",
       "      <td>NaN</td>\n",
       "      <td>NaN</td>\n",
       "      <td>NaN</td>\n",
       "      <td>NaN</td>\n",
       "      <td>NaN</td>\n",
       "      <td>454689.0</td>\n",
       "    </tr>\n",
       "    <tr>\n",
       "      <th>5</th>\n",
       "      <td>NaN</td>\n",
       "      <td>NaN</td>\n",
       "      <td>NaN</td>\n",
       "      <td>NaN</td>\n",
       "      <td>NaN</td>\n",
       "      <td>-4727050.0</td>\n",
       "      <td>NaN</td>\n",
       "      <td>NaN</td>\n",
       "      <td>NaN</td>\n",
       "      <td>4298350.0</td>\n",
       "      <td>NaN</td>\n",
       "      <td>4214588.0</td>\n",
       "    </tr>\n",
       "    <tr>\n",
       "      <th>6</th>\n",
       "      <td>NaN</td>\n",
       "      <td>NaN</td>\n",
       "      <td>NaN</td>\n",
       "      <td>NaN</td>\n",
       "      <td>NaN</td>\n",
       "      <td>NaN</td>\n",
       "      <td>NaN</td>\n",
       "      <td>NaN</td>\n",
       "      <td>NaN</td>\n",
       "      <td>NaN</td>\n",
       "      <td>NaN</td>\n",
       "      <td>297405.0</td>\n",
       "    </tr>\n",
       "    <tr>\n",
       "      <th>7</th>\n",
       "      <td>NaN</td>\n",
       "      <td>NaN</td>\n",
       "      <td>NaN</td>\n",
       "      <td>NaN</td>\n",
       "      <td>NaN</td>\n",
       "      <td>NaN</td>\n",
       "      <td>NaN</td>\n",
       "      <td>NaN</td>\n",
       "      <td>NaN</td>\n",
       "      <td>NaN</td>\n",
       "      <td>NaN</td>\n",
       "      <td>NaN</td>\n",
       "    </tr>\n",
       "    <tr>\n",
       "      <th>8</th>\n",
       "      <td>NaN</td>\n",
       "      <td>NaN</td>\n",
       "      <td>NaN</td>\n",
       "      <td>NaN</td>\n",
       "      <td>NaN</td>\n",
       "      <td>NaN</td>\n",
       "      <td>NaN</td>\n",
       "      <td>NaN</td>\n",
       "      <td>NaN</td>\n",
       "      <td>NaN</td>\n",
       "      <td>NaN</td>\n",
       "      <td>NaN</td>\n",
       "    </tr>\n",
       "    <tr>\n",
       "      <th>9</th>\n",
       "      <td>NaN</td>\n",
       "      <td>NaN</td>\n",
       "      <td>NaN</td>\n",
       "      <td>NaN</td>\n",
       "      <td>NaN</td>\n",
       "      <td>NaN</td>\n",
       "      <td>NaN</td>\n",
       "      <td>NaN</td>\n",
       "      <td>NaN</td>\n",
       "      <td>NaN</td>\n",
       "      <td>NaN</td>\n",
       "      <td>84559.0</td>\n",
       "    </tr>\n",
       "    <tr>\n",
       "      <th>10</th>\n",
       "      <td>43716205.0</td>\n",
       "      <td>NaN</td>\n",
       "      <td>NaN</td>\n",
       "      <td>700000.0</td>\n",
       "      <td>NaN</td>\n",
       "      <td>NaN</td>\n",
       "      <td>NaN</td>\n",
       "      <td>NaN</td>\n",
       "      <td>NaN</td>\n",
       "      <td>NaN</td>\n",
       "      <td>NaN</td>\n",
       "      <td>536649.0</td>\n",
       "    </tr>\n",
       "    <tr>\n",
       "      <th>11</th>\n",
       "      <td>NaN</td>\n",
       "      <td>NaN</td>\n",
       "      <td>NaN</td>\n",
       "      <td>NaN</td>\n",
       "      <td>NaN</td>\n",
       "      <td>NaN</td>\n",
       "      <td>NaN</td>\n",
       "      <td>NaN</td>\n",
       "      <td>NaN</td>\n",
       "      <td>NaN</td>\n",
       "      <td>NaN</td>\n",
       "      <td>NaN</td>\n",
       "    </tr>\n",
       "    <tr>\n",
       "      <th>12</th>\n",
       "      <td>NaN</td>\n",
       "      <td>NaN</td>\n",
       "      <td>NaN</td>\n",
       "      <td>NaN</td>\n",
       "      <td>NaN</td>\n",
       "      <td>NaN</td>\n",
       "      <td>NaN</td>\n",
       "      <td>NaN</td>\n",
       "      <td>NaN</td>\n",
       "      <td>NaN</td>\n",
       "      <td>NaN</td>\n",
       "      <td>NaN</td>\n",
       "    </tr>\n",
       "    <tr>\n",
       "      <th>13</th>\n",
       "      <td>2129013.0</td>\n",
       "      <td>NaN</td>\n",
       "      <td>NaN</td>\n",
       "      <td>NaN</td>\n",
       "      <td>NaN</td>\n",
       "      <td>-9353706.0</td>\n",
       "      <td>-4875137.0</td>\n",
       "      <td>NaN</td>\n",
       "      <td>NaN</td>\n",
       "      <td>614026.0</td>\n",
       "      <td>NaN</td>\n",
       "      <td>4815408.0</td>\n",
       "    </tr>\n",
       "    <tr>\n",
       "      <th>14</th>\n",
       "      <td>NaN</td>\n",
       "      <td>NaN</td>\n",
       "      <td>NaN</td>\n",
       "      <td>NaN</td>\n",
       "      <td>NaN</td>\n",
       "      <td>NaN</td>\n",
       "      <td>NaN</td>\n",
       "      <td>NaN</td>\n",
       "      <td>NaN</td>\n",
       "      <td>NaN</td>\n",
       "      <td>NaN</td>\n",
       "      <td>NaN</td>\n",
       "    </tr>\n",
       "    <tr>\n",
       "      <th>15</th>\n",
       "      <td>684423.0</td>\n",
       "      <td>NaN</td>\n",
       "      <td>NaN</td>\n",
       "      <td>NaN</td>\n",
       "      <td>NaN</td>\n",
       "      <td>-120455.0</td>\n",
       "      <td>NaN</td>\n",
       "      <td>NaN</td>\n",
       "      <td>NaN</td>\n",
       "      <td>NaN</td>\n",
       "      <td>NaN</td>\n",
       "      <td>2250549.0</td>\n",
       "    </tr>\n",
       "    <tr>\n",
       "      <th>16</th>\n",
       "      <td>29937.0</td>\n",
       "      <td>NaN</td>\n",
       "      <td>515587.0</td>\n",
       "      <td>NaN</td>\n",
       "      <td>NaN</td>\n",
       "      <td>5050.0</td>\n",
       "      <td>NaN</td>\n",
       "      <td>NaN</td>\n",
       "      <td>NaN</td>\n",
       "      <td>NaN</td>\n",
       "      <td>NaN</td>\n",
       "      <td>1020380.0</td>\n",
       "    </tr>\n",
       "    <tr>\n",
       "      <th>17</th>\n",
       "      <td>62863.0</td>\n",
       "      <td>NaN</td>\n",
       "      <td>1035865.0</td>\n",
       "      <td>NaN</td>\n",
       "      <td>NaN</td>\n",
       "      <td>-20425.0</td>\n",
       "      <td>NaN</td>\n",
       "      <td>NaN</td>\n",
       "      <td>NaN</td>\n",
       "      <td>NaN</td>\n",
       "      <td>NaN</td>\n",
       "      <td>2580674.0</td>\n",
       "    </tr>\n",
       "    <tr>\n",
       "      <th>18</th>\n",
       "      <td>NaN</td>\n",
       "      <td>NaN</td>\n",
       "      <td>NaN</td>\n",
       "      <td>NaN</td>\n",
       "      <td>NaN</td>\n",
       "      <td>NaN</td>\n",
       "      <td>NaN</td>\n",
       "      <td>NaN</td>\n",
       "      <td>NaN</td>\n",
       "      <td>NaN</td>\n",
       "      <td>NaN</td>\n",
       "      <td>129955.0</td>\n",
       "    </tr>\n",
       "    <tr>\n",
       "      <th>19</th>\n",
       "      <td>NaN</td>\n",
       "      <td>NaN</td>\n",
       "      <td>NaN</td>\n",
       "      <td>NaN</td>\n",
       "      <td>NaN</td>\n",
       "      <td>NaN</td>\n",
       "      <td>NaN</td>\n",
       "      <td>NaN</td>\n",
       "      <td>NaN</td>\n",
       "      <td>NaN</td>\n",
       "      <td>NaN</td>\n",
       "      <td>NaN</td>\n",
       "    </tr>\n",
       "  </tbody>\n",
       "</table>\n",
       "</div>"
      ],
      "text/plain": [
       "    Cash and cash equivalents  Commercial Paper   Goodwill  Intangible assets  \\\n",
       "0                         NaN               NaN        NaN                NaN   \n",
       "1                         NaN               NaN        NaN                NaN   \n",
       "2                         NaN               NaN        NaN                NaN   \n",
       "3                    801646.0               NaN        NaN                NaN   \n",
       "4                    486396.0               NaN  2153855.0                NaN   \n",
       "5                         NaN               NaN        NaN                NaN   \n",
       "6                         NaN               NaN        NaN                NaN   \n",
       "7                         NaN               NaN        NaN                NaN   \n",
       "8                         NaN               NaN        NaN                NaN   \n",
       "9                         NaN               NaN        NaN                NaN   \n",
       "10                 43716205.0               NaN        NaN           700000.0   \n",
       "11                        NaN               NaN        NaN                NaN   \n",
       "12                        NaN               NaN        NaN                NaN   \n",
       "13                  2129013.0               NaN        NaN                NaN   \n",
       "14                        NaN               NaN        NaN                NaN   \n",
       "15                   684423.0               NaN        NaN                NaN   \n",
       "16                    29937.0               NaN   515587.0                NaN   \n",
       "17                    62863.0               NaN  1035865.0                NaN   \n",
       "18                        NaN               NaN        NaN                NaN   \n",
       "19                        NaN               NaN        NaN                NaN   \n",
       "\n",
       "    Long Term Debt  Net Income  Net cash used in operating activities  \\\n",
       "0              NaN         NaN                                    NaN   \n",
       "1              NaN         NaN                                    NaN   \n",
       "2              NaN      -761.0                                    NaN   \n",
       "3              NaN         NaN                                    NaN   \n",
       "4              NaN   2469141.0                                    NaN   \n",
       "5              NaN  -4727050.0                                    NaN   \n",
       "6              NaN         NaN                                    NaN   \n",
       "7              NaN         NaN                                    NaN   \n",
       "8              NaN         NaN                                    NaN   \n",
       "9              NaN         NaN                                    NaN   \n",
       "10             NaN         NaN                                    NaN   \n",
       "11             NaN         NaN                                    NaN   \n",
       "12             NaN         NaN                                    NaN   \n",
       "13             NaN  -9353706.0                             -4875137.0   \n",
       "14             NaN         NaN                                    NaN   \n",
       "15             NaN   -120455.0                                    NaN   \n",
       "16             NaN      5050.0                                    NaN   \n",
       "17             NaN    -20425.0                                    NaN   \n",
       "18             NaN         NaN                                    NaN   \n",
       "19             NaN         NaN                                    NaN   \n",
       "\n",
       "    Other Current Borrowings  Purchases of property and equipment    Revenue  \\\n",
       "0                        NaN                                  NaN        NaN   \n",
       "1                        NaN                                  NaN        NaN   \n",
       "2                        NaN                                  NaN        NaN   \n",
       "3                        NaN                                  NaN   312773.0   \n",
       "4                        NaN                                  NaN        NaN   \n",
       "5                        NaN                                  NaN  4298350.0   \n",
       "6                        NaN                                  NaN        NaN   \n",
       "7                        NaN                                  NaN        NaN   \n",
       "8                        NaN                                  NaN        NaN   \n",
       "9                        NaN                                  NaN        NaN   \n",
       "10                       NaN                                  NaN        NaN   \n",
       "11                       NaN                                  NaN        NaN   \n",
       "12                       NaN                                  NaN        NaN   \n",
       "13                       NaN                                  NaN   614026.0   \n",
       "14                       NaN                                  NaN        NaN   \n",
       "15                       NaN                                  NaN        NaN   \n",
       "16                       NaN                                  NaN        NaN   \n",
       "17                       NaN                                  NaN        NaN   \n",
       "18                       NaN                                  NaN        NaN   \n",
       "19                       NaN                                  NaN        NaN   \n",
       "\n",
       "    Short-Term Debt  Total assets  \n",
       "0               NaN           NaN  \n",
       "1               NaN       59841.0  \n",
       "2               NaN       41739.0  \n",
       "3               NaN     1489541.0  \n",
       "4               NaN      454689.0  \n",
       "5               NaN     4214588.0  \n",
       "6               NaN      297405.0  \n",
       "7               NaN           NaN  \n",
       "8               NaN           NaN  \n",
       "9               NaN       84559.0  \n",
       "10              NaN      536649.0  \n",
       "11              NaN           NaN  \n",
       "12              NaN           NaN  \n",
       "13              NaN     4815408.0  \n",
       "14              NaN           NaN  \n",
       "15              NaN     2250549.0  \n",
       "16              NaN     1020380.0  \n",
       "17              NaN     2580674.0  \n",
       "18              NaN      129955.0  \n",
       "19              NaN           NaN  "
      ]
     },
     "execution_count": 20,
     "metadata": {},
     "output_type": "execute_result"
    }
   ],
   "source": [
    "output = pd.DataFrame()\n",
    "for item in result:\n",
    "    output = output.append(item, ignore_index=True)\n",
    "output\n"
   ]
  },
  {
   "cell_type": "code",
   "execution_count": null,
   "metadata": {},
   "outputs": [],
   "source": []
  },
  {
   "cell_type": "code",
   "execution_count": 16,
   "metadata": {},
   "outputs": [],
   "source": [
    "# result = pd.concat([df, output], axis=1, sort=False)\n",
    "# result.to_csv('s1-result_.csv')"
   ]
  },
  {
   "cell_type": "code",
   "execution_count": 19,
   "metadata": {},
   "outputs": [],
   "source": [
    "# result.info()"
   ]
  },
  {
   "cell_type": "code",
   "execution_count": null,
   "metadata": {},
   "outputs": [],
   "source": []
  }
 ],
 "metadata": {
  "kernelspec": {
   "display_name": "Python 3",
   "language": "python",
   "name": "python3"
  },
  "language_info": {
   "codemirror_mode": {
    "name": "ipython",
    "version": 3
   },
   "file_extension": ".py",
   "mimetype": "text/x-python",
   "name": "python",
   "nbconvert_exporter": "python",
   "pygments_lexer": "ipython3",
   "version": "3.8.6"
  }
 },
 "nbformat": 4,
 "nbformat_minor": 4
}
