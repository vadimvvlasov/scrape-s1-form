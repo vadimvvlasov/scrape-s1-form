{
 "cells": [
  {
   "cell_type": "markdown",
   "metadata": {},
   "source": [
    "# Web Scraping using BeautifulSoup\n",
    "\n",
    "\n",
    "Суть полей, которые нас интересуют, отражена ниже. Они могут назваться разными похожими вариациями. Весь их перечень я смогу дать с течением времени, когда буду встречать новые варианты при анализе форм S-1\n",
    "\n",
    "From **Statement of Operations:**\n",
    "- Revenue / Total Revenue\n",
    "- Net Income / Net Loss\n",
    "\n",
    "From **Balance Sheet:**\n",
    "- Cash and cash equivalents\n",
    "- Goodwill\n",
    "- Intangible assets\n",
    "- Total assets\n",
    "- Long Term Debt\n",
    "- Commercial Paper\n",
    "- Other Current Borrowings\n",
    "- Long Term Debt, current portion\n",
    "- Short-Term Debt\n",
    "\n",
    "From **Statement of Cash Flow:**\n",
    "- Net cash used in operating activities\n",
    "- Purchases of property and equipment / Proceeds from property and equipment"
   ]
  },
  {
   "cell_type": "code",
   "execution_count": 1,
   "metadata": {},
   "outputs": [],
   "source": [
    "import pandas as pd\n",
    "import time\n",
    "\n",
    "from form_parser import *\n",
    "\n",
    "# pd.set_option('display.max_colwidth', None)"
   ]
  },
  {
   "cell_type": "code",
   "execution_count": 2,
   "metadata": {},
   "outputs": [
    {
     "name": "stdout",
     "output_type": "stream",
     "text": [
      "There are 10000 companies in the list\n",
      "Index(['Unnamed: 0', 'id', 'accessionNo', 'cik', 'ticker', 'companyName',\n",
      "       'companyNameLong', 'formType', 'description', 'filedAt', 'linkToTxt',\n",
      "       'linkToHtml', 'linkToXbrl', 'linkToFilingDetails', 'entities',\n",
      "       'documentFormatFiles', 'dataFiles',\n",
      "       'seriesAndClassesContractsInformation'],\n",
      "      dtype='object')\n"
     ]
    },
    {
     "data": {
      "text/html": [
       "<div>\n",
       "<style scoped>\n",
       "    .dataframe tbody tr th:only-of-type {\n",
       "        vertical-align: middle;\n",
       "    }\n",
       "\n",
       "    .dataframe tbody tr th {\n",
       "        vertical-align: top;\n",
       "    }\n",
       "\n",
       "    .dataframe thead th {\n",
       "        text-align: right;\n",
       "    }\n",
       "</style>\n",
       "<table border=\"1\" class=\"dataframe\">\n",
       "  <thead>\n",
       "    <tr style=\"text-align: right;\">\n",
       "      <th></th>\n",
       "      <th>Unnamed: 0</th>\n",
       "      <th>id</th>\n",
       "      <th>accessionNo</th>\n",
       "      <th>cik</th>\n",
       "      <th>ticker</th>\n",
       "      <th>companyName</th>\n",
       "      <th>companyNameLong</th>\n",
       "      <th>formType</th>\n",
       "      <th>description</th>\n",
       "      <th>filedAt</th>\n",
       "      <th>linkToTxt</th>\n",
       "      <th>linkToHtml</th>\n",
       "      <th>linkToXbrl</th>\n",
       "      <th>linkToFilingDetails</th>\n",
       "      <th>entities</th>\n",
       "      <th>documentFormatFiles</th>\n",
       "      <th>dataFiles</th>\n",
       "      <th>seriesAndClassesContractsInformation</th>\n",
       "    </tr>\n",
       "  </thead>\n",
       "  <tbody>\n",
       "    <tr>\n",
       "      <th>0</th>\n",
       "      <td>0</td>\n",
       "      <td>86a54bcc128dae366ff72b596ae1b9c3</td>\n",
       "      <td>0001829126-20-000154</td>\n",
       "      <td>1828957</td>\n",
       "      <td>NaN</td>\n",
       "      <td>DD3 Acquisition Corp. II</td>\n",
       "      <td>DD3 Acquisition Corp. II (Filer)</td>\n",
       "      <td>S-1</td>\n",
       "      <td>Form S-1 - General form for registration of se...</td>\n",
       "      <td>2020-11-19T17:28:19-05:00</td>\n",
       "      <td>https://www.sec.gov/Archives/edgar/data/182895...</td>\n",
       "      <td>https://www.sec.gov/Archives/edgar/data/182895...</td>\n",
       "      <td>NaN</td>\n",
       "      <td>https://www.sec.gov/Archives/edgar/data/182895...</td>\n",
       "      <td>[{'companyName': 'DD3 Acquisition Corp. II (Fi...</td>\n",
       "      <td>[{'sequence': '1', 'description': 'S-1', 'docu...</td>\n",
       "      <td>[]</td>\n",
       "      <td>[]</td>\n",
       "    </tr>\n",
       "    <tr>\n",
       "      <th>1</th>\n",
       "      <td>1</td>\n",
       "      <td>66894d57b0692c458313da9c59778dbf</td>\n",
       "      <td>0000950103-20-022555</td>\n",
       "      <td>1826991</td>\n",
       "      <td>NaN</td>\n",
       "      <td>Trepont Acquistion Corp I</td>\n",
       "      <td>Trepont Acquistion Corp I (Filer)</td>\n",
       "      <td>S-1/A</td>\n",
       "      <td>Form S-1/A - General form for registration of ...</td>\n",
       "      <td>2020-11-19T17:25:40-05:00</td>\n",
       "      <td>https://www.sec.gov/Archives/edgar/data/182699...</td>\n",
       "      <td>https://www.sec.gov/Archives/edgar/data/182699...</td>\n",
       "      <td>NaN</td>\n",
       "      <td>https://www.sec.gov/Archives/edgar/data/182699...</td>\n",
       "      <td>[{'companyName': 'Trepont Acquistion Corp I (F...</td>\n",
       "      <td>[{'sequence': '1', 'description': 'FORM S-1/A'...</td>\n",
       "      <td>[]</td>\n",
       "      <td>[]</td>\n",
       "    </tr>\n",
       "    <tr>\n",
       "      <th>2</th>\n",
       "      <td>2</td>\n",
       "      <td>b8dfd567decca580e602fe0a2650c271</td>\n",
       "      <td>0001213900-20-038278</td>\n",
       "      <td>1826889</td>\n",
       "      <td>FRX</td>\n",
       "      <td>Forest Road Acquisition Corp.</td>\n",
       "      <td>Forest Road Acquisition Corp. (Filer)</td>\n",
       "      <td>S-1/A</td>\n",
       "      <td>Form S-1/A - General form for registration of ...</td>\n",
       "      <td>2020-11-19T17:24:33-05:00</td>\n",
       "      <td>https://www.sec.gov/Archives/edgar/data/182688...</td>\n",
       "      <td>https://www.sec.gov/Archives/edgar/data/182688...</td>\n",
       "      <td>NaN</td>\n",
       "      <td>https://www.sec.gov/Archives/edgar/data/182688...</td>\n",
       "      <td>[{'companyName': 'Forest Road Acquisition Corp...</td>\n",
       "      <td>[{'sequence': '1', 'description': 'REGISTRATIO...</td>\n",
       "      <td>[]</td>\n",
       "      <td>[]</td>\n",
       "    </tr>\n",
       "  </tbody>\n",
       "</table>\n",
       "</div>"
      ],
      "text/plain": [
       "   Unnamed: 0                                id           accessionNo  \\\n",
       "0           0  86a54bcc128dae366ff72b596ae1b9c3  0001829126-20-000154   \n",
       "1           1  66894d57b0692c458313da9c59778dbf  0000950103-20-022555   \n",
       "2           2  b8dfd567decca580e602fe0a2650c271  0001213900-20-038278   \n",
       "\n",
       "       cik ticker                    companyName  \\\n",
       "0  1828957    NaN       DD3 Acquisition Corp. II   \n",
       "1  1826991    NaN      Trepont Acquistion Corp I   \n",
       "2  1826889    FRX  Forest Road Acquisition Corp.   \n",
       "\n",
       "                         companyNameLong formType  \\\n",
       "0       DD3 Acquisition Corp. II (Filer)      S-1   \n",
       "1      Trepont Acquistion Corp I (Filer)    S-1/A   \n",
       "2  Forest Road Acquisition Corp. (Filer)    S-1/A   \n",
       "\n",
       "                                         description  \\\n",
       "0  Form S-1 - General form for registration of se...   \n",
       "1  Form S-1/A - General form for registration of ...   \n",
       "2  Form S-1/A - General form for registration of ...   \n",
       "\n",
       "                     filedAt  \\\n",
       "0  2020-11-19T17:28:19-05:00   \n",
       "1  2020-11-19T17:25:40-05:00   \n",
       "2  2020-11-19T17:24:33-05:00   \n",
       "\n",
       "                                           linkToTxt  \\\n",
       "0  https://www.sec.gov/Archives/edgar/data/182895...   \n",
       "1  https://www.sec.gov/Archives/edgar/data/182699...   \n",
       "2  https://www.sec.gov/Archives/edgar/data/182688...   \n",
       "\n",
       "                                          linkToHtml  linkToXbrl  \\\n",
       "0  https://www.sec.gov/Archives/edgar/data/182895...         NaN   \n",
       "1  https://www.sec.gov/Archives/edgar/data/182699...         NaN   \n",
       "2  https://www.sec.gov/Archives/edgar/data/182688...         NaN   \n",
       "\n",
       "                                 linkToFilingDetails  \\\n",
       "0  https://www.sec.gov/Archives/edgar/data/182895...   \n",
       "1  https://www.sec.gov/Archives/edgar/data/182699...   \n",
       "2  https://www.sec.gov/Archives/edgar/data/182688...   \n",
       "\n",
       "                                            entities  \\\n",
       "0  [{'companyName': 'DD3 Acquisition Corp. II (Fi...   \n",
       "1  [{'companyName': 'Trepont Acquistion Corp I (F...   \n",
       "2  [{'companyName': 'Forest Road Acquisition Corp...   \n",
       "\n",
       "                                 documentFormatFiles dataFiles  \\\n",
       "0  [{'sequence': '1', 'description': 'S-1', 'docu...        []   \n",
       "1  [{'sequence': '1', 'description': 'FORM S-1/A'...        []   \n",
       "2  [{'sequence': '1', 'description': 'REGISTRATIO...        []   \n",
       "\n",
       "  seriesAndClassesContractsInformation  \n",
       "0                                   []  \n",
       "1                                   []  \n",
       "2                                   []  "
      ]
     },
     "execution_count": 2,
     "metadata": {},
     "output_type": "execute_result"
    }
   ],
   "source": [
    "df = pd.read_csv('s1-list.csv')\n",
    "print(f'There are {len(df)} companies in the list')\n",
    "print(df.columns)\n",
    "df[['ticker','companyName', 'linkToFilingDetails']].head()\n",
    "df.head(3)"
   ]
  },
  {
   "cell_type": "markdown",
   "metadata": {},
   "source": [
    "## Extract data"
   ]
  },
  {
   "cell_type": "code",
   "execution_count": null,
   "metadata": {
    "scrolled": true
   },
   "outputs": [
    {
     "name": "stdout",
     "output_type": "stream",
     "text": [
      "(0) https://www.sec.gov/Archives/edgar/data/1828957/000182912620000154/dd3acqcorpii_s1.htm\n"
     ]
    },
    {
     "name": "stderr",
     "output_type": "stream",
     "text": [
      "c:\\python38\\lib\\site-packages\\urllib3\\connectionpool.py:981: InsecureRequestWarning: Unverified HTTPS request is being made to host 'www.sec.gov'. Adding certificate verification is strongly advised. See: https://urllib3.readthedocs.io/en/latest/advanced-usage.html#ssl-warnings\n",
      "  warnings.warn(\n"
     ]
    },
    {
     "name": "stdout",
     "output_type": "stream",
     "text": [
      "{'Revenue': None, 'Net Income': None, 'Cash and cash equivalents': None, 'Goodwill': None, 'Intangible assets': None, 'Total assets': None, 'Commercial Paper': None, 'Other Current Borrowings': None, 'Long Term Debt': None, 'Short-Term Debt': None, 'Net cash used in operating activities': None, 'Purchases of property and equipment': None}\n",
      "(1) https://www.sec.gov/Archives/edgar/data/1826991/000095010320022555/dp141189_s1a.htm\n"
     ]
    },
    {
     "name": "stderr",
     "output_type": "stream",
     "text": [
      "c:\\python38\\lib\\site-packages\\urllib3\\connectionpool.py:981: InsecureRequestWarning: Unverified HTTPS request is being made to host 'www.sec.gov'. Adding certificate verification is strongly advised. See: https://urllib3.readthedocs.io/en/latest/advanced-usage.html#ssl-warnings\n",
      "  warnings.warn(\n"
     ]
    },
    {
     "name": "stdout",
     "output_type": "stream",
     "text": [
      "{'Revenue': None, 'Net Income': None, 'Cash and cash equivalents': None, 'Goodwill': None, 'Intangible assets': None, 'Total assets': 59841.0, 'Commercial Paper': None, 'Other Current Borrowings': None, 'Long Term Debt': None, 'Short-Term Debt': None, 'Net cash used in operating activities': None, 'Purchases of property and equipment': None}\n",
      "(2) https://www.sec.gov/Archives/edgar/data/1826889/000121390020038278/fs12020a1_forestroadacq.htm\n"
     ]
    },
    {
     "name": "stderr",
     "output_type": "stream",
     "text": [
      "c:\\python38\\lib\\site-packages\\urllib3\\connectionpool.py:981: InsecureRequestWarning: Unverified HTTPS request is being made to host 'www.sec.gov'. Adding certificate verification is strongly advised. See: https://urllib3.readthedocs.io/en/latest/advanced-usage.html#ssl-warnings\n",
      "  warnings.warn(\n"
     ]
    },
    {
     "name": "stdout",
     "output_type": "stream",
     "text": [
      "{'Revenue': None, 'Net Income': -761.0, 'Cash and cash equivalents': None, 'Goodwill': None, 'Intangible assets': None, 'Total assets': 41739.0, 'Commercial Paper': None, 'Other Current Borrowings': None, 'Long Term Debt': None, 'Short-Term Debt': None, 'Net cash used in operating activities': None, 'Purchases of property and equipment': None}\n",
      "(3) https://www.sec.gov/Archives/edgar/data/1315098/000119312520298230/d87104ds1.htm\n"
     ]
    },
    {
     "name": "stderr",
     "output_type": "stream",
     "text": [
      "c:\\python38\\lib\\site-packages\\urllib3\\connectionpool.py:981: InsecureRequestWarning: Unverified HTTPS request is being made to host 'www.sec.gov'. Adding certificate verification is strongly advised. See: https://urllib3.readthedocs.io/en/latest/advanced-usage.html#ssl-warnings\n",
      "  warnings.warn(\n"
     ]
    },
    {
     "name": "stdout",
     "output_type": "stream",
     "text": [
      "{'Revenue': 312773.0, 'Net Income': None, 'Cash and cash equivalents': 801646.0, 'Goodwill': None, 'Intangible assets': None, 'Total assets': 1489541.0, 'Commercial Paper': None, 'Other Current Borrowings': None, 'Long Term Debt': None, 'Short-Term Debt': None, 'Net cash used in operating activities': None, 'Purchases of property and equipment': None}\n",
      "(4) https://www.sec.gov/Archives/edgar/data/1776661/000119312520298162/d25439ds1.htm\n"
     ]
    },
    {
     "name": "stderr",
     "output_type": "stream",
     "text": [
      "c:\\python38\\lib\\site-packages\\urllib3\\connectionpool.py:981: InsecureRequestWarning: Unverified HTTPS request is being made to host 'www.sec.gov'. Adding certificate verification is strongly advised. See: https://urllib3.readthedocs.io/en/latest/advanced-usage.html#ssl-warnings\n",
      "  warnings.warn(\n"
     ]
    },
    {
     "name": "stdout",
     "output_type": "stream",
     "text": [
      "{'Revenue': None, 'Net Income': 2469141.0, 'Cash and cash equivalents': 486396.0, 'Goodwill': 2153855.0, 'Intangible assets': None, 'Total assets': 454689.0, 'Commercial Paper': None, 'Other Current Borrowings': None, 'Long Term Debt': None, 'Short-Term Debt': None, 'Net cash used in operating activities': None, 'Purchases of property and equipment': None}\n",
      "(5) https://www.sec.gov/Archives/edgar/data/1558569/000110465920127325/tm2035427-1_s1.htm\n"
     ]
    },
    {
     "name": "stderr",
     "output_type": "stream",
     "text": [
      "c:\\python38\\lib\\site-packages\\urllib3\\connectionpool.py:981: InsecureRequestWarning: Unverified HTTPS request is being made to host 'www.sec.gov'. Adding certificate verification is strongly advised. See: https://urllib3.readthedocs.io/en/latest/advanced-usage.html#ssl-warnings\n",
      "  warnings.warn(\n"
     ]
    },
    {
     "name": "stdout",
     "output_type": "stream",
     "text": [
      "{'Revenue': 4298350.0, 'Net Income': -4727050.0, 'Cash and cash equivalents': None, 'Goodwill': None, 'Intangible assets': None, 'Total assets': 4214588.0, 'Commercial Paper': None, 'Other Current Borrowings': None, 'Long Term Debt': None, 'Short-Term Debt': None, 'Net cash used in operating activities': None, 'Purchases of property and equipment': None}\n",
      "(6) https://www.sec.gov/Archives/edgar/data/1722438/000121390020038221/fs12020a1_capitolinvest5.htm\n"
     ]
    },
    {
     "name": "stderr",
     "output_type": "stream",
     "text": [
      "c:\\python38\\lib\\site-packages\\urllib3\\connectionpool.py:981: InsecureRequestWarning: Unverified HTTPS request is being made to host 'www.sec.gov'. Adding certificate verification is strongly advised. See: https://urllib3.readthedocs.io/en/latest/advanced-usage.html#ssl-warnings\n",
      "  warnings.warn(\n"
     ]
    },
    {
     "name": "stdout",
     "output_type": "stream",
     "text": [
      "{'Revenue': None, 'Net Income': None, 'Cash and cash equivalents': None, 'Goodwill': None, 'Intangible assets': None, 'Total assets': 297405.0, 'Commercial Paper': None, 'Other Current Borrowings': None, 'Long Term Debt': None, 'Short-Term Debt': None, 'Net cash used in operating activities': None, 'Purchases of property and equipment': None}\n",
      "(7) https://www.sec.gov/Archives/edgar/data/1015383/000149315220022015/forms-1a.htm\n"
     ]
    },
    {
     "name": "stderr",
     "output_type": "stream",
     "text": [
      "c:\\python38\\lib\\site-packages\\urllib3\\connectionpool.py:981: InsecureRequestWarning: Unverified HTTPS request is being made to host 'www.sec.gov'. Adding certificate verification is strongly advised. See: https://urllib3.readthedocs.io/en/latest/advanced-usage.html#ssl-warnings\n",
      "  warnings.warn(\n"
     ]
    },
    {
     "name": "stdout",
     "output_type": "stream",
     "text": [
      "{'Revenue': None, 'Net Income': None, 'Cash and cash equivalents': None, 'Goodwill': None, 'Intangible assets': None, 'Total assets': None, 'Commercial Paper': None, 'Other Current Borrowings': None, 'Long Term Debt': None, 'Short-Term Debt': None, 'Net cash used in operating activities': None, 'Purchases of property and equipment': None}\n",
      "(8) https://www.sec.gov/Archives/edgar/data/1831992/000110465920127110/tm2036073-1_s1.htm\n"
     ]
    },
    {
     "name": "stderr",
     "output_type": "stream",
     "text": [
      "c:\\python38\\lib\\site-packages\\urllib3\\connectionpool.py:981: InsecureRequestWarning: Unverified HTTPS request is being made to host 'www.sec.gov'. Adding certificate verification is strongly advised. See: https://urllib3.readthedocs.io/en/latest/advanced-usage.html#ssl-warnings\n",
      "  warnings.warn(\n"
     ]
    },
    {
     "name": "stdout",
     "output_type": "stream",
     "text": [
      "{'Revenue': None, 'Net Income': None, 'Cash and cash equivalents': None, 'Goodwill': None, 'Intangible assets': None, 'Total assets': None, 'Commercial Paper': None, 'Other Current Borrowings': None, 'Long Term Debt': None, 'Short-Term Debt': None, 'Net cash used in operating activities': None, 'Purchases of property and equipment': None}\n",
      "(9) https://www.sec.gov/Archives/edgar/data/1822966/000110465920127045/tm2029458-6_s1a.htm\n"
     ]
    },
    {
     "name": "stderr",
     "output_type": "stream",
     "text": [
      "c:\\python38\\lib\\site-packages\\urllib3\\connectionpool.py:981: InsecureRequestWarning: Unverified HTTPS request is being made to host 'www.sec.gov'. Adding certificate verification is strongly advised. See: https://urllib3.readthedocs.io/en/latest/advanced-usage.html#ssl-warnings\n",
      "  warnings.warn(\n"
     ]
    },
    {
     "name": "stdout",
     "output_type": "stream",
     "text": [
      "{'Revenue': None, 'Net Income': None, 'Cash and cash equivalents': None, 'Goodwill': None, 'Intangible assets': None, 'Total assets': 84559.0, 'Commercial Paper': None, 'Other Current Borrowings': None, 'Long Term Debt': None, 'Short-Term Debt': None, 'Net cash used in operating activities': None, 'Purchases of property and equipment': None}\n",
      "(10) https://www.sec.gov/Archives/edgar/data/355379/000110465920127037/tm2034654-4_s1a.htm\n"
     ]
    },
    {
     "name": "stderr",
     "output_type": "stream",
     "text": [
      "c:\\python38\\lib\\site-packages\\urllib3\\connectionpool.py:981: InsecureRequestWarning: Unverified HTTPS request is being made to host 'www.sec.gov'. Adding certificate verification is strongly advised. See: https://urllib3.readthedocs.io/en/latest/advanced-usage.html#ssl-warnings\n",
      "  warnings.warn(\n"
     ]
    },
    {
     "name": "stdout",
     "output_type": "stream",
     "text": [
      "{'Revenue': None, 'Net Income': None, 'Cash and cash equivalents': 43716205.0, 'Goodwill': None, 'Intangible assets': 700000.0, 'Total assets': 536649.0, 'Commercial Paper': None, 'Other Current Borrowings': None, 'Long Term Debt': None, 'Short-Term Debt': None, 'Net cash used in operating activities': None, 'Purchases of property and equipment': None}\n",
      "(11) https://www.sec.gov/Archives/edgar/data/1015383/000149315220021984/forms-1a.htm\n"
     ]
    },
    {
     "name": "stderr",
     "output_type": "stream",
     "text": [
      "c:\\python38\\lib\\site-packages\\urllib3\\connectionpool.py:981: InsecureRequestWarning: Unverified HTTPS request is being made to host 'www.sec.gov'. Adding certificate verification is strongly advised. See: https://urllib3.readthedocs.io/en/latest/advanced-usage.html#ssl-warnings\n",
      "  warnings.warn(\n"
     ]
    },
    {
     "name": "stdout",
     "output_type": "stream",
     "text": [
      "{'Revenue': None, 'Net Income': None, 'Cash and cash equivalents': None, 'Goodwill': None, 'Intangible assets': None, 'Total assets': None, 'Commercial Paper': None, 'Other Current Borrowings': None, 'Long Term Debt': None, 'Short-Term Debt': None, 'Net cash used in operating activities': None, 'Purchases of property and equipment': None}\n",
      "(12) https://www.sec.gov/Archives/edgar/data/1716166/000149315220021982/forms1a.htm\n"
     ]
    },
    {
     "name": "stderr",
     "output_type": "stream",
     "text": [
      "c:\\python38\\lib\\site-packages\\urllib3\\connectionpool.py:981: InsecureRequestWarning: Unverified HTTPS request is being made to host 'www.sec.gov'. Adding certificate verification is strongly advised. See: https://urllib3.readthedocs.io/en/latest/advanced-usage.html#ssl-warnings\n",
      "  warnings.warn(\n"
     ]
    },
    {
     "name": "stdout",
     "output_type": "stream",
     "text": [
      "{'Revenue': None, 'Net Income': None, 'Cash and cash equivalents': None, 'Goodwill': None, 'Intangible assets': None, 'Total assets': None, 'Commercial Paper': None, 'Other Current Borrowings': None, 'Long Term Debt': None, 'Short-Term Debt': None, 'Net cash used in operating activities': None, 'Purchases of property and equipment': None}\n",
      "(13) https://www.sec.gov/Archives/edgar/data/1646188/000121390020038066/ea130146-s1a2_ondas.htm\n"
     ]
    },
    {
     "name": "stderr",
     "output_type": "stream",
     "text": [
      "c:\\python38\\lib\\site-packages\\urllib3\\connectionpool.py:981: InsecureRequestWarning: Unverified HTTPS request is being made to host 'www.sec.gov'. Adding certificate verification is strongly advised. See: https://urllib3.readthedocs.io/en/latest/advanced-usage.html#ssl-warnings\n",
      "  warnings.warn(\n"
     ]
    },
    {
     "name": "stdout",
     "output_type": "stream",
     "text": [
      "{'Revenue': 614026.0, 'Net Income': -9353706.0, 'Cash and cash equivalents': 2129013.0, 'Goodwill': None, 'Intangible assets': None, 'Total assets': 4815408.0, 'Commercial Paper': None, 'Other Current Borrowings': None, 'Long Term Debt': None, 'Short-Term Debt': None, 'Net cash used in operating activities': -4875137.0, 'Purchases of property and equipment': None}\n",
      "(14) https://www.sec.gov/Archives/edgar/data/1583771/000110465920126937/tm2034164d4_s1a.htm\n"
     ]
    },
    {
     "name": "stderr",
     "output_type": "stream",
     "text": [
      "c:\\python38\\lib\\site-packages\\urllib3\\connectionpool.py:981: InsecureRequestWarning: Unverified HTTPS request is being made to host 'www.sec.gov'. Adding certificate verification is strongly advised. See: https://urllib3.readthedocs.io/en/latest/advanced-usage.html#ssl-warnings\n",
      "  warnings.warn(\n"
     ]
    },
    {
     "name": "stdout",
     "output_type": "stream",
     "text": [
      "{'Revenue': None, 'Net Income': None, 'Cash and cash equivalents': None, 'Goodwill': None, 'Intangible assets': None, 'Total assets': None, 'Commercial Paper': None, 'Other Current Borrowings': None, 'Long Term Debt': None, 'Short-Term Debt': None, 'Net cash used in operating activities': None, 'Purchases of property and equipment': None}\n",
      "(15) https://www.sec.gov/Archives/edgar/data/1820953/000110465920126927/tm2026663-4_s1.htm\n"
     ]
    },
    {
     "name": "stderr",
     "output_type": "stream",
     "text": [
      "c:\\python38\\lib\\site-packages\\urllib3\\connectionpool.py:981: InsecureRequestWarning: Unverified HTTPS request is being made to host 'www.sec.gov'. Adding certificate verification is strongly advised. See: https://urllib3.readthedocs.io/en/latest/advanced-usage.html#ssl-warnings\n",
      "  warnings.warn(\n"
     ]
    },
    {
     "name": "stdout",
     "output_type": "stream",
     "text": [
      "{'Revenue': None, 'Net Income': -120455.0, 'Cash and cash equivalents': 684423.0, 'Goodwill': None, 'Intangible assets': None, 'Total assets': 2250549.0, 'Commercial Paper': None, 'Other Current Borrowings': None, 'Long Term Debt': None, 'Short-Term Debt': None, 'Net cash used in operating activities': None, 'Purchases of property and equipment': None}\n",
      "(16) https://www.sec.gov/Archives/edgar/data/1827090/000110465920126924/tm2030105-7_s1.htm\n"
     ]
    },
    {
     "name": "stderr",
     "output_type": "stream",
     "text": [
      "c:\\python38\\lib\\site-packages\\urllib3\\connectionpool.py:981: InsecureRequestWarning: Unverified HTTPS request is being made to host 'www.sec.gov'. Adding certificate verification is strongly advised. See: https://urllib3.readthedocs.io/en/latest/advanced-usage.html#ssl-warnings\n",
      "  warnings.warn(\n"
     ]
    },
    {
     "name": "stdout",
     "output_type": "stream",
     "text": [
      "{'Revenue': None, 'Net Income': 5050.0, 'Cash and cash equivalents': 29937.0, 'Goodwill': 515587.0, 'Intangible assets': None, 'Total assets': 1020380.0, 'Commercial Paper': None, 'Other Current Borrowings': None, 'Long Term Debt': None, 'Short-Term Debt': None, 'Net cash used in operating activities': None, 'Purchases of property and equipment': None}\n",
      "(17) https://www.sec.gov/Archives/edgar/data/1822479/000119312520297076/d93452ds1a.htm\n"
     ]
    },
    {
     "name": "stderr",
     "output_type": "stream",
     "text": [
      "c:\\python38\\lib\\site-packages\\urllib3\\connectionpool.py:981: InsecureRequestWarning: Unverified HTTPS request is being made to host 'www.sec.gov'. Adding certificate verification is strongly advised. See: https://urllib3.readthedocs.io/en/latest/advanced-usage.html#ssl-warnings\n",
      "  warnings.warn(\n"
     ]
    },
    {
     "name": "stdout",
     "output_type": "stream",
     "text": [
      "{'Revenue': None, 'Net Income': -20425.0, 'Cash and cash equivalents': 62863.0, 'Goodwill': 1035865.0, 'Intangible assets': None, 'Total assets': 2580674.0, 'Commercial Paper': None, 'Other Current Borrowings': None, 'Long Term Debt': None, 'Short-Term Debt': None, 'Net cash used in operating activities': None, 'Purchases of property and equipment': None}\n",
      "(18) https://www.sec.gov/Archives/edgar/data/1821769/000121390020038006/fs12020a1_liveoakacq2.htm\n"
     ]
    },
    {
     "name": "stderr",
     "output_type": "stream",
     "text": [
      "c:\\python38\\lib\\site-packages\\urllib3\\connectionpool.py:981: InsecureRequestWarning: Unverified HTTPS request is being made to host 'www.sec.gov'. Adding certificate verification is strongly advised. See: https://urllib3.readthedocs.io/en/latest/advanced-usage.html#ssl-warnings\n",
      "  warnings.warn(\n"
     ]
    },
    {
     "name": "stdout",
     "output_type": "stream",
     "text": [
      "{'Revenue': None, 'Net Income': None, 'Cash and cash equivalents': None, 'Goodwill': None, 'Intangible assets': None, 'Total assets': 129955.0, 'Commercial Paper': None, 'Other Current Borrowings': None, 'Long Term Debt': None, 'Short-Term Debt': None, 'Net cash used in operating activities': None, 'Purchases of property and equipment': None}\n",
      "(19) https://www.sec.gov/Archives/edgar/data/1799858/000091957420007244/d8647509_s1a-3.htm\n"
     ]
    },
    {
     "name": "stderr",
     "output_type": "stream",
     "text": [
      "c:\\python38\\lib\\site-packages\\urllib3\\connectionpool.py:981: InsecureRequestWarning: Unverified HTTPS request is being made to host 'www.sec.gov'. Adding certificate verification is strongly advised. See: https://urllib3.readthedocs.io/en/latest/advanced-usage.html#ssl-warnings\n",
      "  warnings.warn(\n"
     ]
    },
    {
     "name": "stdout",
     "output_type": "stream",
     "text": [
      "{'Revenue': None, 'Net Income': None, 'Cash and cash equivalents': None, 'Goodwill': None, 'Intangible assets': None, 'Total assets': None, 'Commercial Paper': None, 'Other Current Borrowings': None, 'Long Term Debt': None, 'Short-Term Debt': None, 'Net cash used in operating activities': None, 'Purchases of property and equipment': None}\n",
      "(20) https://www.sec.gov/Archives/edgar/data/1808483/000119312520296941/d910966ds1a.htm\n"
     ]
    },
    {
     "name": "stderr",
     "output_type": "stream",
     "text": [
      "c:\\python38\\lib\\site-packages\\urllib3\\connectionpool.py:981: InsecureRequestWarning: Unverified HTTPS request is being made to host 'www.sec.gov'. Adding certificate verification is strongly advised. See: https://urllib3.readthedocs.io/en/latest/advanced-usage.html#ssl-warnings\n",
      "  warnings.warn(\n"
     ]
    },
    {
     "name": "stdout",
     "output_type": "stream",
     "text": [
      "{'Revenue': None, 'Net Income': None, 'Cash and cash equivalents': None, 'Goodwill': None, 'Intangible assets': None, 'Total assets': None, 'Commercial Paper': None, 'Other Current Borrowings': None, 'Long Term Debt': None, 'Short-Term Debt': None, 'Net cash used in operating activities': None, 'Purchases of property and equipment': None}\n",
      "(21) https://www.sec.gov/Archives/edgar/data/1823584/000110465920126645/tm2031691d2_s-1.htm\n"
     ]
    },
    {
     "name": "stderr",
     "output_type": "stream",
     "text": [
      "c:\\python38\\lib\\site-packages\\urllib3\\connectionpool.py:981: InsecureRequestWarning: Unverified HTTPS request is being made to host 'www.sec.gov'. Adding certificate verification is strongly advised. See: https://urllib3.readthedocs.io/en/latest/advanced-usage.html#ssl-warnings\n",
      "  warnings.warn(\n"
     ]
    },
    {
     "name": "stdout",
     "output_type": "stream",
     "text": [
      "{'Revenue': None, 'Net Income': None, 'Cash and cash equivalents': None, 'Goodwill': None, 'Intangible assets': None, 'Total assets': None, 'Commercial Paper': None, 'Other Current Borrowings': None, 'Long Term Debt': None, 'Short-Term Debt': None, 'Net cash used in operating activities': None, 'Purchases of property and equipment': None}\n",
      "(22) https://www.sec.gov/Archives/edgar/data/1823086/000110465920126528/tm2028855-10_s1a.htm\n"
     ]
    },
    {
     "name": "stderr",
     "output_type": "stream",
     "text": [
      "c:\\python38\\lib\\site-packages\\urllib3\\connectionpool.py:981: InsecureRequestWarning: Unverified HTTPS request is being made to host 'www.sec.gov'. Adding certificate verification is strongly advised. See: https://urllib3.readthedocs.io/en/latest/advanced-usage.html#ssl-warnings\n",
      "  warnings.warn(\n"
     ]
    },
    {
     "name": "stdout",
     "output_type": "stream",
     "text": [
      "{'Revenue': None, 'Net Income': None, 'Cash and cash equivalents': None, 'Goodwill': None, 'Intangible assets': None, 'Total assets': 65000.0, 'Commercial Paper': None, 'Other Current Borrowings': None, 'Long Term Debt': None, 'Short-Term Debt': None, 'Net cash used in operating activities': None, 'Purchases of property and equipment': None}\n",
      "(23) https://www.sec.gov/Archives/edgar/data/1646188/000121390020037821/ea129742-s1a1_ondas.htm\n"
     ]
    },
    {
     "name": "stderr",
     "output_type": "stream",
     "text": [
      "c:\\python38\\lib\\site-packages\\urllib3\\connectionpool.py:981: InsecureRequestWarning: Unverified HTTPS request is being made to host 'www.sec.gov'. Adding certificate verification is strongly advised. See: https://urllib3.readthedocs.io/en/latest/advanced-usage.html#ssl-warnings\n",
      "  warnings.warn(\n"
     ]
    },
    {
     "name": "stdout",
     "output_type": "stream",
     "text": [
      "{'Revenue': 614026.0, 'Net Income': -9353706.0, 'Cash and cash equivalents': 2129013.0, 'Goodwill': None, 'Intangible assets': None, 'Total assets': 4815408.0, 'Commercial Paper': None, 'Other Current Borrowings': None, 'Long Term Debt': None, 'Short-Term Debt': None, 'Net cash used in operating activities': -4875137.0, 'Purchases of property and equipment': None}\n",
      "(24) https://www.sec.gov/Archives/edgar/data/1819113/000110465920126467/tm2025441d3_s-1a.htm\n"
     ]
    },
    {
     "name": "stderr",
     "output_type": "stream",
     "text": [
      "c:\\python38\\lib\\site-packages\\urllib3\\connectionpool.py:981: InsecureRequestWarning: Unverified HTTPS request is being made to host 'www.sec.gov'. Adding certificate verification is strongly advised. See: https://urllib3.readthedocs.io/en/latest/advanced-usage.html#ssl-warnings\n",
      "  warnings.warn(\n"
     ]
    },
    {
     "name": "stdout",
     "output_type": "stream",
     "text": [
      "{'Revenue': None, 'Net Income': None, 'Cash and cash equivalents': None, 'Goodwill': None, 'Intangible assets': None, 'Total assets': None, 'Commercial Paper': None, 'Other Current Borrowings': None, 'Long Term Debt': None, 'Short-Term Debt': None, 'Net cash used in operating activities': None, 'Purchases of property and equipment': None}\n",
      "(25) https://www.sec.gov/Archives/edgar/data/1825079/000110465920126432/tm2030733-4_s1.htm\n"
     ]
    },
    {
     "name": "stderr",
     "output_type": "stream",
     "text": [
      "c:\\python38\\lib\\site-packages\\urllib3\\connectionpool.py:981: InsecureRequestWarning: Unverified HTTPS request is being made to host 'www.sec.gov'. Adding certificate verification is strongly advised. See: https://urllib3.readthedocs.io/en/latest/advanced-usage.html#ssl-warnings\n",
      "  warnings.warn(\n"
     ]
    },
    {
     "name": "stdout",
     "output_type": "stream",
     "text": [
      "{'Revenue': None, 'Net Income': None, 'Cash and cash equivalents': None, 'Goodwill': None, 'Intangible assets': None, 'Total assets': None, 'Commercial Paper': None, 'Other Current Borrowings': None, 'Long Term Debt': None, 'Short-Term Debt': None, 'Net cash used in operating activities': None, 'Purchases of property and equipment': None}\n",
      "(26) https://www.sec.gov/Archives/edgar/data/1650648/000119312520296146/d69563ds1.htm\n"
     ]
    },
    {
     "name": "stderr",
     "output_type": "stream",
     "text": [
      "c:\\python38\\lib\\site-packages\\urllib3\\connectionpool.py:981: InsecureRequestWarning: Unverified HTTPS request is being made to host 'www.sec.gov'. Adding certificate verification is strongly advised. See: https://urllib3.readthedocs.io/en/latest/advanced-usage.html#ssl-warnings\n",
      "  warnings.warn(\n"
     ]
    },
    {
     "name": "stdout",
     "output_type": "stream",
     "text": [
      "{'Revenue': None, 'Net Income': None, 'Cash and cash equivalents': 88755.0, 'Goodwill': None, 'Intangible assets': None, 'Total assets': 98192.0, 'Commercial Paper': None, 'Other Current Borrowings': None, 'Long Term Debt': None, 'Short-Term Debt': None, 'Net cash used in operating activities': None, 'Purchases of property and equipment': None}\n",
      "(27) https://www.sec.gov/Archives/edgar/data/922247/000143774920024107/ctdh20201117_s1a.htm\n"
     ]
    },
    {
     "name": "stderr",
     "output_type": "stream",
     "text": [
      "c:\\python38\\lib\\site-packages\\urllib3\\connectionpool.py:981: InsecureRequestWarning: Unverified HTTPS request is being made to host 'www.sec.gov'. Adding certificate verification is strongly advised. See: https://urllib3.readthedocs.io/en/latest/advanced-usage.html#ssl-warnings\n",
      "  warnings.warn(\n"
     ]
    },
    {
     "name": "stdout",
     "output_type": "stream",
     "text": [
      "{'Revenue': None, 'Net Income': None, 'Cash and cash equivalents': None, 'Goodwill': None, 'Intangible assets': None, 'Total assets': None, 'Commercial Paper': None, 'Other Current Borrowings': None, 'Long Term Debt': None, 'Short-Term Debt': None, 'Net cash used in operating activities': None, 'Purchases of property and equipment': None}\n",
      "(28) https://www.sec.gov/Archives/edgar/data/1823826/000121390020037752/fs12020a3_aequiacqcorp.htm\n"
     ]
    },
    {
     "name": "stderr",
     "output_type": "stream",
     "text": [
      "c:\\python38\\lib\\site-packages\\urllib3\\connectionpool.py:981: InsecureRequestWarning: Unverified HTTPS request is being made to host 'www.sec.gov'. Adding certificate verification is strongly advised. See: https://urllib3.readthedocs.io/en/latest/advanced-usage.html#ssl-warnings\n",
      "  warnings.warn(\n"
     ]
    },
    {
     "name": "stdout",
     "output_type": "stream",
     "text": [
      "{'Revenue': None, 'Net Income': -761.0, 'Cash and cash equivalents': None, 'Goodwill': None, 'Intangible assets': None, 'Total assets': 80000.0, 'Commercial Paper': None, 'Other Current Borrowings': None, 'Long Term Debt': None, 'Short-Term Debt': None, 'Net cash used in operating activities': None, 'Purchases of property and equipment': None}\n",
      "(29) https://www.sec.gov/Archives/edgar/data/1819810/000119312520295816/d48359ds1a.htm\n"
     ]
    },
    {
     "name": "stderr",
     "output_type": "stream",
     "text": [
      "c:\\python38\\lib\\site-packages\\urllib3\\connectionpool.py:981: InsecureRequestWarning: Unverified HTTPS request is being made to host 'www.sec.gov'. Adding certificate verification is strongly advised. See: https://urllib3.readthedocs.io/en/latest/advanced-usage.html#ssl-warnings\n",
      "  warnings.warn(\n"
     ]
    },
    {
     "name": "stdout",
     "output_type": "stream",
     "text": [
      "{'Revenue': None, 'Net Income': None, 'Cash and cash equivalents': None, 'Goodwill': None, 'Intangible assets': None, 'Total assets': 100000.0, 'Commercial Paper': None, 'Other Current Borrowings': None, 'Long Term Debt': None, 'Short-Term Debt': None, 'Net cash used in operating activities': None, 'Purchases of property and equipment': None}\n",
      "(30) https://www.sec.gov/Archives/edgar/data/1490054/000109690620000324/vbhi_s1a.htm\n"
     ]
    },
    {
     "name": "stderr",
     "output_type": "stream",
     "text": [
      "c:\\python38\\lib\\site-packages\\urllib3\\connectionpool.py:981: InsecureRequestWarning: Unverified HTTPS request is being made to host 'www.sec.gov'. Adding certificate verification is strongly advised. See: https://urllib3.readthedocs.io/en/latest/advanced-usage.html#ssl-warnings\n",
      "  warnings.warn(\n"
     ]
    },
    {
     "name": "stdout",
     "output_type": "stream",
     "text": [
      "{'Revenue': None, 'Net Income': -1575407.0, 'Cash and cash equivalents': None, 'Goodwill': None, 'Intangible assets': None, 'Total assets': 1631.0, 'Commercial Paper': None, 'Other Current Borrowings': None, 'Long Term Debt': None, 'Short-Term Debt': None, 'Net cash used in operating activities': None, 'Purchases of property and equipment': None}\n",
      "(31) https://www.sec.gov/Archives/edgar/data/1827669/000121390020037638/fs12020a1_omnichannel.htm\n"
     ]
    },
    {
     "name": "stderr",
     "output_type": "stream",
     "text": [
      "c:\\python38\\lib\\site-packages\\urllib3\\connectionpool.py:981: InsecureRequestWarning: Unverified HTTPS request is being made to host 'www.sec.gov'. Adding certificate verification is strongly advised. See: https://urllib3.readthedocs.io/en/latest/advanced-usage.html#ssl-warnings\n",
      "  warnings.warn(\n"
     ]
    },
    {
     "name": "stdout",
     "output_type": "stream",
     "text": [
      "{'Revenue': None, 'Net Income': -2000.0, 'Cash and cash equivalents': None, 'Goodwill': None, 'Intangible assets': None, 'Total assets': 75000.0, 'Commercial Paper': None, 'Other Current Borrowings': None, 'Long Term Debt': None, 'Short-Term Debt': None, 'Net cash used in operating activities': None, 'Purchases of property and equipment': None}\n",
      "(32) https://www.sec.gov/Archives/edgar/data/1741231/000121390020037611/ea129600-s1a1_tattooed.htm\n"
     ]
    },
    {
     "name": "stderr",
     "output_type": "stream",
     "text": [
      "c:\\python38\\lib\\site-packages\\urllib3\\connectionpool.py:981: InsecureRequestWarning: Unverified HTTPS request is being made to host 'www.sec.gov'. Adding certificate verification is strongly advised. See: https://urllib3.readthedocs.io/en/latest/advanced-usage.html#ssl-warnings\n",
      "  warnings.warn(\n"
     ]
    },
    {
     "name": "stdout",
     "output_type": "stream",
     "text": [
      "{'Revenue': 100.0, 'Net Income': 3.6, 'Cash and cash equivalents': 3182.0, 'Goodwill': None, 'Intangible assets': None, 'Total assets': 66718.0, 'Commercial Paper': None, 'Other Current Borrowings': None, 'Long Term Debt': None, 'Short-Term Debt': None, 'Net cash used in operating activities': None, 'Purchases of property and equipment': None}\n",
      "(33) https://www.sec.gov/Archives/edgar/data/1817640/000119312520295087/d20689ds1a.htm\n"
     ]
    },
    {
     "name": "stderr",
     "output_type": "stream",
     "text": [
      "c:\\python38\\lib\\site-packages\\urllib3\\connectionpool.py:981: InsecureRequestWarning: Unverified HTTPS request is being made to host 'www.sec.gov'. Adding certificate verification is strongly advised. See: https://urllib3.readthedocs.io/en/latest/advanced-usage.html#ssl-warnings\n",
      "  warnings.warn(\n"
     ]
    },
    {
     "name": "stdout",
     "output_type": "stream",
     "text": [
      "{'Revenue': None, 'Net Income': None, 'Cash and cash equivalents': None, 'Goodwill': None, 'Intangible assets': None, 'Total assets': 139645.0, 'Commercial Paper': None, 'Other Current Borrowings': None, 'Long Term Debt': None, 'Short-Term Debt': None, 'Net cash used in operating activities': None, 'Purchases of property and equipment': None}\n",
      "(34) https://www.sec.gov/Archives/edgar/data/1591913/000121390020037464/ea129913-s1_innovative.htm\n"
     ]
    },
    {
     "name": "stderr",
     "output_type": "stream",
     "text": [
      "c:\\python38\\lib\\site-packages\\urllib3\\connectionpool.py:981: InsecureRequestWarning: Unverified HTTPS request is being made to host 'www.sec.gov'. Adding certificate verification is strongly advised. See: https://urllib3.readthedocs.io/en/latest/advanced-usage.html#ssl-warnings\n",
      "  warnings.warn(\n"
     ]
    },
    {
     "name": "stdout",
     "output_type": "stream",
     "text": [
      "{'Revenue': None, 'Net Income': None, 'Cash and cash equivalents': None, 'Goodwill': None, 'Intangible assets': None, 'Total assets': None, 'Commercial Paper': None, 'Other Current Borrowings': None, 'Long Term Debt': None, 'Short-Term Debt': None, 'Net cash used in operating activities': None, 'Purchases of property and equipment': None}\n",
      "(35) https://www.sec.gov/Archives/edgar/data/1822309/000121390020037456/fs12020a4_cascadeacquisition.htm\n"
     ]
    },
    {
     "name": "stderr",
     "output_type": "stream",
     "text": [
      "c:\\python38\\lib\\site-packages\\urllib3\\connectionpool.py:981: InsecureRequestWarning: Unverified HTTPS request is being made to host 'www.sec.gov'. Adding certificate verification is strongly advised. See: https://urllib3.readthedocs.io/en/latest/advanced-usage.html#ssl-warnings\n",
      "  warnings.warn(\n"
     ]
    },
    {
     "name": "stdout",
     "output_type": "stream",
     "text": [
      "{'Revenue': None, 'Net Income': None, 'Cash and cash equivalents': None, 'Goodwill': None, 'Intangible assets': None, 'Total assets': 202438.0, 'Commercial Paper': None, 'Other Current Borrowings': None, 'Long Term Debt': None, 'Short-Term Debt': None, 'Net cash used in operating activities': None, 'Purchases of property and equipment': None}\n",
      "(36) https://www.sec.gov/Archives/edgar/data/1819394/000119312520294952/d70164ds1a.htm\n"
     ]
    },
    {
     "name": "stderr",
     "output_type": "stream",
     "text": [
      "c:\\python38\\lib\\site-packages\\urllib3\\connectionpool.py:981: InsecureRequestWarning: Unverified HTTPS request is being made to host 'www.sec.gov'. Adding certificate verification is strongly advised. See: https://urllib3.readthedocs.io/en/latest/advanced-usage.html#ssl-warnings\n",
      "  warnings.warn(\n"
     ]
    },
    {
     "name": "stdout",
     "output_type": "stream",
     "text": [
      "{'Revenue': None, 'Net Income': -20884.0, 'Cash and cash equivalents': None, 'Goodwill': None, 'Intangible assets': None, 'Total assets': 518755.0, 'Commercial Paper': None, 'Other Current Borrowings': None, 'Long Term Debt': None, 'Short-Term Debt': None, 'Net cash used in operating activities': None, 'Purchases of property and equipment': None}\n",
      "(37) https://www.sec.gov/Archives/edgar/data/1829426/000119312520294923/d26326ds1.htm\n"
     ]
    },
    {
     "name": "stderr",
     "output_type": "stream",
     "text": [
      "c:\\python38\\lib\\site-packages\\urllib3\\connectionpool.py:981: InsecureRequestWarning: Unverified HTTPS request is being made to host 'www.sec.gov'. Adding certificate verification is strongly advised. See: https://urllib3.readthedocs.io/en/latest/advanced-usage.html#ssl-warnings\n",
      "  warnings.warn(\n"
     ]
    },
    {
     "name": "stdout",
     "output_type": "stream",
     "text": [
      "{'Revenue': None, 'Net Income': -10413.0, 'Cash and cash equivalents': None, 'Goodwill': None, 'Intangible assets': None, 'Total assets': 89587.0, 'Commercial Paper': None, 'Other Current Borrowings': None, 'Long Term Debt': None, 'Short-Term Debt': None, 'Net cash used in operating activities': None, 'Purchases of property and equipment': None}\n",
      "(38) https://www.sec.gov/Archives/edgar/data/1824293/000110465920125904/tm2030737-5_s1a.htm\n"
     ]
    },
    {
     "name": "stderr",
     "output_type": "stream",
     "text": [
      "c:\\python38\\lib\\site-packages\\urllib3\\connectionpool.py:981: InsecureRequestWarning: Unverified HTTPS request is being made to host 'www.sec.gov'. Adding certificate verification is strongly advised. See: https://urllib3.readthedocs.io/en/latest/advanced-usage.html#ssl-warnings\n",
      "  warnings.warn(\n"
     ]
    },
    {
     "name": "stdout",
     "output_type": "stream",
     "text": [
      "{'Revenue': None, 'Net Income': -3464.0, 'Cash and cash equivalents': 3820894.0, 'Goodwill': None, 'Intangible assets': None, 'Total assets': 4276.0, 'Commercial Paper': None, 'Other Current Borrowings': None, 'Long Term Debt': None, 'Short-Term Debt': None, 'Net cash used in operating activities': -2898.0, 'Purchases of property and equipment': None}\n",
      "(39) https://www.sec.gov/Archives/edgar/data/1826991/000095010320022244/dp140256_s1.htm\n"
     ]
    },
    {
     "name": "stderr",
     "output_type": "stream",
     "text": [
      "c:\\python38\\lib\\site-packages\\urllib3\\connectionpool.py:981: InsecureRequestWarning: Unverified HTTPS request is being made to host 'www.sec.gov'. Adding certificate verification is strongly advised. See: https://urllib3.readthedocs.io/en/latest/advanced-usage.html#ssl-warnings\n",
      "  warnings.warn(\n"
     ]
    },
    {
     "name": "stdout",
     "output_type": "stream",
     "text": [
      "{'Revenue': None, 'Net Income': None, 'Cash and cash equivalents': None, 'Goodwill': None, 'Intangible assets': None, 'Total assets': 59841.0, 'Commercial Paper': None, 'Other Current Borrowings': None, 'Long Term Debt': None, 'Short-Term Debt': None, 'Net cash used in operating activities': None, 'Purchases of property and equipment': None}\n",
      "(40) https://www.sec.gov/Archives/edgar/data/1828817/000095010320022241/dp140795_s1.htm\n"
     ]
    },
    {
     "name": "stderr",
     "output_type": "stream",
     "text": [
      "c:\\python38\\lib\\site-packages\\urllib3\\connectionpool.py:981: InsecureRequestWarning: Unverified HTTPS request is being made to host 'www.sec.gov'. Adding certificate verification is strongly advised. See: https://urllib3.readthedocs.io/en/latest/advanced-usage.html#ssl-warnings\n",
      "  warnings.warn(\n"
     ]
    },
    {
     "name": "stdout",
     "output_type": "stream",
     "text": [
      "{'Revenue': None, 'Net Income': None, 'Cash and cash equivalents': None, 'Goodwill': None, 'Intangible assets': None, 'Total assets': 70000.0, 'Commercial Paper': None, 'Other Current Borrowings': None, 'Long Term Debt': None, 'Short-Term Debt': None, 'Net cash used in operating activities': None, 'Purchases of property and equipment': None}\n",
      "(41) https://www.sec.gov/Archives/edgar/data/1721947/000110465920125877/tm2034713-2_drsa.htm\n"
     ]
    },
    {
     "name": "stderr",
     "output_type": "stream",
     "text": [
      "c:\\python38\\lib\\site-packages\\urllib3\\connectionpool.py:981: InsecureRequestWarning: Unverified HTTPS request is being made to host 'www.sec.gov'. Adding certificate verification is strongly advised. See: https://urllib3.readthedocs.io/en/latest/advanced-usage.html#ssl-warnings\n",
      "  warnings.warn(\n"
     ]
    },
    {
     "name": "stdout",
     "output_type": "stream",
     "text": [
      "{'Revenue': None, 'Net Income': -5093.0, 'Cash and cash equivalents': 177457.0, 'Goodwill': 539818.0, 'Intangible assets': None, 'Total assets': 1055284.0, 'Commercial Paper': None, 'Other Current Borrowings': None, 'Long Term Debt': None, 'Short-Term Debt': None, 'Net cash used in operating activities': None, 'Purchases of property and equipment': None}\n",
      "(42) https://www.sec.gov/Archives/edgar/data/1706524/000168316820003956/urbangro_s1.htm\n"
     ]
    },
    {
     "name": "stderr",
     "output_type": "stream",
     "text": [
      "c:\\python38\\lib\\site-packages\\urllib3\\connectionpool.py:981: InsecureRequestWarning: Unverified HTTPS request is being made to host 'www.sec.gov'. Adding certificate verification is strongly advised. See: https://urllib3.readthedocs.io/en/latest/advanced-usage.html#ssl-warnings\n",
      "  warnings.warn(\n"
     ]
    },
    {
     "name": "stdout",
     "output_type": "stream",
     "text": [
      "{'Revenue': None, 'Net Income': None, 'Cash and cash equivalents': None, 'Goodwill': None, 'Intangible assets': None, 'Total assets': None, 'Commercial Paper': None, 'Other Current Borrowings': None, 'Long Term Debt': None, 'Short-Term Debt': None, 'Net cash used in operating activities': None, 'Purchases of property and equipment': None}\n",
      "(43) https://www.sec.gov/Archives/edgar/data/1559720/000119312520294801/d81668ds1.htm\n"
     ]
    },
    {
     "name": "stderr",
     "output_type": "stream",
     "text": [
      "c:\\python38\\lib\\site-packages\\urllib3\\connectionpool.py:981: InsecureRequestWarning: Unverified HTTPS request is being made to host 'www.sec.gov'. Adding certificate verification is strongly advised. See: https://urllib3.readthedocs.io/en/latest/advanced-usage.html#ssl-warnings\n",
      "  warnings.warn(\n"
     ]
    },
    {
     "name": "stdout",
     "output_type": "stream",
     "text": [
      "{'Revenue': None, 'Net Income': None, 'Cash and cash equivalents': 2140877.0, 'Goodwill': 289861.0, 'Intangible assets': None, 'Total assets': 8728479.0, 'Commercial Paper': 534621.0, 'Other Current Borrowings': None, 'Long Term Debt': None, 'Short-Term Debt': None, 'Net cash used in operating activities': None, 'Purchases of property and equipment': None}\n",
      "(44) https://www.sec.gov/Archives/edgar/data/1689657/000119312520294765/d77870ds1.htm\n"
     ]
    },
    {
     "name": "stderr",
     "output_type": "stream",
     "text": [
      "c:\\python38\\lib\\site-packages\\urllib3\\connectionpool.py:981: InsecureRequestWarning: Unverified HTTPS request is being made to host 'www.sec.gov'. Adding certificate verification is strongly advised. See: https://urllib3.readthedocs.io/en/latest/advanced-usage.html#ssl-warnings\n",
      "  warnings.warn(\n"
     ]
    },
    {
     "name": "stdout",
     "output_type": "stream",
     "text": [
      "{'Revenue': None, 'Net Income': 734.0, 'Cash and cash equivalents': 237233.0, 'Goodwill': None, 'Intangible assets': None, 'Total assets': 300010.0, 'Commercial Paper': None, 'Other Current Borrowings': None, 'Long Term Debt': None, 'Short-Term Debt': None, 'Net cash used in operating activities': None, 'Purchases of property and equipment': None}\n",
      "(45) https://www.sec.gov/Archives/edgar/data/922247/000143774920023999/ctdh20201113b_s1a.htm\n"
     ]
    },
    {
     "name": "stderr",
     "output_type": "stream",
     "text": [
      "c:\\python38\\lib\\site-packages\\urllib3\\connectionpool.py:981: InsecureRequestWarning: Unverified HTTPS request is being made to host 'www.sec.gov'. Adding certificate verification is strongly advised. See: https://urllib3.readthedocs.io/en/latest/advanced-usage.html#ssl-warnings\n",
      "  warnings.warn(\n"
     ]
    },
    {
     "name": "stdout",
     "output_type": "stream",
     "text": [
      "{'Revenue': None, 'Net Income': None, 'Cash and cash equivalents': None, 'Goodwill': None, 'Intangible assets': None, 'Total assets': None, 'Commercial Paper': None, 'Other Current Borrowings': None, 'Long Term Debt': None, 'Short-Term Debt': None, 'Net cash used in operating activities': None, 'Purchases of property and equipment': None}\n",
      "(46) https://www.sec.gov/Archives/edgar/data/1793229/000110465920125714/tm2031592-8_s1a.htm\n"
     ]
    },
    {
     "name": "stderr",
     "output_type": "stream",
     "text": [
      "c:\\python38\\lib\\site-packages\\urllib3\\connectionpool.py:981: InsecureRequestWarning: Unverified HTTPS request is being made to host 'www.sec.gov'. Adding certificate verification is strongly advised. See: https://urllib3.readthedocs.io/en/latest/advanced-usage.html#ssl-warnings\n",
      "  warnings.warn(\n"
     ]
    },
    {
     "name": "stdout",
     "output_type": "stream",
     "text": [
      "{'Revenue': None, 'Net Income': None, 'Cash and cash equivalents': None, 'Goodwill': None, 'Intangible assets': None, 'Total assets': None, 'Commercial Paper': None, 'Other Current Borrowings': None, 'Long Term Debt': None, 'Short-Term Debt': None, 'Net cash used in operating activities': None, 'Purchases of property and equipment': None}\n",
      "(47) https://www.sec.gov/Archives/edgar/data/1828650/000121390020037212/ea129830-s1_longmall.htm\n"
     ]
    },
    {
     "name": "stderr",
     "output_type": "stream",
     "text": [
      "c:\\python38\\lib\\site-packages\\urllib3\\connectionpool.py:981: InsecureRequestWarning: Unverified HTTPS request is being made to host 'www.sec.gov'. Adding certificate verification is strongly advised. See: https://urllib3.readthedocs.io/en/latest/advanced-usage.html#ssl-warnings\n",
      "  warnings.warn(\n"
     ]
    },
    {
     "name": "stdout",
     "output_type": "stream",
     "text": [
      "{'Revenue': None, 'Net Income': None, 'Cash and cash equivalents': None, 'Goodwill': None, 'Intangible assets': None, 'Total assets': 61935.0, 'Commercial Paper': None, 'Other Current Borrowings': None, 'Long Term Debt': None, 'Short-Term Debt': None, 'Net cash used in operating activities': None, 'Purchases of property and equipment': None}\n",
      "(48) https://www.sec.gov/Archives/edgar/data/1821595/000121390020037210/fs12020a3_10xcapitalventure.htm\n"
     ]
    },
    {
     "name": "stderr",
     "output_type": "stream",
     "text": [
      "c:\\python38\\lib\\site-packages\\urllib3\\connectionpool.py:981: InsecureRequestWarning: Unverified HTTPS request is being made to host 'www.sec.gov'. Adding certificate verification is strongly advised. See: https://urllib3.readthedocs.io/en/latest/advanced-usage.html#ssl-warnings\n",
      "  warnings.warn(\n"
     ]
    },
    {
     "name": "stdout",
     "output_type": "stream",
     "text": [
      "{'Revenue': None, 'Net Income': None, 'Cash and cash equivalents': None, 'Goodwill': None, 'Intangible assets': None, 'Total assets': 346772.0, 'Commercial Paper': None, 'Other Current Borrowings': None, 'Long Term Debt': None, 'Short-Term Debt': None, 'Net cash used in operating activities': None, 'Purchases of property and equipment': None}\n",
      "(49) https://www.sec.gov/Archives/edgar/data/1335105/000149315220021457/forms-1a.htm\n"
     ]
    },
    {
     "name": "stderr",
     "output_type": "stream",
     "text": [
      "c:\\python38\\lib\\site-packages\\urllib3\\connectionpool.py:981: InsecureRequestWarning: Unverified HTTPS request is being made to host 'www.sec.gov'. Adding certificate verification is strongly advised. See: https://urllib3.readthedocs.io/en/latest/advanced-usage.html#ssl-warnings\n",
      "  warnings.warn(\n"
     ]
    },
    {
     "name": "stdout",
     "output_type": "stream",
     "text": [
      "{'Revenue': None, 'Net Income': None, 'Cash and cash equivalents': None, 'Goodwill': None, 'Intangible assets': None, 'Total assets': None, 'Commercial Paper': None, 'Other Current Borrowings': None, 'Long Term Debt': None, 'Short-Term Debt': None, 'Net cash used in operating activities': None, 'Purchases of property and equipment': None}\n",
      "(50) https://www.sec.gov/Archives/edgar/data/1823575/000114036120025593/nt10014955x5_s1a.htm\n"
     ]
    },
    {
     "name": "stderr",
     "output_type": "stream",
     "text": [
      "c:\\python38\\lib\\site-packages\\urllib3\\connectionpool.py:981: InsecureRequestWarning: Unverified HTTPS request is being made to host 'www.sec.gov'. Adding certificate verification is strongly advised. See: https://urllib3.readthedocs.io/en/latest/advanced-usage.html#ssl-warnings\n",
      "  warnings.warn(\n"
     ]
    },
    {
     "name": "stdout",
     "output_type": "stream",
     "text": [
      "{'Revenue': None, 'Net Income': None, 'Cash and cash equivalents': None, 'Goodwill': None, 'Intangible assets': None, 'Total assets': 60000.0, 'Commercial Paper': None, 'Other Current Borrowings': None, 'Long Term Debt': None, 'Short-Term Debt': None, 'Net cash used in operating activities': None, 'Purchases of property and equipment': None}\n",
      "(51) https://www.sec.gov/Archives/edgar/data/320121/000114036120025591/nt10015254x6_s1a.htm\n"
     ]
    },
    {
     "name": "stderr",
     "output_type": "stream",
     "text": [
      "c:\\python38\\lib\\site-packages\\urllib3\\connectionpool.py:981: InsecureRequestWarning: Unverified HTTPS request is being made to host 'www.sec.gov'. Adding certificate verification is strongly advised. See: https://urllib3.readthedocs.io/en/latest/advanced-usage.html#ssl-warnings\n",
      "  warnings.warn(\n"
     ]
    },
    {
     "name": "stdout",
     "output_type": "stream",
     "text": [
      "{'Revenue': 107727.0, 'Net Income': -3498.0, 'Cash and cash equivalents': 600.0, 'Goodwill': None, 'Intangible assets': None, 'Total assets': 74421.0, 'Commercial Paper': None, 'Other Current Borrowings': None, 'Long Term Debt': None, 'Short-Term Debt': None, 'Net cash used in operating activities': None, 'Purchases of property and equipment': None}\n",
      "(52) https://www.sec.gov/Archives/edgar/data/1823826/000121390020037147/fs12020a2_aequiacqcorp.htm\n"
     ]
    },
    {
     "name": "stderr",
     "output_type": "stream",
     "text": [
      "c:\\python38\\lib\\site-packages\\urllib3\\connectionpool.py:981: InsecureRequestWarning: Unverified HTTPS request is being made to host 'www.sec.gov'. Adding certificate verification is strongly advised. See: https://urllib3.readthedocs.io/en/latest/advanced-usage.html#ssl-warnings\n",
      "  warnings.warn(\n"
     ]
    },
    {
     "name": "stdout",
     "output_type": "stream",
     "text": [
      "{'Revenue': None, 'Net Income': -761.0, 'Cash and cash equivalents': None, 'Goodwill': None, 'Intangible assets': None, 'Total assets': 80000.0, 'Commercial Paper': None, 'Other Current Borrowings': None, 'Long Term Debt': None, 'Short-Term Debt': None, 'Net cash used in operating activities': None, 'Purchases of property and equipment': None}\n",
      "(53) https://www.sec.gov/Archives/edgar/data/1750284/000110465920125281/tm2027048-9_s1a.htm\n"
     ]
    },
    {
     "name": "stderr",
     "output_type": "stream",
     "text": [
      "c:\\python38\\lib\\site-packages\\urllib3\\connectionpool.py:981: InsecureRequestWarning: Unverified HTTPS request is being made to host 'www.sec.gov'. Adding certificate verification is strongly advised. See: https://urllib3.readthedocs.io/en/latest/advanced-usage.html#ssl-warnings\n",
      "  warnings.warn(\n"
     ]
    },
    {
     "name": "stdout",
     "output_type": "stream",
     "text": [
      "{'Revenue': None, 'Net Income': None, 'Cash and cash equivalents': 127824.0, 'Goodwill': None, 'Intangible assets': None, 'Total assets': 130683.0, 'Commercial Paper': None, 'Other Current Borrowings': None, 'Long Term Debt': None, 'Short-Term Debt': None, 'Net cash used in operating activities': None, 'Purchases of property and equipment': None}\n",
      "(54) https://www.sec.gov/Archives/edgar/data/1793229/000110465920125260/tm2031592-4_s1a.htm\n"
     ]
    },
    {
     "name": "stderr",
     "output_type": "stream",
     "text": [
      "c:\\python38\\lib\\site-packages\\urllib3\\connectionpool.py:981: InsecureRequestWarning: Unverified HTTPS request is being made to host 'www.sec.gov'. Adding certificate verification is strongly advised. See: https://urllib3.readthedocs.io/en/latest/advanced-usage.html#ssl-warnings\n",
      "  warnings.warn(\n"
     ]
    },
    {
     "name": "stdout",
     "output_type": "stream",
     "text": [
      "{'Revenue': None, 'Net Income': -8657677.0, 'Cash and cash equivalents': 203807.0, 'Goodwill': 4142013.0, 'Intangible assets': None, 'Total assets': 1107513145.0, 'Commercial Paper': None, 'Other Current Borrowings': None, 'Long Term Debt': None, 'Short-Term Debt': None, 'Net cash used in operating activities': None, 'Purchases of property and equipment': None}\n",
      "(55) https://www.sec.gov/Archives/edgar/data/1824119/000095010320022174/dp140846-s1a.htm\n"
     ]
    },
    {
     "name": "stderr",
     "output_type": "stream",
     "text": [
      "c:\\python38\\lib\\site-packages\\urllib3\\connectionpool.py:981: InsecureRequestWarning: Unverified HTTPS request is being made to host 'www.sec.gov'. Adding certificate verification is strongly advised. See: https://urllib3.readthedocs.io/en/latest/advanced-usage.html#ssl-warnings\n",
      "  warnings.warn(\n"
     ]
    },
    {
     "name": "stdout",
     "output_type": "stream",
     "text": [
      "{'Revenue': None, 'Net Income': None, 'Cash and cash equivalents': None, 'Goodwill': None, 'Intangible assets': None, 'Total assets': 70348.0, 'Commercial Paper': None, 'Other Current Borrowings': None, 'Long Term Debt': None, 'Short-Term Debt': None, 'Net cash used in operating activities': None, 'Purchases of property and equipment': None}\n",
      "(56) https://www.sec.gov/Archives/edgar/data/1725430/000149315220021371/forms-1a.htm\n"
     ]
    },
    {
     "name": "stderr",
     "output_type": "stream",
     "text": [
      "c:\\python38\\lib\\site-packages\\urllib3\\connectionpool.py:981: InsecureRequestWarning: Unverified HTTPS request is being made to host 'www.sec.gov'. Adding certificate verification is strongly advised. See: https://urllib3.readthedocs.io/en/latest/advanced-usage.html#ssl-warnings\n",
      "  warnings.warn(\n"
     ]
    },
    {
     "name": "stdout",
     "output_type": "stream",
     "text": [
      "{'Revenue': None, 'Net Income': None, 'Cash and cash equivalents': None, 'Goodwill': None, 'Intangible assets': None, 'Total assets': 2327950.0, 'Commercial Paper': None, 'Other Current Borrowings': None, 'Long Term Debt': None, 'Short-Term Debt': None, 'Net cash used in operating activities': None, 'Purchases of property and equipment': None}\n",
      "(57) https://www.sec.gov/Archives/edgar/data/1826892/000119312520293235/d258427ds1.htm\n"
     ]
    },
    {
     "name": "stderr",
     "output_type": "stream",
     "text": [
      "c:\\python38\\lib\\site-packages\\urllib3\\connectionpool.py:981: InsecureRequestWarning: Unverified HTTPS request is being made to host 'www.sec.gov'. Adding certificate verification is strongly advised. See: https://urllib3.readthedocs.io/en/latest/advanced-usage.html#ssl-warnings\n",
      "  warnings.warn(\n"
     ]
    },
    {
     "name": "stdout",
     "output_type": "stream",
     "text": [
      "{'Revenue': None, 'Net Income': -19458.0, 'Cash and cash equivalents': 56757.0, 'Goodwill': None, 'Intangible assets': None, 'Total assets': 62773.0, 'Commercial Paper': None, 'Other Current Borrowings': None, 'Long Term Debt': None, 'Short-Term Debt': None, 'Net cash used in operating activities': None, 'Purchases of property and equipment': None}\n",
      "(58) https://www.sec.gov/Archives/edgar/data/1537028/000153702820000105/icd-2020formsx1.htm\n"
     ]
    },
    {
     "name": "stderr",
     "output_type": "stream",
     "text": [
      "c:\\python38\\lib\\site-packages\\urllib3\\connectionpool.py:981: InsecureRequestWarning: Unverified HTTPS request is being made to host 'www.sec.gov'. Adding certificate verification is strongly advised. See: https://urllib3.readthedocs.io/en/latest/advanced-usage.html#ssl-warnings\n",
      "  warnings.warn(\n"
     ]
    },
    {
     "name": "stdout",
     "output_type": "stream",
     "text": [
      "{'Revenue': None, 'Net Income': None, 'Cash and cash equivalents': None, 'Goodwill': None, 'Intangible assets': None, 'Total assets': None, 'Commercial Paper': None, 'Other Current Borrowings': None, 'Long Term Debt': None, 'Short-Term Debt': None, 'Net cash used in operating activities': None, 'Purchases of property and equipment': None}\n",
      "(59) https://www.sec.gov/Archives/edgar/data/1825042/000119312520293222/d73797ds1a.htm\n"
     ]
    },
    {
     "name": "stderr",
     "output_type": "stream",
     "text": [
      "c:\\python38\\lib\\site-packages\\urllib3\\connectionpool.py:981: InsecureRequestWarning: Unverified HTTPS request is being made to host 'www.sec.gov'. Adding certificate verification is strongly advised. See: https://urllib3.readthedocs.io/en/latest/advanced-usage.html#ssl-warnings\n",
      "  warnings.warn(\n"
     ]
    },
    {
     "name": "stdout",
     "output_type": "stream",
     "text": [
      "{'Revenue': None, 'Net Income': None, 'Cash and cash equivalents': None, 'Goodwill': None, 'Intangible assets': None, 'Total assets': None, 'Commercial Paper': None, 'Other Current Borrowings': None, 'Long Term Debt': None, 'Short-Term Debt': None, 'Net cash used in operating activities': None, 'Purchases of property and equipment': None}\n",
      "(60) https://www.sec.gov/Archives/edgar/data/1822479/000119312520293184/d93452ds1a.htm\n"
     ]
    },
    {
     "name": "stderr",
     "output_type": "stream",
     "text": [
      "c:\\python38\\lib\\site-packages\\urllib3\\connectionpool.py:981: InsecureRequestWarning: Unverified HTTPS request is being made to host 'www.sec.gov'. Adding certificate verification is strongly advised. See: https://urllib3.readthedocs.io/en/latest/advanced-usage.html#ssl-warnings\n",
      "  warnings.warn(\n"
     ]
    },
    {
     "name": "stdout",
     "output_type": "stream",
     "text": [
      "{'Revenue': None, 'Net Income': None, 'Cash and cash equivalents': None, 'Goodwill': None, 'Intangible assets': None, 'Total assets': None, 'Commercial Paper': None, 'Other Current Borrowings': None, 'Long Term Debt': None, 'Short-Term Debt': None, 'Net cash used in operating activities': None, 'Purchases of property and equipment': None}\n",
      "(61) https://www.sec.gov/Archives/edgar/data/1797768/000114036120025527/nt10013659x6_s1.htm\n"
     ]
    },
    {
     "name": "stderr",
     "output_type": "stream",
     "text": [
      "c:\\python38\\lib\\site-packages\\urllib3\\connectionpool.py:981: InsecureRequestWarning: Unverified HTTPS request is being made to host 'www.sec.gov'. Adding certificate verification is strongly advised. See: https://urllib3.readthedocs.io/en/latest/advanced-usage.html#ssl-warnings\n",
      "  warnings.warn(\n"
     ]
    },
    {
     "name": "stdout",
     "output_type": "stream",
     "text": [
      "{'Revenue': None, 'Net Income': None, 'Cash and cash equivalents': 156859.0, 'Goodwill': None, 'Intangible assets': None, 'Total assets': 159197.0, 'Commercial Paper': None, 'Other Current Borrowings': None, 'Long Term Debt': None, 'Short-Term Debt': None, 'Net cash used in operating activities': None, 'Purchases of property and equipment': None}\n",
      "(62) https://www.sec.gov/Archives/edgar/data/1577526/000162828020016443/c3ais-1.htm\n"
     ]
    },
    {
     "name": "stderr",
     "output_type": "stream",
     "text": [
      "c:\\python38\\lib\\site-packages\\urllib3\\connectionpool.py:981: InsecureRequestWarning: Unverified HTTPS request is being made to host 'www.sec.gov'. Adding certificate verification is strongly advised. See: https://urllib3.readthedocs.io/en/latest/advanced-usage.html#ssl-warnings\n",
      "  warnings.warn(\n"
     ]
    },
    {
     "name": "stdout",
     "output_type": "stream",
     "text": [
      "{'Revenue': None, 'Net Income': None, 'Cash and cash equivalents': 128979.0, 'Goodwill': None, 'Intangible assets': None, 'Total assets': 355769.0, 'Commercial Paper': None, 'Other Current Borrowings': None, 'Long Term Debt': None, 'Short-Term Debt': None, 'Net cash used in operating activities': None, 'Purchases of property and equipment': None}\n",
      "(63) https://www.sec.gov/Archives/edgar/data/1422930/000162828020016438/pubmatics-12020.htm\n"
     ]
    },
    {
     "name": "stderr",
     "output_type": "stream",
     "text": [
      "c:\\python38\\lib\\site-packages\\urllib3\\connectionpool.py:981: InsecureRequestWarning: Unverified HTTPS request is being made to host 'www.sec.gov'. Adding certificate verification is strongly advised. See: https://urllib3.readthedocs.io/en/latest/advanced-usage.html#ssl-warnings\n",
      "  warnings.warn(\n"
     ]
    },
    {
     "name": "stdout",
     "output_type": "stream",
     "text": [
      "{'Revenue': None, 'Net Income': None, 'Cash and cash equivalents': 40612.0, 'Goodwill': None, 'Intangible assets': None, 'Total assets': 240124.0, 'Commercial Paper': None, 'Other Current Borrowings': None, 'Long Term Debt': None, 'Short-Term Debt': None, 'Net cash used in operating activities': None, 'Purchases of property and equipment': None}\n",
      "(64) https://www.sec.gov/Archives/edgar/data/949858/000156459020053884/achv-s1.htm\n"
     ]
    },
    {
     "name": "stderr",
     "output_type": "stream",
     "text": [
      "c:\\python38\\lib\\site-packages\\urllib3\\connectionpool.py:981: InsecureRequestWarning: Unverified HTTPS request is being made to host 'www.sec.gov'. Adding certificate verification is strongly advised. See: https://urllib3.readthedocs.io/en/latest/advanced-usage.html#ssl-warnings\n",
      "  warnings.warn(\n"
     ]
    },
    {
     "name": "stdout",
     "output_type": "stream",
     "text": [
      "{'Revenue': None, 'Net Income': None, 'Cash and cash equivalents': None, 'Goodwill': None, 'Intangible assets': None, 'Total assets': None, 'Commercial Paper': None, 'Other Current Borrowings': None, 'Long Term Debt': None, 'Short-Term Debt': None, 'Net cash used in operating activities': None, 'Purchases of property and equipment': None}\n",
      "(65) https://www.sec.gov/Archives/edgar/data/1821323/000104746920005479/a2242620zs-1.htm\n"
     ]
    },
    {
     "name": "stderr",
     "output_type": "stream",
     "text": [
      "c:\\python38\\lib\\site-packages\\urllib3\\connectionpool.py:981: InsecureRequestWarning: Unverified HTTPS request is being made to host 'www.sec.gov'. Adding certificate verification is strongly advised. See: https://urllib3.readthedocs.io/en/latest/advanced-usage.html#ssl-warnings\n",
      "  warnings.warn(\n"
     ]
    },
    {
     "name": "stdout",
     "output_type": "stream",
     "text": [
      "{'Revenue': None, 'Net Income': None, 'Cash and cash equivalents': None, 'Goodwill': None, 'Intangible assets': None, 'Total assets': 77453.0, 'Commercial Paper': None, 'Other Current Borrowings': None, 'Long Term Debt': None, 'Short-Term Debt': None, 'Net cash used in operating activities': None, 'Purchases of property and equipment': None}\n",
      "(66) https://www.sec.gov/Archives/edgar/data/829325/000126246320000452/spyrs1.htm\n"
     ]
    },
    {
     "name": "stderr",
     "output_type": "stream",
     "text": [
      "c:\\python38\\lib\\site-packages\\urllib3\\connectionpool.py:981: InsecureRequestWarning: Unverified HTTPS request is being made to host 'www.sec.gov'. Adding certificate verification is strongly advised. See: https://urllib3.readthedocs.io/en/latest/advanced-usage.html#ssl-warnings\n",
      "  warnings.warn(\n"
     ]
    },
    {
     "name": "stdout",
     "output_type": "stream",
     "text": [
      "{'Revenue': None, 'Net Income': None, 'Cash and cash equivalents': None, 'Goodwill': None, 'Intangible assets': None, 'Total assets': None, 'Commercial Paper': None, 'Other Current Borrowings': None, 'Long Term Debt': None, 'Short-Term Debt': None, 'Net cash used in operating activities': None, 'Purchases of property and equipment': None}\n",
      "(67) https://www.sec.gov/Archives/edgar/data/1087022/000172186820000518/f2salr111320s1a.htm\n"
     ]
    },
    {
     "name": "stderr",
     "output_type": "stream",
     "text": [
      "c:\\python38\\lib\\site-packages\\urllib3\\connectionpool.py:981: InsecureRequestWarning: Unverified HTTPS request is being made to host 'www.sec.gov'. Adding certificate verification is strongly advised. See: https://urllib3.readthedocs.io/en/latest/advanced-usage.html#ssl-warnings\n",
      "  warnings.warn(\n"
     ]
    },
    {
     "name": "stdout",
     "output_type": "stream",
     "text": [
      "{'Revenue': None, 'Net Income': None, 'Cash and cash equivalents': None, 'Goodwill': None, 'Intangible assets': None, 'Total assets': None, 'Commercial Paper': None, 'Other Current Borrowings': None, 'Long Term Debt': None, 'Short-Term Debt': None, 'Net cash used in operating activities': None, 'Purchases of property and equipment': None}\n",
      "(68) https://www.sec.gov/Archives/edgar/data/1562577/000120928620000236/g169817_s1.htm\n"
     ]
    },
    {
     "name": "stderr",
     "output_type": "stream",
     "text": [
      "c:\\python38\\lib\\site-packages\\urllib3\\connectionpool.py:981: InsecureRequestWarning: Unverified HTTPS request is being made to host 'www.sec.gov'. Adding certificate verification is strongly advised. See: https://urllib3.readthedocs.io/en/latest/advanced-usage.html#ssl-warnings\n",
      "  warnings.warn(\n"
     ]
    },
    {
     "name": "stdout",
     "output_type": "stream",
     "text": [
      "{'Revenue': None, 'Net Income': None, 'Cash and cash equivalents': None, 'Goodwill': None, 'Intangible assets': None, 'Total assets': None, 'Commercial Paper': None, 'Other Current Borrowings': None, 'Long Term Debt': None, 'Short-Term Debt': None, 'Net cash used in operating activities': None, 'Purchases of property and equipment': None}\n",
      "(69) https://www.sec.gov/Archives/edgar/data/1822835/000110465920124750/tm2029933-8_s1a.htm\n"
     ]
    },
    {
     "name": "stderr",
     "output_type": "stream",
     "text": [
      "c:\\python38\\lib\\site-packages\\urllib3\\connectionpool.py:981: InsecureRequestWarning: Unverified HTTPS request is being made to host 'www.sec.gov'. Adding certificate verification is strongly advised. See: https://urllib3.readthedocs.io/en/latest/advanced-usage.html#ssl-warnings\n",
      "  warnings.warn(\n"
     ]
    },
    {
     "name": "stdout",
     "output_type": "stream",
     "text": [
      "{'Revenue': None, 'Net Income': None, 'Cash and cash equivalents': None, 'Goodwill': None, 'Intangible assets': None, 'Total assets': 110000.0, 'Commercial Paper': None, 'Other Current Borrowings': None, 'Long Term Debt': None, 'Short-Term Debt': None, 'Net cash used in operating activities': None, 'Purchases of property and equipment': None}\n",
      "(70) https://www.sec.gov/Archives/edgar/data/1805077/000121390020036777/fs12020a1_brileyprincipal2.htm\n"
     ]
    },
    {
     "name": "stderr",
     "output_type": "stream",
     "text": [
      "c:\\python38\\lib\\site-packages\\urllib3\\connectionpool.py:981: InsecureRequestWarning: Unverified HTTPS request is being made to host 'www.sec.gov'. Adding certificate verification is strongly advised. See: https://urllib3.readthedocs.io/en/latest/advanced-usage.html#ssl-warnings\n",
      "  warnings.warn(\n"
     ]
    },
    {
     "name": "stdout",
     "output_type": "stream",
     "text": [
      "{'Revenue': 35.0, 'Net Income': -2047597.0, 'Cash and cash equivalents': 315.0, 'Goodwill': None, 'Intangible assets': None, 'Total assets': 177329013.0, 'Commercial Paper': None, 'Other Current Borrowings': None, 'Long Term Debt': None, 'Short-Term Debt': None, 'Net cash used in operating activities': -458706.0, 'Purchases of property and equipment': -1839.0}\n",
      "(71) https://www.sec.gov/Archives/edgar/data/1792789/000119312520292381/d752207ds1.htm\n"
     ]
    },
    {
     "name": "stderr",
     "output_type": "stream",
     "text": [
      "c:\\python38\\lib\\site-packages\\urllib3\\connectionpool.py:981: InsecureRequestWarning: Unverified HTTPS request is being made to host 'www.sec.gov'. Adding certificate verification is strongly advised. See: https://urllib3.readthedocs.io/en/latest/advanced-usage.html#ssl-warnings\n",
      "  warnings.warn(\n"
     ]
    },
    {
     "name": "stdout",
     "output_type": "stream",
     "text": [
      "{'Revenue': 885.0, 'Net Income': -667.0, 'Cash and cash equivalents': 215.0, 'Goodwill': 306.0, 'Intangible assets': None, 'Total assets': 2874.0, 'Commercial Paper': 10.0, 'Other Current Borrowings': None, 'Long Term Debt': None, 'Short-Term Debt': None, 'Net cash used in operating activities': None, 'Purchases of property and equipment': None}\n",
      "(72) https://www.sec.gov/Archives/edgar/data/1823239/000119312520292361/d73061ds1a.htm\n"
     ]
    },
    {
     "name": "stderr",
     "output_type": "stream",
     "text": [
      "c:\\python38\\lib\\site-packages\\urllib3\\connectionpool.py:981: InsecureRequestWarning: Unverified HTTPS request is being made to host 'www.sec.gov'. Adding certificate verification is strongly advised. See: https://urllib3.readthedocs.io/en/latest/advanced-usage.html#ssl-warnings\n",
      "  warnings.warn(\n"
     ]
    },
    {
     "name": "stdout",
     "output_type": "stream",
     "text": [
      "{'Revenue': 123833.0, 'Net Income': -16915.0, 'Cash and cash equivalents': None, 'Goodwill': None, 'Intangible assets': None, 'Total assets': 539676.0, 'Commercial Paper': None, 'Other Current Borrowings': None, 'Long Term Debt': None, 'Short-Term Debt': None, 'Net cash used in operating activities': None, 'Purchases of property and equipment': None}\n",
      "(73) https://www.sec.gov/Archives/edgar/data/1829889/000121390020036717/fs12020_insuacquisition3.htm\n"
     ]
    },
    {
     "name": "stderr",
     "output_type": "stream",
     "text": [
      "c:\\python38\\lib\\site-packages\\urllib3\\connectionpool.py:981: InsecureRequestWarning: Unverified HTTPS request is being made to host 'www.sec.gov'. Adding certificate verification is strongly advised. See: https://urllib3.readthedocs.io/en/latest/advanced-usage.html#ssl-warnings\n",
      "  warnings.warn(\n"
     ]
    },
    {
     "name": "stdout",
     "output_type": "stream",
     "text": [
      "{'Revenue': None, 'Net Income': -560.0, 'Cash and cash equivalents': None, 'Goodwill': None, 'Intangible assets': None, 'Total assets': 12733.0, 'Commercial Paper': None, 'Other Current Borrowings': None, 'Long Term Debt': None, 'Short-Term Debt': None, 'Net cash used in operating activities': -560.0, 'Purchases of property and equipment': None}\n",
      "(74) https://www.sec.gov/Archives/edgar/data/1759546/000110465920124501/tm2035569-1_s1.htm\n"
     ]
    },
    {
     "name": "stderr",
     "output_type": "stream",
     "text": [
      "c:\\python38\\lib\\site-packages\\urllib3\\connectionpool.py:981: InsecureRequestWarning: Unverified HTTPS request is being made to host 'www.sec.gov'. Adding certificate verification is strongly advised. See: https://urllib3.readthedocs.io/en/latest/advanced-usage.html#ssl-warnings\n",
      "  warnings.warn(\n"
     ]
    },
    {
     "name": "stdout",
     "output_type": "stream",
     "text": [
      "{'Revenue': None, 'Net Income': 190339.0, 'Cash and cash equivalents': 857071.0, 'Goodwill': None, 'Intangible assets': 11111.0, 'Total assets': 285275830.0, 'Commercial Paper': None, 'Other Current Borrowings': None, 'Long Term Debt': None, 'Short-Term Debt': None, 'Net cash used in operating activities': None, 'Purchases of property and equipment': None}\n",
      "(75) https://www.sec.gov/Archives/edgar/data/1583771/000110465920124495/tm2034164d2_s1a.htm\n"
     ]
    },
    {
     "name": "stderr",
     "output_type": "stream",
     "text": [
      "c:\\python38\\lib\\site-packages\\urllib3\\connectionpool.py:981: InsecureRequestWarning: Unverified HTTPS request is being made to host 'www.sec.gov'. Adding certificate verification is strongly advised. See: https://urllib3.readthedocs.io/en/latest/advanced-usage.html#ssl-warnings\n",
      "  warnings.warn(\n"
     ]
    },
    {
     "name": "stdout",
     "output_type": "stream",
     "text": [
      "{'Revenue': None, 'Net Income': None, 'Cash and cash equivalents': None, 'Goodwill': None, 'Intangible assets': None, 'Total assets': None, 'Commercial Paper': None, 'Other Current Borrowings': None, 'Long Term Debt': None, 'Short-Term Debt': None, 'Net cash used in operating activities': None, 'Purchases of property and equipment': None}\n",
      "(76) https://www.sec.gov/Archives/edgar/data/1413488/000107997320000960/cbi_s1.htm\n"
     ]
    },
    {
     "name": "stderr",
     "output_type": "stream",
     "text": [
      "c:\\python38\\lib\\site-packages\\urllib3\\connectionpool.py:981: InsecureRequestWarning: Unverified HTTPS request is being made to host 'www.sec.gov'. Adding certificate verification is strongly advised. See: https://urllib3.readthedocs.io/en/latest/advanced-usage.html#ssl-warnings\n",
      "  warnings.warn(\n"
     ]
    },
    {
     "name": "stdout",
     "output_type": "stream",
     "text": [
      "{'Revenue': None, 'Net Income': None, 'Cash and cash equivalents': None, 'Goodwill': None, 'Intangible assets': None, 'Total assets': 2325185.0, 'Commercial Paper': None, 'Other Current Borrowings': None, 'Long Term Debt': None, 'Short-Term Debt': None, 'Net cash used in operating activities': None, 'Purchases of property and equipment': None}\n",
      "(77) https://www.sec.gov/Archives/edgar/data/1819810/000119312520291789/d48359ds1a.htm\n"
     ]
    },
    {
     "name": "stderr",
     "output_type": "stream",
     "text": [
      "c:\\python38\\lib\\site-packages\\urllib3\\connectionpool.py:981: InsecureRequestWarning: Unverified HTTPS request is being made to host 'www.sec.gov'. Adding certificate verification is strongly advised. See: https://urllib3.readthedocs.io/en/latest/advanced-usage.html#ssl-warnings\n",
      "  warnings.warn(\n"
     ]
    },
    {
     "name": "stdout",
     "output_type": "stream",
     "text": [
      "{'Revenue': None, 'Net Income': None, 'Cash and cash equivalents': None, 'Goodwill': None, 'Intangible assets': None, 'Total assets': 100000.0, 'Commercial Paper': None, 'Other Current Borrowings': None, 'Long Term Debt': None, 'Short-Term Debt': None, 'Net cash used in operating activities': None, 'Purchases of property and equipment': None}\n",
      "(78) https://www.sec.gov/Archives/edgar/data/1695295/000110465920124456/tm2027341-5_s1.htm\n"
     ]
    },
    {
     "name": "stderr",
     "output_type": "stream",
     "text": [
      "c:\\python38\\lib\\site-packages\\urllib3\\connectionpool.py:981: InsecureRequestWarning: Unverified HTTPS request is being made to host 'www.sec.gov'. Adding certificate verification is strongly advised. See: https://urllib3.readthedocs.io/en/latest/advanced-usage.html#ssl-warnings\n",
      "  warnings.warn(\n"
     ]
    },
    {
     "name": "stdout",
     "output_type": "stream",
     "text": [
      "{'Revenue': None, 'Net Income': -35301.0, 'Cash and cash equivalents': 22866.0, 'Goodwill': None, 'Intangible assets': None, 'Total assets': 185651.0, 'Commercial Paper': None, 'Other Current Borrowings': None, 'Long Term Debt': None, 'Short-Term Debt': None, 'Net cash used in operating activities': None, 'Purchases of property and equipment': None}\n",
      "(79) https://www.sec.gov/Archives/edgar/data/1726445/000162828020016325/seers-1.htm\n"
     ]
    },
    {
     "name": "stderr",
     "output_type": "stream",
     "text": [
      "c:\\python38\\lib\\site-packages\\urllib3\\connectionpool.py:981: InsecureRequestWarning: Unverified HTTPS request is being made to host 'www.sec.gov'. Adding certificate verification is strongly advised. See: https://urllib3.readthedocs.io/en/latest/advanced-usage.html#ssl-warnings\n",
      "  warnings.warn(\n"
     ]
    },
    {
     "name": "stdout",
     "output_type": "stream",
     "text": [
      "{'Revenue': None, 'Net Income': -6307.0, 'Cash and cash equivalents': None, 'Goodwill': None, 'Intangible assets': None, 'Total assets': 133890.0, 'Commercial Paper': None, 'Other Current Borrowings': None, 'Long Term Debt': None, 'Short-Term Debt': None, 'Net cash used in operating activities': None, 'Purchases of property and equipment': None}\n",
      "(80) https://www.sec.gov/Archives/edgar/data/1823575/000114036120025373/nt10014955x4_s1a.htm\n"
     ]
    },
    {
     "name": "stderr",
     "output_type": "stream",
     "text": [
      "c:\\python38\\lib\\site-packages\\urllib3\\connectionpool.py:981: InsecureRequestWarning: Unverified HTTPS request is being made to host 'www.sec.gov'. Adding certificate verification is strongly advised. See: https://urllib3.readthedocs.io/en/latest/advanced-usage.html#ssl-warnings\n",
      "  warnings.warn(\n"
     ]
    },
    {
     "name": "stdout",
     "output_type": "stream",
     "text": [
      "{'Revenue': None, 'Net Income': None, 'Cash and cash equivalents': None, 'Goodwill': None, 'Intangible assets': None, 'Total assets': None, 'Commercial Paper': None, 'Other Current Borrowings': None, 'Long Term Debt': None, 'Short-Term Debt': None, 'Net cash used in operating activities': None, 'Purchases of property and equipment': None}\n",
      "(81) https://www.sec.gov/Archives/edgar/data/727510/000110465920124408/tm2035659-1_s1.htm\n"
     ]
    },
    {
     "name": "stderr",
     "output_type": "stream",
     "text": [
      "c:\\python38\\lib\\site-packages\\urllib3\\connectionpool.py:981: InsecureRequestWarning: Unverified HTTPS request is being made to host 'www.sec.gov'. Adding certificate verification is strongly advised. See: https://urllib3.readthedocs.io/en/latest/advanced-usage.html#ssl-warnings\n",
      "  warnings.warn(\n"
     ]
    },
    {
     "name": "stdout",
     "output_type": "stream",
     "text": [
      "{'Revenue': None, 'Net Income': None, 'Cash and cash equivalents': None, 'Goodwill': None, 'Intangible assets': None, 'Total assets': None, 'Commercial Paper': None, 'Other Current Borrowings': None, 'Long Term Debt': None, 'Short-Term Debt': None, 'Net cash used in operating activities': None, 'Purchases of property and equipment': None}\n",
      "(82) https://www.sec.gov/Archives/edgar/data/1818844/000110465920124401/tm2025286-18_s1a.htm\n"
     ]
    },
    {
     "name": "stderr",
     "output_type": "stream",
     "text": [
      "c:\\python38\\lib\\site-packages\\urllib3\\connectionpool.py:981: InsecureRequestWarning: Unverified HTTPS request is being made to host 'www.sec.gov'. Adding certificate verification is strongly advised. See: https://urllib3.readthedocs.io/en/latest/advanced-usage.html#ssl-warnings\n",
      "  warnings.warn(\n"
     ]
    },
    {
     "name": "stdout",
     "output_type": "stream",
     "text": [
      "{'Revenue': None, 'Net Income': -2473.0, 'Cash and cash equivalents': None, 'Goodwill': None, 'Intangible assets': None, 'Total assets': 785.0, 'Commercial Paper': None, 'Other Current Borrowings': None, 'Long Term Debt': None, 'Short-Term Debt': None, 'Net cash used in operating activities': None, 'Purchases of property and equipment': None}\n",
      "(83) https://www.sec.gov/Archives/edgar/data/944130/000094413020000043/c130-20201112xs1.htm\n"
     ]
    },
    {
     "name": "stderr",
     "output_type": "stream",
     "text": [
      "c:\\python38\\lib\\site-packages\\urllib3\\connectionpool.py:981: InsecureRequestWarning: Unverified HTTPS request is being made to host 'www.sec.gov'. Adding certificate verification is strongly advised. See: https://urllib3.readthedocs.io/en/latest/advanced-usage.html#ssl-warnings\n",
      "  warnings.warn(\n"
     ]
    },
    {
     "name": "stdout",
     "output_type": "stream",
     "text": [
      "{'Revenue': None, 'Net Income': None, 'Cash and cash equivalents': 17926.0, 'Goodwill': None, 'Intangible assets': None, 'Total assets': 158021.0, 'Commercial Paper': None, 'Other Current Borrowings': None, 'Long Term Debt': None, 'Short-Term Debt': None, 'Net cash used in operating activities': None, 'Purchases of property and equipment': None}\n",
      "(84) https://www.sec.gov/Archives/edgar/data/1827855/000168316820003845/medicale_s1.htm\n"
     ]
    },
    {
     "name": "stderr",
     "output_type": "stream",
     "text": [
      "c:\\python38\\lib\\site-packages\\urllib3\\connectionpool.py:981: InsecureRequestWarning: Unverified HTTPS request is being made to host 'www.sec.gov'. Adding certificate verification is strongly advised. See: https://urllib3.readthedocs.io/en/latest/advanced-usage.html#ssl-warnings\n",
      "  warnings.warn(\n"
     ]
    },
    {
     "name": "stdout",
     "output_type": "stream",
     "text": [
      "{'Revenue': None, 'Net Income': None, 'Cash and cash equivalents': None, 'Goodwill': None, 'Intangible assets': None, 'Total assets': None, 'Commercial Paper': None, 'Other Current Borrowings': None, 'Long Term Debt': None, 'Short-Term Debt': None, 'Net cash used in operating activities': None, 'Purchases of property and equipment': None}\n",
      "(85) https://www.sec.gov/Archives/edgar/data/1824013/000110465920124092/tm2031762-11_s1a.htm\n"
     ]
    },
    {
     "name": "stderr",
     "output_type": "stream",
     "text": [
      "c:\\python38\\lib\\site-packages\\urllib3\\connectionpool.py:981: InsecureRequestWarning: Unverified HTTPS request is being made to host 'www.sec.gov'. Adding certificate verification is strongly advised. See: https://urllib3.readthedocs.io/en/latest/advanced-usage.html#ssl-warnings\n",
      "  warnings.warn(\n"
     ]
    },
    {
     "name": "stdout",
     "output_type": "stream",
     "text": [
      "{'Revenue': None, 'Net Income': None, 'Cash and cash equivalents': None, 'Goodwill': None, 'Intangible assets': None, 'Total assets': 59000.0, 'Commercial Paper': None, 'Other Current Borrowings': None, 'Long Term Debt': None, 'Short-Term Debt': None, 'Net cash used in operating activities': None, 'Purchases of property and equipment': None}\n",
      "(86) https://www.sec.gov/Archives/edgar/data/1562577/000120928620000233/g169115_s1.htm\n"
     ]
    },
    {
     "name": "stderr",
     "output_type": "stream",
     "text": [
      "c:\\python38\\lib\\site-packages\\urllib3\\connectionpool.py:981: InsecureRequestWarning: Unverified HTTPS request is being made to host 'www.sec.gov'. Adding certificate verification is strongly advised. See: https://urllib3.readthedocs.io/en/latest/advanced-usage.html#ssl-warnings\n",
      "  warnings.warn(\n"
     ]
    },
    {
     "name": "stdout",
     "output_type": "stream",
     "text": [
      "{'Revenue': None, 'Net Income': None, 'Cash and cash equivalents': None, 'Goodwill': None, 'Intangible assets': None, 'Total assets': None, 'Commercial Paper': None, 'Other Current Borrowings': None, 'Long Term Debt': None, 'Short-Term Debt': None, 'Net cash used in operating activities': None, 'Purchases of property and equipment': None}\n",
      "(87) https://www.sec.gov/Archives/edgar/data/1549922/000119312520291055/d201690ds1a.htm\n"
     ]
    },
    {
     "name": "stderr",
     "output_type": "stream",
     "text": [
      "c:\\python38\\lib\\site-packages\\urllib3\\connectionpool.py:981: InsecureRequestWarning: Unverified HTTPS request is being made to host 'www.sec.gov'. Adding certificate verification is strongly advised. See: https://urllib3.readthedocs.io/en/latest/advanced-usage.html#ssl-warnings\n",
      "  warnings.warn(\n"
     ]
    },
    {
     "name": "stdout",
     "output_type": "stream",
     "text": [
      "{'Revenue': None, 'Net Income': None, 'Cash and cash equivalents': None, 'Goodwill': None, 'Intangible assets': None, 'Total assets': None, 'Commercial Paper': None, 'Other Current Borrowings': None, 'Long Term Debt': None, 'Short-Term Debt': None, 'Net cash used in operating activities': None, 'Purchases of property and equipment': None}\n",
      "(88) https://www.sec.gov/Archives/edgar/data/1822479/000119312520290973/d93452ds1a.htm\n"
     ]
    },
    {
     "name": "stderr",
     "output_type": "stream",
     "text": [
      "c:\\python38\\lib\\site-packages\\urllib3\\connectionpool.py:981: InsecureRequestWarning: Unverified HTTPS request is being made to host 'www.sec.gov'. Adding certificate verification is strongly advised. See: https://urllib3.readthedocs.io/en/latest/advanced-usage.html#ssl-warnings\n",
      "  warnings.warn(\n"
     ]
    },
    {
     "name": "stdout",
     "output_type": "stream",
     "text": [
      "{'Revenue': None, 'Net Income': -20425.0, 'Cash and cash equivalents': 62863.0, 'Goodwill': 1035865.0, 'Intangible assets': None, 'Total assets': 2580674.0, 'Commercial Paper': None, 'Other Current Borrowings': None, 'Long Term Debt': None, 'Short-Term Debt': None, 'Net cash used in operating activities': None, 'Purchases of property and equipment': None}\n",
      "(89) https://www.sec.gov/Archives/edgar/data/1825724/000119312520290958/d48600ds1a.htm\n"
     ]
    },
    {
     "name": "stderr",
     "output_type": "stream",
     "text": [
      "c:\\python38\\lib\\site-packages\\urllib3\\connectionpool.py:981: InsecureRequestWarning: Unverified HTTPS request is being made to host 'www.sec.gov'. Adding certificate verification is strongly advised. See: https://urllib3.readthedocs.io/en/latest/advanced-usage.html#ssl-warnings\n",
      "  warnings.warn(\n"
     ]
    },
    {
     "name": "stdout",
     "output_type": "stream",
     "text": [
      "{'Revenue': None, 'Net Income': None, 'Cash and cash equivalents': None, 'Goodwill': None, 'Intangible assets': None, 'Total assets': 279605.0, 'Commercial Paper': None, 'Other Current Borrowings': None, 'Long Term Debt': None, 'Short-Term Debt': None, 'Net cash used in operating activities': None, 'Purchases of property and equipment': None}\n",
      "(90) https://www.sec.gov/Archives/edgar/data/1823652/000119312520290907/d82035ds1a.htm\n"
     ]
    },
    {
     "name": "stderr",
     "output_type": "stream",
     "text": [
      "c:\\python38\\lib\\site-packages\\urllib3\\connectionpool.py:981: InsecureRequestWarning: Unverified HTTPS request is being made to host 'www.sec.gov'. Adding certificate verification is strongly advised. See: https://urllib3.readthedocs.io/en/latest/advanced-usage.html#ssl-warnings\n",
      "  warnings.warn(\n"
     ]
    },
    {
     "name": "stdout",
     "output_type": "stream",
     "text": [
      "{'Revenue': None, 'Net Income': -1000.0, 'Cash and cash equivalents': None, 'Goodwill': None, 'Intangible assets': None, 'Total assets': 72852.0, 'Commercial Paper': None, 'Other Current Borrowings': None, 'Long Term Debt': None, 'Short-Term Debt': None, 'Net cash used in operating activities': None, 'Purchases of property and equipment': None}\n",
      "(91) https://www.sec.gov/Archives/edgar/data/1824893/000110465920123739/tm2030948-25_s1a.htm\n"
     ]
    },
    {
     "name": "stderr",
     "output_type": "stream",
     "text": [
      "c:\\python38\\lib\\site-packages\\urllib3\\connectionpool.py:981: InsecureRequestWarning: Unverified HTTPS request is being made to host 'www.sec.gov'. Adding certificate verification is strongly advised. See: https://urllib3.readthedocs.io/en/latest/advanced-usage.html#ssl-warnings\n",
      "  warnings.warn(\n"
     ]
    },
    {
     "name": "stdout",
     "output_type": "stream",
     "text": [
      "{'Revenue': None, 'Net Income': None, 'Cash and cash equivalents': None, 'Goodwill': None, 'Intangible assets': None, 'Total assets': 50039.0, 'Commercial Paper': None, 'Other Current Borrowings': None, 'Long Term Debt': None, 'Short-Term Debt': None, 'Net cash used in operating activities': None, 'Purchases of property and equipment': None}\n",
      "(92) https://www.sec.gov/Archives/edgar/data/1579733/000119312520290342/d41931ds1a.htm\n"
     ]
    },
    {
     "name": "stderr",
     "output_type": "stream",
     "text": [
      "c:\\python38\\lib\\site-packages\\urllib3\\connectionpool.py:981: InsecureRequestWarning: Unverified HTTPS request is being made to host 'www.sec.gov'. Adding certificate verification is strongly advised. See: https://urllib3.readthedocs.io/en/latest/advanced-usage.html#ssl-warnings\n",
      "  warnings.warn(\n"
     ]
    },
    {
     "name": "stdout",
     "output_type": "stream",
     "text": [
      "{'Revenue': None, 'Net Income': None, 'Cash and cash equivalents': None, 'Goodwill': None, 'Intangible assets': None, 'Total assets': None, 'Commercial Paper': None, 'Other Current Borrowings': None, 'Long Term Debt': None, 'Short-Term Debt': None, 'Net cash used in operating activities': None, 'Purchases of property and equipment': None}\n",
      "(93) https://www.sec.gov/Archives/edgar/data/1803914/000110465920123679/tm2035405-1_s1.htm\n"
     ]
    },
    {
     "name": "stderr",
     "output_type": "stream",
     "text": [
      "c:\\python38\\lib\\site-packages\\urllib3\\connectionpool.py:981: InsecureRequestWarning: Unverified HTTPS request is being made to host 'www.sec.gov'. Adding certificate verification is strongly advised. See: https://urllib3.readthedocs.io/en/latest/advanced-usage.html#ssl-warnings\n",
      "  warnings.warn(\n"
     ]
    },
    {
     "name": "stdout",
     "output_type": "stream",
     "text": [
      "{'Revenue': None, 'Net Income': -19811.0, 'Cash and cash equivalents': 22151.0, 'Goodwill': 504.0, 'Intangible assets': None, 'Total assets': 59077694.0, 'Commercial Paper': None, 'Other Current Borrowings': None, 'Long Term Debt': None, 'Short-Term Debt': None, 'Net cash used in operating activities': None, 'Purchases of property and equipment': None}\n",
      "(94) https://www.sec.gov/Archives/edgar/data/1661181/000119312520290330/d12613ds1a.htm\n"
     ]
    },
    {
     "name": "stderr",
     "output_type": "stream",
     "text": [
      "c:\\python38\\lib\\site-packages\\urllib3\\connectionpool.py:981: InsecureRequestWarning: Unverified HTTPS request is being made to host 'www.sec.gov'. Adding certificate verification is strongly advised. See: https://urllib3.readthedocs.io/en/latest/advanced-usage.html#ssl-warnings\n",
      "  warnings.warn(\n"
     ]
    },
    {
     "name": "stdout",
     "output_type": "stream",
     "text": [
      "{'Revenue': None, 'Net Income': None, 'Cash and cash equivalents': None, 'Goodwill': None, 'Intangible assets': None, 'Total assets': None, 'Commercial Paper': None, 'Other Current Borrowings': None, 'Long Term Debt': None, 'Short-Term Debt': None, 'Net cash used in operating activities': None, 'Purchases of property and equipment': None}\n",
      "(95) https://www.sec.gov/Archives/edgar/data/1505611/000121390020036216/ea129610-s1a2_decisionpoint.htm\n"
     ]
    },
    {
     "name": "stderr",
     "output_type": "stream",
     "text": [
      "c:\\python38\\lib\\site-packages\\urllib3\\connectionpool.py:981: InsecureRequestWarning: Unverified HTTPS request is being made to host 'www.sec.gov'. Adding certificate verification is strongly advised. See: https://urllib3.readthedocs.io/en/latest/advanced-usage.html#ssl-warnings\n",
      "  warnings.warn(\n"
     ]
    },
    {
     "name": "stdout",
     "output_type": "stream",
     "text": [
      "{'Revenue': None, 'Net Income': None, 'Cash and cash equivalents': None, 'Goodwill': 6990.0, 'Intangible assets': 2058.0, 'Total assets': 31770.0, 'Commercial Paper': None, 'Other Current Borrowings': None, 'Long Term Debt': None, 'Short-Term Debt': None, 'Net cash used in operating activities': None, 'Purchases of property and equipment': None}\n",
      "(96) https://www.sec.gov/Archives/edgar/data/320121/000114036120025205/nt10015254x4_s1a.htm\n"
     ]
    },
    {
     "name": "stderr",
     "output_type": "stream",
     "text": [
      "c:\\python38\\lib\\site-packages\\urllib3\\connectionpool.py:981: InsecureRequestWarning: Unverified HTTPS request is being made to host 'www.sec.gov'. Adding certificate verification is strongly advised. See: https://urllib3.readthedocs.io/en/latest/advanced-usage.html#ssl-warnings\n",
      "  warnings.warn(\n"
     ]
    },
    {
     "name": "stdout",
     "output_type": "stream",
     "text": [
      "{'Revenue': 107727.0, 'Net Income': -3498.0, 'Cash and cash equivalents': 600.0, 'Goodwill': None, 'Intangible assets': None, 'Total assets': 74421.0, 'Commercial Paper': None, 'Other Current Borrowings': None, 'Long Term Debt': None, 'Short-Term Debt': None, 'Net cash used in operating activities': None, 'Purchases of property and equipment': None}\n",
      "(97) https://www.sec.gov/Archives/edgar/data/1450704/000168316820003812/vivakor_s1.htm\n"
     ]
    },
    {
     "name": "stderr",
     "output_type": "stream",
     "text": [
      "c:\\python38\\lib\\site-packages\\urllib3\\connectionpool.py:981: InsecureRequestWarning: Unverified HTTPS request is being made to host 'www.sec.gov'. Adding certificate verification is strongly advised. See: https://urllib3.readthedocs.io/en/latest/advanced-usage.html#ssl-warnings\n",
      "  warnings.warn(\n"
     ]
    },
    {
     "name": "stdout",
     "output_type": "stream",
     "text": [
      "{'Revenue': None, 'Net Income': None, 'Cash and cash equivalents': None, 'Goodwill': None, 'Intangible assets': None, 'Total assets': None, 'Commercial Paper': None, 'Other Current Borrowings': None, 'Long Term Debt': None, 'Short-Term Debt': None, 'Net cash used in operating activities': None, 'Purchases of property and equipment': None}\n",
      "(98) https://www.sec.gov/Archives/edgar/data/1664710/000162828020016204/kros-20201110.htm\n"
     ]
    },
    {
     "name": "stderr",
     "output_type": "stream",
     "text": [
      "c:\\python38\\lib\\site-packages\\urllib3\\connectionpool.py:981: InsecureRequestWarning: Unverified HTTPS request is being made to host 'www.sec.gov'. Adding certificate verification is strongly advised. See: https://urllib3.readthedocs.io/en/latest/advanced-usage.html#ssl-warnings\n",
      "  warnings.warn(\n"
     ]
    },
    {
     "name": "stdout",
     "output_type": "stream",
     "text": [
      "{'Revenue': None, 'Net Income': -1335.0, 'Cash and cash equivalents': 133810.0, 'Goodwill': None, 'Intangible assets': None, 'Total assets': 138246.0, 'Commercial Paper': None, 'Other Current Borrowings': None, 'Long Term Debt': None, 'Short-Term Debt': None, 'Net cash used in operating activities': None, 'Purchases of property and equipment': None}\n",
      "(99) https://www.sec.gov/Archives/edgar/data/1671858/000119312520290236/d67046ds1.htm\n"
     ]
    },
    {
     "name": "stderr",
     "output_type": "stream",
     "text": [
      "c:\\python38\\lib\\site-packages\\urllib3\\connectionpool.py:981: InsecureRequestWarning: Unverified HTTPS request is being made to host 'www.sec.gov'. Adding certificate verification is strongly advised. See: https://urllib3.readthedocs.io/en/latest/advanced-usage.html#ssl-warnings\n",
      "  warnings.warn(\n"
     ]
    },
    {
     "name": "stdout",
     "output_type": "stream",
     "text": [
      "{'Revenue': None, 'Net Income': None, 'Cash and cash equivalents': 142317.0, 'Goodwill': None, 'Intangible assets': None, 'Total assets': 148911.0, 'Commercial Paper': None, 'Other Current Borrowings': None, 'Long Term Debt': None, 'Short-Term Debt': None, 'Net cash used in operating activities': None, 'Purchases of property and equipment': None}\n",
      "(100) https://www.sec.gov/Archives/edgar/data/1626450/000119312520290221/d88674ds1.htm\n"
     ]
    },
    {
     "name": "stderr",
     "output_type": "stream",
     "text": [
      "c:\\python38\\lib\\site-packages\\urllib3\\connectionpool.py:981: InsecureRequestWarning: Unverified HTTPS request is being made to host 'www.sec.gov'. Adding certificate verification is strongly advised. See: https://urllib3.readthedocs.io/en/latest/advanced-usage.html#ssl-warnings\n",
      "  warnings.warn(\n"
     ]
    },
    {
     "name": "stdout",
     "output_type": "stream",
     "text": [
      "{'Revenue': 112103.0, 'Net Income': -42590.0, 'Cash and cash equivalents': 178846.0, 'Goodwill': None, 'Intangible assets': None, 'Total assets': 235502.0, 'Commercial Paper': None, 'Other Current Borrowings': None, 'Long Term Debt': None, 'Short-Term Debt': None, 'Net cash used in operating activities': None, 'Purchases of property and equipment': None}\n",
      "(101) https://www.sec.gov/Archives/edgar/data/1819881/000121390020036190/fs12020a1_payaholdings.htm\n"
     ]
    },
    {
     "name": "stderr",
     "output_type": "stream",
     "text": [
      "c:\\python38\\lib\\site-packages\\urllib3\\connectionpool.py:981: InsecureRequestWarning: Unverified HTTPS request is being made to host 'www.sec.gov'. Adding certificate verification is strongly advised. See: https://urllib3.readthedocs.io/en/latest/advanced-usage.html#ssl-warnings\n",
      "  warnings.warn(\n"
     ]
    },
    {
     "name": "stdout",
     "output_type": "stream",
     "text": [
      "{'Revenue': 152045.0, 'Net Income': -903.0, 'Cash and cash equivalents': 75.0, 'Goodwill': 193885.0, 'Intangible assets': 21800.0, 'Total assets': 353333.0, 'Commercial Paper': None, 'Other Current Borrowings': None, 'Long Term Debt': None, 'Short-Term Debt': None, 'Net cash used in operating activities': -2142743.0, 'Purchases of property and equipment': None}\n",
      "(102) https://www.sec.gov/Archives/edgar/data/1031308/000110465920123588/tm2034063-4_s1.htm\n"
     ]
    },
    {
     "name": "stderr",
     "output_type": "stream",
     "text": [
      "c:\\python38\\lib\\site-packages\\urllib3\\connectionpool.py:981: InsecureRequestWarning: Unverified HTTPS request is being made to host 'www.sec.gov'. Adding certificate verification is strongly advised. See: https://urllib3.readthedocs.io/en/latest/advanced-usage.html#ssl-warnings\n",
      "  warnings.warn(\n"
     ]
    },
    {
     "name": "stdout",
     "output_type": "stream",
     "text": [
      "{'Revenue': None, 'Net Income': None, 'Cash and cash equivalents': 137598.0, 'Goodwill': 446318.0, 'Intangible assets': None, 'Total assets': 1090497.0, 'Commercial Paper': None, 'Other Current Borrowings': None, 'Long Term Debt': None, 'Short-Term Debt': None, 'Net cash used in operating activities': None, 'Purchases of property and equipment': None}\n",
      "(103) https://www.sec.gov/Archives/edgar/data/1796280/000119312520290157/d94968ds1.htm\n"
     ]
    },
    {
     "name": "stderr",
     "output_type": "stream",
     "text": [
      "c:\\python38\\lib\\site-packages\\urllib3\\connectionpool.py:981: InsecureRequestWarning: Unverified HTTPS request is being made to host 'www.sec.gov'. Adding certificate verification is strongly advised. See: https://urllib3.readthedocs.io/en/latest/advanced-usage.html#ssl-warnings\n",
      "  warnings.warn(\n"
     ]
    },
    {
     "name": "stdout",
     "output_type": "stream",
     "text": [
      "{'Revenue': None, 'Net Income': -21363.0, 'Cash and cash equivalents': 42636.0, 'Goodwill': None, 'Intangible assets': None, 'Total assets': 191662.0, 'Commercial Paper': None, 'Other Current Borrowings': None, 'Long Term Debt': None, 'Short-Term Debt': None, 'Net cash used in operating activities': None, 'Purchases of property and equipment': None}\n",
      "(104) https://www.sec.gov/Archives/edgar/data/1818644/000121390020036159/fs12020a3_cffinanceacq3.htm\n"
     ]
    },
    {
     "name": "stderr",
     "output_type": "stream",
     "text": [
      "c:\\python38\\lib\\site-packages\\urllib3\\connectionpool.py:981: InsecureRequestWarning: Unverified HTTPS request is being made to host 'www.sec.gov'. Adding certificate verification is strongly advised. See: https://urllib3.readthedocs.io/en/latest/advanced-usage.html#ssl-warnings\n",
      "  warnings.warn(\n"
     ]
    },
    {
     "name": "stdout",
     "output_type": "stream",
     "text": [
      "{'Revenue': None, 'Net Income': -551.0, 'Cash and cash equivalents': None, 'Goodwill': None, 'Intangible assets': None, 'Total assets': 225085.0, 'Commercial Paper': None, 'Other Current Borrowings': None, 'Long Term Debt': None, 'Short-Term Debt': None, 'Net cash used in operating activities': None, 'Purchases of property and equipment': None}\n",
      "(105) https://www.sec.gov/Archives/edgar/data/1816906/000106299320005480/forms1.htm\n"
     ]
    },
    {
     "name": "stderr",
     "output_type": "stream",
     "text": [
      "c:\\python38\\lib\\site-packages\\urllib3\\connectionpool.py:981: InsecureRequestWarning: Unverified HTTPS request is being made to host 'www.sec.gov'. Adding certificate verification is strongly advised. See: https://urllib3.readthedocs.io/en/latest/advanced-usage.html#ssl-warnings\n",
      "  warnings.warn(\n"
     ]
    },
    {
     "name": "stdout",
     "output_type": "stream",
     "text": [
      "{'Revenue': None, 'Net Income': None, 'Cash and cash equivalents': None, 'Goodwill': None, 'Intangible assets': None, 'Total assets': None, 'Commercial Paper': None, 'Other Current Borrowings': None, 'Long Term Debt': None, 'Short-Term Debt': None, 'Net cash used in operating activities': None, 'Purchases of property and equipment': None}\n",
      "(106) https://www.sec.gov/Archives/edgar/data/101594/000149315220020886/forms-1a.htm\n"
     ]
    },
    {
     "name": "stderr",
     "output_type": "stream",
     "text": [
      "c:\\python38\\lib\\site-packages\\urllib3\\connectionpool.py:981: InsecureRequestWarning: Unverified HTTPS request is being made to host 'www.sec.gov'. Adding certificate verification is strongly advised. See: https://urllib3.readthedocs.io/en/latest/advanced-usage.html#ssl-warnings\n",
      "  warnings.warn(\n"
     ]
    },
    {
     "name": "stdout",
     "output_type": "stream",
     "text": [
      "{'Revenue': None, 'Net Income': None, 'Cash and cash equivalents': None, 'Goodwill': None, 'Intangible assets': None, 'Total assets': None, 'Commercial Paper': None, 'Other Current Borrowings': None, 'Long Term Debt': None, 'Short-Term Debt': None, 'Net cash used in operating activities': None, 'Purchases of property and equipment': None}\n",
      "(107) https://www.sec.gov/Archives/edgar/data/1579733/000119312520289583/d41931ds1.htm\n"
     ]
    },
    {
     "name": "stderr",
     "output_type": "stream",
     "text": [
      "c:\\python38\\lib\\site-packages\\urllib3\\connectionpool.py:981: InsecureRequestWarning: Unverified HTTPS request is being made to host 'www.sec.gov'. Adding certificate verification is strongly advised. See: https://urllib3.readthedocs.io/en/latest/advanced-usage.html#ssl-warnings\n",
      "  warnings.warn(\n"
     ]
    },
    {
     "name": "stdout",
     "output_type": "stream",
     "text": [
      "{'Revenue': None, 'Net Income': 1239.0, 'Cash and cash equivalents': 112619.0, 'Goodwill': 3858.0, 'Intangible assets': None, 'Total assets': 177593.0, 'Commercial Paper': None, 'Other Current Borrowings': None, 'Long Term Debt': None, 'Short-Term Debt': None, 'Net cash used in operating activities': None, 'Purchases of property and equipment': None}\n",
      "(108) https://www.sec.gov/Archives/edgar/data/1750106/000165495420012047/hfe_s1.htm\n"
     ]
    },
    {
     "name": "stderr",
     "output_type": "stream",
     "text": [
      "c:\\python38\\lib\\site-packages\\urllib3\\connectionpool.py:981: InsecureRequestWarning: Unverified HTTPS request is being made to host 'www.sec.gov'. Adding certificate verification is strongly advised. See: https://urllib3.readthedocs.io/en/latest/advanced-usage.html#ssl-warnings\n",
      "  warnings.warn(\n"
     ]
    },
    {
     "name": "stdout",
     "output_type": "stream",
     "text": [
      "{'Revenue': None, 'Net Income': None, 'Cash and cash equivalents': None, 'Goodwill': None, 'Intangible assets': None, 'Total assets': None, 'Commercial Paper': None, 'Other Current Borrowings': None, 'Long Term Debt': None, 'Short-Term Debt': None, 'Net cash used in operating activities': None, 'Purchases of property and equipment': None}\n",
      "(109) https://www.sec.gov/Archives/edgar/data/1823086/000110465920123228/tm2028855d11_s1a.htm\n"
     ]
    },
    {
     "name": "stderr",
     "output_type": "stream",
     "text": [
      "c:\\python38\\lib\\site-packages\\urllib3\\connectionpool.py:981: InsecureRequestWarning: Unverified HTTPS request is being made to host 'www.sec.gov'. Adding certificate verification is strongly advised. See: https://urllib3.readthedocs.io/en/latest/advanced-usage.html#ssl-warnings\n",
      "  warnings.warn(\n"
     ]
    },
    {
     "name": "stdout",
     "output_type": "stream",
     "text": [
      "{'Revenue': None, 'Net Income': None, 'Cash and cash equivalents': None, 'Goodwill': None, 'Intangible assets': None, 'Total assets': None, 'Commercial Paper': None, 'Other Current Borrowings': None, 'Long Term Debt': None, 'Short-Term Debt': None, 'Net cash used in operating activities': None, 'Purchases of property and equipment': None}\n",
      "(110) https://www.sec.gov/Archives/edgar/data/1821146/000121390020035979/fs12020a2_betterworld.htm\n"
     ]
    },
    {
     "name": "stderr",
     "output_type": "stream",
     "text": [
      "c:\\python38\\lib\\site-packages\\urllib3\\connectionpool.py:981: InsecureRequestWarning: Unverified HTTPS request is being made to host 'www.sec.gov'. Adding certificate verification is strongly advised. See: https://urllib3.readthedocs.io/en/latest/advanced-usage.html#ssl-warnings\n",
      "  warnings.warn(\n"
     ]
    },
    {
     "name": "stdout",
     "output_type": "stream",
     "text": [
      "{'Revenue': None, 'Net Income': None, 'Cash and cash equivalents': None, 'Goodwill': None, 'Intangible assets': None, 'Total assets': 81083.0, 'Commercial Paper': None, 'Other Current Borrowings': None, 'Long Term Debt': None, 'Short-Term Debt': None, 'Net cash used in operating activities': None, 'Purchases of property and equipment': None}\n",
      "(111) https://www.sec.gov/Archives/edgar/data/1720990/000119312520289193/d92481ds1.htm\n"
     ]
    },
    {
     "name": "stderr",
     "output_type": "stream",
     "text": [
      "c:\\python38\\lib\\site-packages\\urllib3\\connectionpool.py:981: InsecureRequestWarning: Unverified HTTPS request is being made to host 'www.sec.gov'. Adding certificate verification is strongly advised. See: https://urllib3.readthedocs.io/en/latest/advanced-usage.html#ssl-warnings\n",
      "  warnings.warn(\n"
     ]
    },
    {
     "name": "stdout",
     "output_type": "stream",
     "text": [
      "{'Revenue': None, 'Net Income': -42603502.0, 'Cash and cash equivalents': 44976.0, 'Goodwill': None, 'Intangible assets': None, 'Total assets': 47948757.0, 'Commercial Paper': None, 'Other Current Borrowings': None, 'Long Term Debt': None, 'Short-Term Debt': None, 'Net cash used in operating activities': None, 'Purchases of property and equipment': None}\n",
      "(112) https://www.sec.gov/Archives/edgar/data/1818644/000121390020035903/fs12020a2_cffinanceacq3.htm\n"
     ]
    },
    {
     "name": "stderr",
     "output_type": "stream",
     "text": [
      "c:\\python38\\lib\\site-packages\\urllib3\\connectionpool.py:981: InsecureRequestWarning: Unverified HTTPS request is being made to host 'www.sec.gov'. Adding certificate verification is strongly advised. See: https://urllib3.readthedocs.io/en/latest/advanced-usage.html#ssl-warnings\n",
      "  warnings.warn(\n"
     ]
    },
    {
     "name": "stdout",
     "output_type": "stream",
     "text": [
      "{'Revenue': None, 'Net Income': -551.0, 'Cash and cash equivalents': None, 'Goodwill': None, 'Intangible assets': None, 'Total assets': 225085.0, 'Commercial Paper': None, 'Other Current Borrowings': None, 'Long Term Debt': None, 'Short-Term Debt': None, 'Net cash used in operating activities': None, 'Purchases of property and equipment': None}\n",
      "(113) https://www.sec.gov/Archives/edgar/data/1823239/000119312520288872/d73061ds1a.htm\n"
     ]
    },
    {
     "name": "stderr",
     "output_type": "stream",
     "text": [
      "c:\\python38\\lib\\site-packages\\urllib3\\connectionpool.py:981: InsecureRequestWarning: Unverified HTTPS request is being made to host 'www.sec.gov'. Adding certificate verification is strongly advised. See: https://urllib3.readthedocs.io/en/latest/advanced-usage.html#ssl-warnings\n",
      "  warnings.warn(\n"
     ]
    },
    {
     "name": "stdout",
     "output_type": "stream",
     "text": [
      "{'Revenue': None, 'Net Income': None, 'Cash and cash equivalents': None, 'Goodwill': None, 'Intangible assets': None, 'Total assets': None, 'Commercial Paper': None, 'Other Current Borrowings': None, 'Long Term Debt': None, 'Short-Term Debt': None, 'Net cash used in operating activities': None, 'Purchases of property and equipment': None}\n",
      "(114) https://www.sec.gov/Archives/edgar/data/1815632/000165495420011989/tci_s1.htm\n"
     ]
    },
    {
     "name": "stderr",
     "output_type": "stream",
     "text": [
      "c:\\python38\\lib\\site-packages\\urllib3\\connectionpool.py:981: InsecureRequestWarning: Unverified HTTPS request is being made to host 'www.sec.gov'. Adding certificate verification is strongly advised. See: https://urllib3.readthedocs.io/en/latest/advanced-usage.html#ssl-warnings\n",
      "  warnings.warn(\n"
     ]
    },
    {
     "name": "stdout",
     "output_type": "stream",
     "text": [
      "{'Revenue': None, 'Net Income': None, 'Cash and cash equivalents': None, 'Goodwill': None, 'Intangible assets': None, 'Total assets': None, 'Commercial Paper': None, 'Other Current Borrowings': None, 'Long Term Debt': None, 'Short-Term Debt': None, 'Net cash used in operating activities': None, 'Purchases of property and equipment': None}\n",
      "(115) https://www.sec.gov/Archives/edgar/data/1417926/000118518520001521/invobio20201106b_s1a.htm\n"
     ]
    },
    {
     "name": "stderr",
     "output_type": "stream",
     "text": [
      "c:\\python38\\lib\\site-packages\\urllib3\\connectionpool.py:981: InsecureRequestWarning: Unverified HTTPS request is being made to host 'www.sec.gov'. Adding certificate verification is strongly advised. See: https://urllib3.readthedocs.io/en/latest/advanced-usage.html#ssl-warnings\n",
      "  warnings.warn(\n"
     ]
    },
    {
     "name": "stdout",
     "output_type": "stream",
     "text": [
      "{'Revenue': None, 'Net Income': None, 'Cash and cash equivalents': None, 'Goodwill': None, 'Intangible assets': None, 'Total assets': None, 'Commercial Paper': None, 'Other Current Borrowings': None, 'Long Term Debt': None, 'Short-Term Debt': None, 'Net cash used in operating activities': None, 'Purchases of property and equipment': None}\n",
      "(116) https://www.sec.gov/Archives/edgar/data/1824013/000110465920122842/tm2031762-9_s1a.htm\n"
     ]
    },
    {
     "name": "stderr",
     "output_type": "stream",
     "text": [
      "c:\\python38\\lib\\site-packages\\urllib3\\connectionpool.py:981: InsecureRequestWarning: Unverified HTTPS request is being made to host 'www.sec.gov'. Adding certificate verification is strongly advised. See: https://urllib3.readthedocs.io/en/latest/advanced-usage.html#ssl-warnings\n",
      "  warnings.warn(\n"
     ]
    },
    {
     "name": "stdout",
     "output_type": "stream",
     "text": [
      "{'Revenue': None, 'Net Income': None, 'Cash and cash equivalents': None, 'Goodwill': None, 'Intangible assets': None, 'Total assets': 59000.0, 'Commercial Paper': None, 'Other Current Borrowings': None, 'Long Term Debt': None, 'Short-Term Debt': None, 'Net cash used in operating activities': None, 'Purchases of property and equipment': None}\n",
      "(117) https://www.sec.gov/Archives/edgar/data/1828723/000119312520288585/d82639ds1.htm\n"
     ]
    },
    {
     "name": "stderr",
     "output_type": "stream",
     "text": [
      "c:\\python38\\lib\\site-packages\\urllib3\\connectionpool.py:981: InsecureRequestWarning: Unverified HTTPS request is being made to host 'www.sec.gov'. Adding certificate verification is strongly advised. See: https://urllib3.readthedocs.io/en/latest/advanced-usage.html#ssl-warnings\n",
      "  warnings.warn(\n"
     ]
    },
    {
     "name": "stdout",
     "output_type": "stream",
     "text": [
      "{'Revenue': None, 'Net Income': -38937.0, 'Cash and cash equivalents': None, 'Goodwill': None, 'Intangible assets': None, 'Total assets': 35100.0, 'Commercial Paper': None, 'Other Current Borrowings': None, 'Long Term Debt': None, 'Short-Term Debt': None, 'Net cash used in operating activities': None, 'Purchases of property and equipment': None}\n",
      "(118) https://www.sec.gov/Archives/edgar/data/1738021/000119312520288526/d67515ds1a.htm\n"
     ]
    },
    {
     "name": "stderr",
     "output_type": "stream",
     "text": [
      "c:\\python38\\lib\\site-packages\\urllib3\\connectionpool.py:981: InsecureRequestWarning: Unverified HTTPS request is being made to host 'www.sec.gov'. Adding certificate verification is strongly advised. See: https://urllib3.readthedocs.io/en/latest/advanced-usage.html#ssl-warnings\n",
      "  warnings.warn(\n"
     ]
    },
    {
     "name": "stdout",
     "output_type": "stream",
     "text": [
      "{'Revenue': None, 'Net Income': -21109.0, 'Cash and cash equivalents': 55518.0, 'Goodwill': None, 'Intangible assets': None, 'Total assets': 60690.0, 'Commercial Paper': None, 'Other Current Borrowings': None, 'Long Term Debt': None, 'Short-Term Debt': None, 'Net cash used in operating activities': None, 'Purchases of property and equipment': None}\n",
      "(119) https://www.sec.gov/Archives/edgar/data/1160951/000119312520288497/d62052ds1.htm\n"
     ]
    },
    {
     "name": "stderr",
     "output_type": "stream",
     "text": [
      "c:\\python38\\lib\\site-packages\\urllib3\\connectionpool.py:981: InsecureRequestWarning: Unverified HTTPS request is being made to host 'www.sec.gov'. Adding certificate verification is strongly advised. See: https://urllib3.readthedocs.io/en/latest/advanced-usage.html#ssl-warnings\n",
      "  warnings.warn(\n"
     ]
    },
    {
     "name": "stdout",
     "output_type": "stream",
     "text": [
      "{'Revenue': None, 'Net Income': None, 'Cash and cash equivalents': 13879.0, 'Goodwill': None, 'Intangible assets': None, 'Total assets': 449237.0, 'Commercial Paper': None, 'Other Current Borrowings': None, 'Long Term Debt': None, 'Short-Term Debt': None, 'Net cash used in operating activities': None, 'Purchases of property and equipment': None}\n",
      "(120) https://www.sec.gov/Archives/edgar/data/1792849/000143774920023080/hpe20201106_s1a.htm\n"
     ]
    },
    {
     "name": "stderr",
     "output_type": "stream",
     "text": [
      "c:\\python38\\lib\\site-packages\\urllib3\\connectionpool.py:981: InsecureRequestWarning: Unverified HTTPS request is being made to host 'www.sec.gov'. Adding certificate verification is strongly advised. See: https://urllib3.readthedocs.io/en/latest/advanced-usage.html#ssl-warnings\n",
      "  warnings.warn(\n"
     ]
    },
    {
     "name": "stdout",
     "output_type": "stream",
     "text": [
      "{'Revenue': None, 'Net Income': -84978.0, 'Cash and cash equivalents': None, 'Goodwill': None, 'Intangible assets': None, 'Total assets': 473984.0, 'Commercial Paper': None, 'Other Current Borrowings': None, 'Long Term Debt': None, 'Short-Term Debt': None, 'Net cash used in operating activities': None, 'Purchases of property and equipment': None}\n",
      "(121) https://www.sec.gov/Archives/edgar/data/1015383/000149315220020727/forms-1a.htm\n"
     ]
    },
    {
     "name": "stderr",
     "output_type": "stream",
     "text": [
      "c:\\python38\\lib\\site-packages\\urllib3\\connectionpool.py:981: InsecureRequestWarning: Unverified HTTPS request is being made to host 'www.sec.gov'. Adding certificate verification is strongly advised. See: https://urllib3.readthedocs.io/en/latest/advanced-usage.html#ssl-warnings\n",
      "  warnings.warn(\n"
     ]
    },
    {
     "name": "stdout",
     "output_type": "stream",
     "text": [
      "{'Revenue': None, 'Net Income': None, 'Cash and cash equivalents': None, 'Goodwill': None, 'Intangible assets': None, 'Total assets': None, 'Commercial Paper': None, 'Other Current Borrowings': None, 'Long Term Debt': None, 'Short-Term Debt': None, 'Net cash used in operating activities': None, 'Purchases of property and equipment': None}\n",
      "(122) https://www.sec.gov/Archives/edgar/data/1679063/000110465920122627/tm2034972d1_s1a.htm\n"
     ]
    },
    {
     "name": "stderr",
     "output_type": "stream",
     "text": [
      "c:\\python38\\lib\\site-packages\\urllib3\\connectionpool.py:981: InsecureRequestWarning: Unverified HTTPS request is being made to host 'www.sec.gov'. Adding certificate verification is strongly advised. See: https://urllib3.readthedocs.io/en/latest/advanced-usage.html#ssl-warnings\n",
      "  warnings.warn(\n"
     ]
    },
    {
     "name": "stdout",
     "output_type": "stream",
     "text": [
      "{'Revenue': None, 'Net Income': None, 'Cash and cash equivalents': None, 'Goodwill': None, 'Intangible assets': None, 'Total assets': None, 'Commercial Paper': None, 'Other Current Borrowings': None, 'Long Term Debt': None, 'Short-Term Debt': None, 'Net cash used in operating activities': None, 'Purchases of property and equipment': None}\n",
      "(123) https://www.sec.gov/Archives/edgar/data/1827075/000119312520288100/d74355ds1a.htm\n"
     ]
    },
    {
     "name": "stderr",
     "output_type": "stream",
     "text": [
      "c:\\python38\\lib\\site-packages\\urllib3\\connectionpool.py:981: InsecureRequestWarning: Unverified HTTPS request is being made to host 'www.sec.gov'. Adding certificate verification is strongly advised. See: https://urllib3.readthedocs.io/en/latest/advanced-usage.html#ssl-warnings\n",
      "  warnings.warn(\n"
     ]
    },
    {
     "name": "stdout",
     "output_type": "stream",
     "text": [
      "{'Revenue': None, 'Net Income': None, 'Cash and cash equivalents': None, 'Goodwill': None, 'Intangible assets': None, 'Total assets': None, 'Commercial Paper': None, 'Other Current Borrowings': None, 'Long Term Debt': None, 'Short-Term Debt': None, 'Net cash used in operating activities': None, 'Purchases of property and equipment': None}\n",
      "(124) https://www.sec.gov/Archives/edgar/data/1821595/000121390020035631/fs12020a2_10xcapitalventure.htm\n"
     ]
    },
    {
     "name": "stderr",
     "output_type": "stream",
     "text": [
      "c:\\python38\\lib\\site-packages\\urllib3\\connectionpool.py:981: InsecureRequestWarning: Unverified HTTPS request is being made to host 'www.sec.gov'. Adding certificate verification is strongly advised. See: https://urllib3.readthedocs.io/en/latest/advanced-usage.html#ssl-warnings\n",
      "  warnings.warn(\n"
     ]
    },
    {
     "name": "stdout",
     "output_type": "stream",
     "text": [
      "{'Revenue': None, 'Net Income': None, 'Cash and cash equivalents': None, 'Goodwill': None, 'Intangible assets': None, 'Total assets': 346772.0, 'Commercial Paper': None, 'Other Current Borrowings': None, 'Long Term Debt': None, 'Short-Term Debt': None, 'Net cash used in operating activities': None, 'Purchases of property and equipment': None}\n",
      "(125) https://www.sec.gov/Archives/edgar/data/1647639/000119312520288095/d867925ds1a.htm\n"
     ]
    },
    {
     "name": "stderr",
     "output_type": "stream",
     "text": [
      "c:\\python38\\lib\\site-packages\\urllib3\\connectionpool.py:981: InsecureRequestWarning: Unverified HTTPS request is being made to host 'www.sec.gov'. Adding certificate verification is strongly advised. See: https://urllib3.readthedocs.io/en/latest/advanced-usage.html#ssl-warnings\n",
      "  warnings.warn(\n"
     ]
    },
    {
     "name": "stdout",
     "output_type": "stream",
     "text": [
      "{'Revenue': None, 'Net Income': None, 'Cash and cash equivalents': None, 'Goodwill': None, 'Intangible assets': None, 'Total assets': None, 'Commercial Paper': None, 'Other Current Borrowings': None, 'Long Term Debt': None, 'Short-Term Debt': None, 'Net cash used in operating activities': None, 'Purchases of property and equipment': None}\n",
      "(126) https://www.sec.gov/Archives/edgar/data/1819881/000121390020035622/fs12020_payaholdings.htm\n"
     ]
    },
    {
     "name": "stderr",
     "output_type": "stream",
     "text": [
      "c:\\python38\\lib\\site-packages\\urllib3\\connectionpool.py:981: InsecureRequestWarning: Unverified HTTPS request is being made to host 'www.sec.gov'. Adding certificate verification is strongly advised. See: https://urllib3.readthedocs.io/en/latest/advanced-usage.html#ssl-warnings\n",
      "  warnings.warn(\n"
     ]
    },
    {
     "name": "stdout",
     "output_type": "stream",
     "text": [
      "{'Revenue': 100226.0, 'Net Income': 598.0, 'Cash and cash equivalents': 148.0, 'Goodwill': 193885.0, 'Intangible assets': 21800.0, 'Total assets': 353742.0, 'Commercial Paper': None, 'Other Current Borrowings': None, 'Long Term Debt': None, 'Short-Term Debt': None, 'Net cash used in operating activities': -1024325.0, 'Purchases of property and equipment': None}\n",
      "(127) https://www.sec.gov/Archives/edgar/data/1824013/000110465920122576/tm2031762-6_s1a.htm\n"
     ]
    },
    {
     "name": "stderr",
     "output_type": "stream",
     "text": [
      "c:\\python38\\lib\\site-packages\\urllib3\\connectionpool.py:981: InsecureRequestWarning: Unverified HTTPS request is being made to host 'www.sec.gov'. Adding certificate verification is strongly advised. See: https://urllib3.readthedocs.io/en/latest/advanced-usage.html#ssl-warnings\n",
      "  warnings.warn(\n"
     ]
    },
    {
     "name": "stdout",
     "output_type": "stream",
     "text": [
      "{'Revenue': None, 'Net Income': None, 'Cash and cash equivalents': None, 'Goodwill': None, 'Intangible assets': None, 'Total assets': None, 'Commercial Paper': None, 'Other Current Borrowings': None, 'Long Term Debt': None, 'Short-Term Debt': None, 'Net cash used in operating activities': None, 'Purchases of property and equipment': None}\n",
      "(128) https://www.sec.gov/Archives/edgar/data/1824893/000110465920122572/tm2030948-21_s1a.htm\n"
     ]
    },
    {
     "name": "stderr",
     "output_type": "stream",
     "text": [
      "c:\\python38\\lib\\site-packages\\urllib3\\connectionpool.py:981: InsecureRequestWarning: Unverified HTTPS request is being made to host 'www.sec.gov'. Adding certificate verification is strongly advised. See: https://urllib3.readthedocs.io/en/latest/advanced-usage.html#ssl-warnings\n",
      "  warnings.warn(\n"
     ]
    },
    {
     "name": "stdout",
     "output_type": "stream",
     "text": [
      "{'Revenue': None, 'Net Income': None, 'Cash and cash equivalents': None, 'Goodwill': None, 'Intangible assets': None, 'Total assets': 50039.0, 'Commercial Paper': None, 'Other Current Borrowings': None, 'Long Term Debt': None, 'Short-Term Debt': None, 'Net cash used in operating activities': None, 'Purchases of property and equipment': None}\n",
      "(129) https://www.sec.gov/Archives/edgar/data/1661053/000149315220020711/forms-1.htm\n"
     ]
    },
    {
     "name": "stderr",
     "output_type": "stream",
     "text": [
      "c:\\python38\\lib\\site-packages\\urllib3\\connectionpool.py:981: InsecureRequestWarning: Unverified HTTPS request is being made to host 'www.sec.gov'. Adding certificate verification is strongly advised. See: https://urllib3.readthedocs.io/en/latest/advanced-usage.html#ssl-warnings\n",
      "  warnings.warn(\n"
     ]
    },
    {
     "name": "stdout",
     "output_type": "stream",
     "text": [
      "{'Revenue': None, 'Net Income': None, 'Cash and cash equivalents': None, 'Goodwill': None, 'Intangible assets': None, 'Total assets': None, 'Commercial Paper': None, 'Other Current Borrowings': None, 'Long Term Debt': None, 'Short-Term Debt': None, 'Net cash used in operating activities': None, 'Purchases of property and equipment': None}\n",
      "(130) https://www.sec.gov/Archives/edgar/data/1670196/000147793220006315/deseo_s1a.htm\n"
     ]
    },
    {
     "name": "stderr",
     "output_type": "stream",
     "text": [
      "c:\\python38\\lib\\site-packages\\urllib3\\connectionpool.py:981: InsecureRequestWarning: Unverified HTTPS request is being made to host 'www.sec.gov'. Adding certificate verification is strongly advised. See: https://urllib3.readthedocs.io/en/latest/advanced-usage.html#ssl-warnings\n",
      "  warnings.warn(\n"
     ]
    },
    {
     "name": "stdout",
     "output_type": "stream",
     "text": [
      "{'Revenue': None, 'Net Income': None, 'Cash and cash equivalents': None, 'Goodwill': None, 'Intangible assets': None, 'Total assets': None, 'Commercial Paper': None, 'Other Current Borrowings': None, 'Long Term Debt': None, 'Short-Term Debt': None, 'Net cash used in operating activities': None, 'Purchases of property and equipment': None}\n",
      "(131) https://www.sec.gov/Archives/edgar/data/1823365/000110465920122363/tm2030321d4_s1a.htm\n"
     ]
    },
    {
     "name": "stderr",
     "output_type": "stream",
     "text": [
      "c:\\python38\\lib\\site-packages\\urllib3\\connectionpool.py:981: InsecureRequestWarning: Unverified HTTPS request is being made to host 'www.sec.gov'. Adding certificate verification is strongly advised. See: https://urllib3.readthedocs.io/en/latest/advanced-usage.html#ssl-warnings\n",
      "  warnings.warn(\n"
     ]
    },
    {
     "name": "stdout",
     "output_type": "stream",
     "text": [
      "{'Revenue': None, 'Net Income': None, 'Cash and cash equivalents': None, 'Goodwill': None, 'Intangible assets': None, 'Total assets': None, 'Commercial Paper': None, 'Other Current Borrowings': None, 'Long Term Debt': None, 'Short-Term Debt': None, 'Net cash used in operating activities': None, 'Purchases of property and equipment': None}\n",
      "(132) https://www.sec.gov/Archives/edgar/data/1708176/000121390020035452/ea129422-s1a2_halloffame.htm\n"
     ]
    },
    {
     "name": "stderr",
     "output_type": "stream",
     "text": [
      "c:\\python38\\lib\\site-packages\\urllib3\\connectionpool.py:981: InsecureRequestWarning: Unverified HTTPS request is being made to host 'www.sec.gov'. Adding certificate verification is strongly advised. See: https://urllib3.readthedocs.io/en/latest/advanced-usage.html#ssl-warnings\n",
      "  warnings.warn(\n"
     ]
    },
    {
     "name": "stdout",
     "output_type": "stream",
     "text": [
      "{'Revenue': None, 'Net Income': -56772990.0, 'Cash and cash equivalents': None, 'Goodwill': None, 'Intangible assets': None, 'Total assets': 280792979.0, 'Commercial Paper': None, 'Other Current Borrowings': None, 'Long Term Debt': None, 'Short-Term Debt': None, 'Net cash used in operating activities': None, 'Purchases of property and equipment': None}\n",
      "(133) https://www.sec.gov/Archives/edgar/data/1629606/000121390020035383/ea129451-s1a_driven.htm\n"
     ]
    },
    {
     "name": "stderr",
     "output_type": "stream",
     "text": [
      "c:\\python38\\lib\\site-packages\\urllib3\\connectionpool.py:981: InsecureRequestWarning: Unverified HTTPS request is being made to host 'www.sec.gov'. Adding certificate verification is strongly advised. See: https://urllib3.readthedocs.io/en/latest/advanced-usage.html#ssl-warnings\n",
      "  warnings.warn(\n"
     ]
    },
    {
     "name": "stdout",
     "output_type": "stream",
     "text": [
      "{'Revenue': None, 'Net Income': None, 'Cash and cash equivalents': None, 'Goodwill': None, 'Intangible assets': None, 'Total assets': None, 'Commercial Paper': None, 'Other Current Borrowings': None, 'Long Term Debt': None, 'Short-Term Debt': None, 'Net cash used in operating activities': None, 'Purchases of property and equipment': None}\n",
      "(134) https://www.sec.gov/Archives/edgar/data/1824884/000121390020035367/fs12020a4_edocacquisition.htm\n"
     ]
    },
    {
     "name": "stderr",
     "output_type": "stream",
     "text": [
      "c:\\python38\\lib\\site-packages\\urllib3\\connectionpool.py:981: InsecureRequestWarning: Unverified HTTPS request is being made to host 'www.sec.gov'. Adding certificate verification is strongly advised. See: https://urllib3.readthedocs.io/en/latest/advanced-usage.html#ssl-warnings\n",
      "  warnings.warn(\n"
     ]
    },
    {
     "name": "stdout",
     "output_type": "stream",
     "text": [
      "{'Revenue': None, 'Net Income': -8653.0, 'Cash and cash equivalents': None, 'Goodwill': None, 'Intangible assets': None, 'Total assets': 178938.0, 'Commercial Paper': None, 'Other Current Borrowings': None, 'Long Term Debt': None, 'Short-Term Debt': None, 'Net cash used in operating activities': None, 'Purchases of property and equipment': None}\n",
      "(135) https://www.sec.gov/Archives/edgar/data/1741231/000121390020035364/ea128832-s1_tattooedchef.htm\n"
     ]
    },
    {
     "name": "stderr",
     "output_type": "stream",
     "text": [
      "c:\\python38\\lib\\site-packages\\urllib3\\connectionpool.py:981: InsecureRequestWarning: Unverified HTTPS request is being made to host 'www.sec.gov'. Adding certificate verification is strongly advised. See: https://urllib3.readthedocs.io/en/latest/advanced-usage.html#ssl-warnings\n",
      "  warnings.warn(\n"
     ]
    },
    {
     "name": "stdout",
     "output_type": "stream",
     "text": [
      "{'Revenue': None, 'Net Income': None, 'Cash and cash equivalents': None, 'Goodwill': None, 'Intangible assets': None, 'Total assets': None, 'Commercial Paper': None, 'Other Current Borrowings': None, 'Long Term Debt': None, 'Short-Term Debt': None, 'Net cash used in operating activities': None, 'Purchases of property and equipment': None}\n",
      "(136) https://www.sec.gov/Archives/edgar/data/1824888/000121390020035361/ea129416-s1a2_naturalorder.htm\n"
     ]
    },
    {
     "name": "stderr",
     "output_type": "stream",
     "text": [
      "c:\\python38\\lib\\site-packages\\urllib3\\connectionpool.py:981: InsecureRequestWarning: Unverified HTTPS request is being made to host 'www.sec.gov'. Adding certificate verification is strongly advised. See: https://urllib3.readthedocs.io/en/latest/advanced-usage.html#ssl-warnings\n",
      "  warnings.warn(\n"
     ]
    },
    {
     "name": "stdout",
     "output_type": "stream",
     "text": [
      "{'Revenue': None, 'Net Income': None, 'Cash and cash equivalents': None, 'Goodwill': None, 'Intangible assets': None, 'Total assets': 272450.0, 'Commercial Paper': None, 'Other Current Borrowings': None, 'Long Term Debt': None, 'Short-Term Debt': None, 'Net cash used in operating activities': None, 'Purchases of property and equipment': None}\n",
      "(137) https://www.sec.gov/Archives/edgar/data/1824993/000119312520287006/d30832ds1a.htm\n"
     ]
    },
    {
     "name": "stderr",
     "output_type": "stream",
     "text": [
      "c:\\python38\\lib\\site-packages\\urllib3\\connectionpool.py:981: InsecureRequestWarning: Unverified HTTPS request is being made to host 'www.sec.gov'. Adding certificate verification is strongly advised. See: https://urllib3.readthedocs.io/en/latest/advanced-usage.html#ssl-warnings\n",
      "  warnings.warn(\n"
     ]
    },
    {
     "name": "stdout",
     "output_type": "stream",
     "text": [
      "{'Revenue': None, 'Net Income': None, 'Cash and cash equivalents': None, 'Goodwill': None, 'Intangible assets': None, 'Total assets': 164760.0, 'Commercial Paper': None, 'Other Current Borrowings': None, 'Long Term Debt': None, 'Short-Term Debt': None, 'Net cash used in operating activities': None, 'Purchases of property and equipment': None}\n",
      "(138) https://www.sec.gov/Archives/edgar/data/1599407/000121390020035326/ea129407-s1a1_1847holdings.htm\n"
     ]
    },
    {
     "name": "stderr",
     "output_type": "stream",
     "text": [
      "c:\\python38\\lib\\site-packages\\urllib3\\connectionpool.py:981: InsecureRequestWarning: Unverified HTTPS request is being made to host 'www.sec.gov'. Adding certificate verification is strongly advised. See: https://urllib3.readthedocs.io/en/latest/advanced-usage.html#ssl-warnings\n",
      "  warnings.warn(\n"
     ]
    },
    {
     "name": "stdout",
     "output_type": "stream",
     "text": [
      "{'Revenue': 3004056.0, 'Net Income': None, 'Cash and cash equivalents': None, 'Goodwill': None, 'Intangible assets': None, 'Total assets': 9759104.0, 'Commercial Paper': None, 'Other Current Borrowings': None, 'Long Term Debt': None, 'Short-Term Debt': None, 'Net cash used in operating activities': None, 'Purchases of property and equipment': None}\n",
      "(139) https://www.sec.gov/Archives/edgar/data/1740279/000110465920121840/tm2030088-9_s1a.htm\n"
     ]
    },
    {
     "name": "stderr",
     "output_type": "stream",
     "text": [
      "c:\\python38\\lib\\site-packages\\urllib3\\connectionpool.py:981: InsecureRequestWarning: Unverified HTTPS request is being made to host 'www.sec.gov'. Adding certificate verification is strongly advised. See: https://urllib3.readthedocs.io/en/latest/advanced-usage.html#ssl-warnings\n",
      "  warnings.warn(\n"
     ]
    },
    {
     "name": "stdout",
     "output_type": "stream",
     "text": [
      "{'Revenue': None, 'Net Income': -2081.0, 'Cash and cash equivalents': None, 'Goodwill': None, 'Intangible assets': None, 'Total assets': 3647.0, 'Commercial Paper': None, 'Other Current Borrowings': None, 'Long Term Debt': None, 'Short-Term Debt': None, 'Net cash used in operating activities': None, 'Purchases of property and equipment': None}\n",
      "(140) https://www.sec.gov/Archives/edgar/data/1796160/000109690620000191/qmis_s1a.htm\n"
     ]
    },
    {
     "name": "stderr",
     "output_type": "stream",
     "text": [
      "c:\\python38\\lib\\site-packages\\urllib3\\connectionpool.py:981: InsecureRequestWarning: Unverified HTTPS request is being made to host 'www.sec.gov'. Adding certificate verification is strongly advised. See: https://urllib3.readthedocs.io/en/latest/advanced-usage.html#ssl-warnings\n",
      "  warnings.warn(\n"
     ]
    },
    {
     "name": "stdout",
     "output_type": "stream",
     "text": [
      "{'Revenue': None, 'Net Income': -167971.0, 'Cash and cash equivalents': None, 'Goodwill': None, 'Intangible assets': None, 'Total assets': 25000.0, 'Commercial Paper': None, 'Other Current Borrowings': None, 'Long Term Debt': None, 'Short-Term Debt': None, 'Net cash used in operating activities': None, 'Purchases of property and equipment': None}\n",
      "(141) https://www.sec.gov/Archives/edgar/data/1823406/000119312520286857/d26823ds1a.htm\n"
     ]
    },
    {
     "name": "stderr",
     "output_type": "stream",
     "text": [
      "c:\\python38\\lib\\site-packages\\urllib3\\connectionpool.py:981: InsecureRequestWarning: Unverified HTTPS request is being made to host 'www.sec.gov'. Adding certificate verification is strongly advised. See: https://urllib3.readthedocs.io/en/latest/advanced-usage.html#ssl-warnings\n",
      "  warnings.warn(\n"
     ]
    },
    {
     "name": "stdout",
     "output_type": "stream",
     "text": [
      "{'Revenue': None, 'Net Income': None, 'Cash and cash equivalents': 48117.0, 'Goodwill': 17217.0, 'Intangible assets': 19035.0, 'Total assets': 319294.0, 'Commercial Paper': None, 'Other Current Borrowings': None, 'Long Term Debt': None, 'Short-Term Debt': None, 'Net cash used in operating activities': None, 'Purchases of property and equipment': None}\n",
      "(142) https://www.sec.gov/Archives/edgar/data/1571934/000110465920121818/tm2024584-8_s1a.htm\n"
     ]
    },
    {
     "name": "stderr",
     "output_type": "stream",
     "text": [
      "c:\\python38\\lib\\site-packages\\urllib3\\connectionpool.py:981: InsecureRequestWarning: Unverified HTTPS request is being made to host 'www.sec.gov'. Adding certificate verification is strongly advised. See: https://urllib3.readthedocs.io/en/latest/advanced-usage.html#ssl-warnings\n",
      "  warnings.warn(\n"
     ]
    },
    {
     "name": "stdout",
     "output_type": "stream",
     "text": [
      "{'Revenue': None, 'Net Income': -5469470.0, 'Cash and cash equivalents': 17382038.0, 'Goodwill': None, 'Intangible assets': None, 'Total assets': 30865416.0, 'Commercial Paper': None, 'Other Current Borrowings': None, 'Long Term Debt': None, 'Short-Term Debt': None, 'Net cash used in operating activities': None, 'Purchases of property and equipment': None}\n",
      "(143) https://www.sec.gov/Archives/edgar/data/1464865/000147793220006289/ghmp_s1a.htm\n"
     ]
    },
    {
     "name": "stderr",
     "output_type": "stream",
     "text": [
      "c:\\python38\\lib\\site-packages\\urllib3\\connectionpool.py:981: InsecureRequestWarning: Unverified HTTPS request is being made to host 'www.sec.gov'. Adding certificate verification is strongly advised. See: https://urllib3.readthedocs.io/en/latest/advanced-usage.html#ssl-warnings\n",
      "  warnings.warn(\n"
     ]
    },
    {
     "name": "stdout",
     "output_type": "stream",
     "text": [
      "{'Revenue': None, 'Net Income': None, 'Cash and cash equivalents': None, 'Goodwill': None, 'Intangible assets': None, 'Total assets': None, 'Commercial Paper': None, 'Other Current Borrowings': None, 'Long Term Debt': None, 'Short-Term Debt': None, 'Net cash used in operating activities': None, 'Purchases of property and equipment': None}\n",
      "(144) https://www.sec.gov/Archives/edgar/data/1590496/000121390020035203/ea129370-s1a3_aerkomminc.htm\n"
     ]
    },
    {
     "name": "stderr",
     "output_type": "stream",
     "text": [
      "c:\\python38\\lib\\site-packages\\urllib3\\connectionpool.py:981: InsecureRequestWarning: Unverified HTTPS request is being made to host 'www.sec.gov'. Adding certificate verification is strongly advised. See: https://urllib3.readthedocs.io/en/latest/advanced-usage.html#ssl-warnings\n",
      "  warnings.warn(\n"
     ]
    },
    {
     "name": "stdout",
     "output_type": "stream",
     "text": [
      "{'Revenue': 1599864.0, 'Net Income': -4487700.0, 'Cash and cash equivalents': None, 'Goodwill': None, 'Intangible assets': None, 'Total assets': 50344975.0, 'Commercial Paper': None, 'Other Current Borrowings': None, 'Long Term Debt': None, 'Short-Term Debt': None, 'Net cash used in operating activities': None, 'Purchases of property and equipment': None}\n",
      "(145) https://www.sec.gov/Archives/edgar/data/1823086/000110465920121676/tm2028855-7_s1a.htm\n"
     ]
    },
    {
     "name": "stderr",
     "output_type": "stream",
     "text": [
      "c:\\python38\\lib\\site-packages\\urllib3\\connectionpool.py:981: InsecureRequestWarning: Unverified HTTPS request is being made to host 'www.sec.gov'. Adding certificate verification is strongly advised. See: https://urllib3.readthedocs.io/en/latest/advanced-usage.html#ssl-warnings\n",
      "  warnings.warn(\n"
     ]
    },
    {
     "name": "stdout",
     "output_type": "stream",
     "text": [
      "{'Revenue': None, 'Net Income': None, 'Cash and cash equivalents': None, 'Goodwill': None, 'Intangible assets': None, 'Total assets': 65000.0, 'Commercial Paper': None, 'Other Current Borrowings': None, 'Long Term Debt': None, 'Short-Term Debt': None, 'Net cash used in operating activities': None, 'Purchases of property and equipment': None}\n",
      "(146) https://www.sec.gov/Archives/edgar/data/1826000/000119312520286550/d884122ds1a.htm\n"
     ]
    },
    {
     "name": "stderr",
     "output_type": "stream",
     "text": [
      "c:\\python38\\lib\\site-packages\\urllib3\\connectionpool.py:981: InsecureRequestWarning: Unverified HTTPS request is being made to host 'www.sec.gov'. Adding certificate verification is strongly advised. See: https://urllib3.readthedocs.io/en/latest/advanced-usage.html#ssl-warnings\n",
      "  warnings.warn(\n"
     ]
    },
    {
     "name": "stdout",
     "output_type": "stream",
     "text": [
      "{'Revenue': None, 'Net Income': None, 'Cash and cash equivalents': None, 'Goodwill': None, 'Intangible assets': None, 'Total assets': 248025.0, 'Commercial Paper': None, 'Other Current Borrowings': None, 'Long Term Debt': None, 'Short-Term Debt': None, 'Net cash used in operating activities': None, 'Purchases of property and equipment': None}\n",
      "(147) https://www.sec.gov/Archives/edgar/data/1647639/000119312520285895/d867925ds1.htm\n"
     ]
    },
    {
     "name": "stderr",
     "output_type": "stream",
     "text": [
      "c:\\python38\\lib\\site-packages\\urllib3\\connectionpool.py:981: InsecureRequestWarning: Unverified HTTPS request is being made to host 'www.sec.gov'. Adding certificate verification is strongly advised. See: https://urllib3.readthedocs.io/en/latest/advanced-usage.html#ssl-warnings\n",
      "  warnings.warn(\n"
     ]
    },
    {
     "name": "stdout",
     "output_type": "stream",
     "text": [
      "{'Revenue': None, 'Net Income': None, 'Cash and cash equivalents': None, 'Goodwill': None, 'Intangible assets': None, 'Total assets': 309804.0, 'Commercial Paper': None, 'Other Current Borrowings': None, 'Long Term Debt': None, 'Short-Term Debt': None, 'Net cash used in operating activities': None, 'Purchases of property and equipment': None}\n",
      "(148) https://www.sec.gov/Archives/edgar/data/771999/000149315220020483/forms-1.htm\n"
     ]
    },
    {
     "name": "stderr",
     "output_type": "stream",
     "text": [
      "c:\\python38\\lib\\site-packages\\urllib3\\connectionpool.py:981: InsecureRequestWarning: Unverified HTTPS request is being made to host 'www.sec.gov'. Adding certificate verification is strongly advised. See: https://urllib3.readthedocs.io/en/latest/advanced-usage.html#ssl-warnings\n",
      "  warnings.warn(\n"
     ]
    },
    {
     "name": "stdout",
     "output_type": "stream",
     "text": [
      "{'Revenue': None, 'Net Income': None, 'Cash and cash equivalents': None, 'Goodwill': None, 'Intangible assets': None, 'Total assets': None, 'Commercial Paper': None, 'Other Current Borrowings': None, 'Long Term Debt': None, 'Short-Term Debt': None, 'Net cash used in operating activities': None, 'Purchases of property and equipment': None}\n",
      "(149) https://www.sec.gov/Archives/edgar/data/1722438/000121390020035056/fs12020_capitolinvestment5.htm\n"
     ]
    },
    {
     "name": "stderr",
     "output_type": "stream",
     "text": [
      "c:\\python38\\lib\\site-packages\\urllib3\\connectionpool.py:981: InsecureRequestWarning: Unverified HTTPS request is being made to host 'www.sec.gov'. Adding certificate verification is strongly advised. See: https://urllib3.readthedocs.io/en/latest/advanced-usage.html#ssl-warnings\n",
      "  warnings.warn(\n"
     ]
    },
    {
     "name": "stdout",
     "output_type": "stream",
     "text": [
      "{'Revenue': None, 'Net Income': None, 'Cash and cash equivalents': None, 'Goodwill': None, 'Intangible assets': None, 'Total assets': 213561.0, 'Commercial Paper': None, 'Other Current Borrowings': None, 'Long Term Debt': None, 'Short-Term Debt': None, 'Net cash used in operating activities': None, 'Purchases of property and equipment': None}\n",
      "(150) https://www.sec.gov/Archives/edgar/data/1821769/000121390020035053/fs12020_liveoakacq2.htm\n"
     ]
    },
    {
     "name": "stderr",
     "output_type": "stream",
     "text": [
      "c:\\python38\\lib\\site-packages\\urllib3\\connectionpool.py:981: InsecureRequestWarning: Unverified HTTPS request is being made to host 'www.sec.gov'. Adding certificate verification is strongly advised. See: https://urllib3.readthedocs.io/en/latest/advanced-usage.html#ssl-warnings\n",
      "  warnings.warn(\n"
     ]
    },
    {
     "name": "stdout",
     "output_type": "stream",
     "text": [
      "{'Revenue': None, 'Net Income': None, 'Cash and cash equivalents': None, 'Goodwill': None, 'Intangible assets': None, 'Total assets': 129955.0, 'Commercial Paper': None, 'Other Current Borrowings': None, 'Long Term Debt': None, 'Short-Term Debt': None, 'Net cash used in operating activities': None, 'Purchases of property and equipment': None}\n",
      "(151) https://www.sec.gov/Archives/edgar/data/1820144/000114036120024557/nt10014005x3_s1.htm\n"
     ]
    },
    {
     "name": "stderr",
     "output_type": "stream",
     "text": [
      "c:\\python38\\lib\\site-packages\\urllib3\\connectionpool.py:981: InsecureRequestWarning: Unverified HTTPS request is being made to host 'www.sec.gov'. Adding certificate verification is strongly advised. See: https://urllib3.readthedocs.io/en/latest/advanced-usage.html#ssl-warnings\n",
      "  warnings.warn(\n"
     ]
    },
    {
     "name": "stdout",
     "output_type": "stream",
     "text": [
      "{'Revenue': None, 'Net Income': -5000.0, 'Cash and cash equivalents': None, 'Goodwill': None, 'Intangible assets': None, 'Total assets': 205000.0, 'Commercial Paper': None, 'Other Current Borrowings': None, 'Long Term Debt': None, 'Short-Term Debt': None, 'Net cash used in operating activities': None, 'Purchases of property and equipment': None}\n",
      "(152) https://www.sec.gov/Archives/edgar/data/867840/000168316820003697/precision_s1a1.htm\n"
     ]
    },
    {
     "name": "stderr",
     "output_type": "stream",
     "text": [
      "c:\\python38\\lib\\site-packages\\urllib3\\connectionpool.py:981: InsecureRequestWarning: Unverified HTTPS request is being made to host 'www.sec.gov'. Adding certificate verification is strongly advised. See: https://urllib3.readthedocs.io/en/latest/advanced-usage.html#ssl-warnings\n",
      "  warnings.warn(\n"
     ]
    },
    {
     "name": "stdout",
     "output_type": "stream",
     "text": [
      "{'Revenue': None, 'Net Income': None, 'Cash and cash equivalents': None, 'Goodwill': None, 'Intangible assets': None, 'Total assets': None, 'Commercial Paper': None, 'Other Current Borrowings': None, 'Long Term Debt': None, 'Short-Term Debt': None, 'Net cash used in operating activities': None, 'Purchases of property and equipment': None}\n",
      "(153) https://www.sec.gov/Archives/edgar/data/1629606/000121390020034978/ea129317-s1a1_drivendeliver.htm\n"
     ]
    },
    {
     "name": "stderr",
     "output_type": "stream",
     "text": [
      "c:\\python38\\lib\\site-packages\\urllib3\\connectionpool.py:981: InsecureRequestWarning: Unverified HTTPS request is being made to host 'www.sec.gov'. Adding certificate verification is strongly advised. See: https://urllib3.readthedocs.io/en/latest/advanced-usage.html#ssl-warnings\n",
      "  warnings.warn(\n"
     ]
    },
    {
     "name": "stdout",
     "output_type": "stream",
     "text": [
      "{'Revenue': None, 'Net Income': None, 'Cash and cash equivalents': None, 'Goodwill': None, 'Intangible assets': None, 'Total assets': None, 'Commercial Paper': None, 'Other Current Borrowings': None, 'Long Term Debt': None, 'Short-Term Debt': None, 'Net cash used in operating activities': None, 'Purchases of property and equipment': None}\n",
      "(154) https://www.sec.gov/Archives/edgar/data/1823144/000110465920121250/tm2030258-11_s1a.htm\n"
     ]
    },
    {
     "name": "stderr",
     "output_type": "stream",
     "text": [
      "c:\\python38\\lib\\site-packages\\urllib3\\connectionpool.py:981: InsecureRequestWarning: Unverified HTTPS request is being made to host 'www.sec.gov'. Adding certificate verification is strongly advised. See: https://urllib3.readthedocs.io/en/latest/advanced-usage.html#ssl-warnings\n",
      "  warnings.warn(\n"
     ]
    },
    {
     "name": "stdout",
     "output_type": "stream",
     "text": [
      "{'Revenue': None, 'Net Income': None, 'Cash and cash equivalents': None, 'Goodwill': None, 'Intangible assets': None, 'Total assets': 42500.0, 'Commercial Paper': None, 'Other Current Borrowings': None, 'Long Term Debt': None, 'Short-Term Debt': None, 'Net cash used in operating activities': None, 'Purchases of property and equipment': None}\n",
      "(155) https://www.sec.gov/Archives/edgar/data/1818605/000110465920121089/tm2030764d4_s1a.htm\n"
     ]
    },
    {
     "name": "stderr",
     "output_type": "stream",
     "text": [
      "c:\\python38\\lib\\site-packages\\urllib3\\connectionpool.py:981: InsecureRequestWarning: Unverified HTTPS request is being made to host 'www.sec.gov'. Adding certificate verification is strongly advised. See: https://urllib3.readthedocs.io/en/latest/advanced-usage.html#ssl-warnings\n",
      "  warnings.warn(\n"
     ]
    },
    {
     "name": "stdout",
     "output_type": "stream",
     "text": [
      "{'Revenue': None, 'Net Income': None, 'Cash and cash equivalents': None, 'Goodwill': None, 'Intangible assets': None, 'Total assets': None, 'Commercial Paper': None, 'Other Current Borrowings': None, 'Long Term Debt': None, 'Short-Term Debt': None, 'Net cash used in operating activities': None, 'Purchases of property and equipment': None}\n",
      "(156) https://www.sec.gov/Archives/edgar/data/1087022/000172186820000488/f2salr102320s1.htm\n"
     ]
    },
    {
     "name": "stderr",
     "output_type": "stream",
     "text": [
      "c:\\python38\\lib\\site-packages\\urllib3\\connectionpool.py:981: InsecureRequestWarning: Unverified HTTPS request is being made to host 'www.sec.gov'. Adding certificate verification is strongly advised. See: https://urllib3.readthedocs.io/en/latest/advanced-usage.html#ssl-warnings\n",
      "  warnings.warn(\n"
     ]
    },
    {
     "name": "stdout",
     "output_type": "stream",
     "text": [
      "{'Revenue': None, 'Net Income': None, 'Cash and cash equivalents': None, 'Goodwill': None, 'Intangible assets': None, 'Total assets': None, 'Commercial Paper': None, 'Other Current Borrowings': None, 'Long Term Debt': None, 'Short-Term Debt': None, 'Net cash used in operating activities': None, 'Purchases of property and equipment': None}\n",
      "(157) https://www.sec.gov/Archives/edgar/data/1761696/000121390020034854/ea129213-s1_crownelectro.htm\n"
     ]
    },
    {
     "name": "stderr",
     "output_type": "stream",
     "text": [
      "c:\\python38\\lib\\site-packages\\urllib3\\connectionpool.py:981: InsecureRequestWarning: Unverified HTTPS request is being made to host 'www.sec.gov'. Adding certificate verification is strongly advised. See: https://urllib3.readthedocs.io/en/latest/advanced-usage.html#ssl-warnings\n",
      "  warnings.warn(\n"
     ]
    },
    {
     "name": "stdout",
     "output_type": "stream",
     "text": [
      "{'Revenue': None, 'Net Income': None, 'Cash and cash equivalents': None, 'Goodwill': None, 'Intangible assets': None, 'Total assets': 912091.0, 'Commercial Paper': None, 'Other Current Borrowings': None, 'Long Term Debt': None, 'Short-Term Debt': None, 'Net cash used in operating activities': None, 'Purchases of property and equipment': None}\n",
      "(158) https://www.sec.gov/Archives/edgar/data/1824301/000121390020034852/fs12020a1_concordacquisition.htm\n"
     ]
    },
    {
     "name": "stderr",
     "output_type": "stream",
     "text": [
      "c:\\python38\\lib\\site-packages\\urllib3\\connectionpool.py:981: InsecureRequestWarning: Unverified HTTPS request is being made to host 'www.sec.gov'. Adding certificate verification is strongly advised. See: https://urllib3.readthedocs.io/en/latest/advanced-usage.html#ssl-warnings\n",
      "  warnings.warn(\n"
     ]
    },
    {
     "name": "stdout",
     "output_type": "stream",
     "text": [
      "{'Revenue': None, 'Net Income': -479.0, 'Cash and cash equivalents': None, 'Goodwill': None, 'Intangible assets': None, 'Total assets': 82500.0, 'Commercial Paper': None, 'Other Current Borrowings': None, 'Long Term Debt': None, 'Short-Term Debt': None, 'Net cash used in operating activities': None, 'Purchases of property and equipment': None}\n",
      "(159) https://www.sec.gov/Archives/edgar/data/1549922/000119312520284845/d201690ds1.htm\n"
     ]
    },
    {
     "name": "stderr",
     "output_type": "stream",
     "text": [
      "c:\\python38\\lib\\site-packages\\urllib3\\connectionpool.py:981: InsecureRequestWarning: Unverified HTTPS request is being made to host 'www.sec.gov'. Adding certificate verification is strongly advised. See: https://urllib3.readthedocs.io/en/latest/advanced-usage.html#ssl-warnings\n",
      "  warnings.warn(\n"
     ]
    },
    {
     "name": "stdout",
     "output_type": "stream",
     "text": [
      "{'Revenue': None, 'Net Income': None, 'Cash and cash equivalents': None, 'Goodwill': None, 'Intangible assets': None, 'Total assets': None, 'Commercial Paper': None, 'Other Current Borrowings': None, 'Long Term Debt': None, 'Short-Term Debt': None, 'Net cash used in operating activities': None, 'Purchases of property and equipment': None}\n",
      "(160) https://www.sec.gov/Archives/edgar/data/1811109/000110465920121024/tm2033947d3_s1.htm\n"
     ]
    },
    {
     "name": "stderr",
     "output_type": "stream",
     "text": [
      "c:\\python38\\lib\\site-packages\\urllib3\\connectionpool.py:981: InsecureRequestWarning: Unverified HTTPS request is being made to host 'www.sec.gov'. Adding certificate verification is strongly advised. See: https://urllib3.readthedocs.io/en/latest/advanced-usage.html#ssl-warnings\n",
      "  warnings.warn(\n"
     ]
    },
    {
     "name": "stdout",
     "output_type": "stream",
     "text": [
      "{'Revenue': None, 'Net Income': None, 'Cash and cash equivalents': None, 'Goodwill': None, 'Intangible assets': None, 'Total assets': None, 'Commercial Paper': None, 'Other Current Borrowings': None, 'Long Term Debt': None, 'Short-Term Debt': None, 'Net cash used in operating activities': None, 'Purchases of property and equipment': None}\n",
      "(161) https://www.sec.gov/Archives/edgar/data/1517681/000149315220020409/forms-1a.htm\n"
     ]
    },
    {
     "name": "stderr",
     "output_type": "stream",
     "text": [
      "c:\\python38\\lib\\site-packages\\urllib3\\connectionpool.py:981: InsecureRequestWarning: Unverified HTTPS request is being made to host 'www.sec.gov'. Adding certificate verification is strongly advised. See: https://urllib3.readthedocs.io/en/latest/advanced-usage.html#ssl-warnings\n",
      "  warnings.warn(\n"
     ]
    },
    {
     "name": "stdout",
     "output_type": "stream",
     "text": [
      "{'Revenue': None, 'Net Income': None, 'Cash and cash equivalents': None, 'Goodwill': None, 'Intangible assets': None, 'Total assets': None, 'Commercial Paper': None, 'Other Current Borrowings': None, 'Long Term Debt': None, 'Short-Term Debt': None, 'Net cash used in operating activities': None, 'Purchases of property and equipment': None}\n",
      "(162) https://www.sec.gov/Archives/edgar/data/355379/000110465920121007/tm2034654-1_s1.htm\n"
     ]
    },
    {
     "name": "stderr",
     "output_type": "stream",
     "text": [
      "c:\\python38\\lib\\site-packages\\urllib3\\connectionpool.py:981: InsecureRequestWarning: Unverified HTTPS request is being made to host 'www.sec.gov'. Adding certificate verification is strongly advised. See: https://urllib3.readthedocs.io/en/latest/advanced-usage.html#ssl-warnings\n",
      "  warnings.warn(\n"
     ]
    },
    {
     "name": "stdout",
     "output_type": "stream",
     "text": [
      "{'Revenue': None, 'Net Income': None, 'Cash and cash equivalents': 75041902.0, 'Goodwill': None, 'Intangible assets': 700000.0, 'Total assets': 395709.0, 'Commercial Paper': None, 'Other Current Borrowings': None, 'Long Term Debt': None, 'Short-Term Debt': None, 'Net cash used in operating activities': None, 'Purchases of property and equipment': None}\n",
      "(163) https://www.sec.gov/Archives/edgar/data/205402/000020540220000041/c402-20201103xs1a.htm\n"
     ]
    },
    {
     "name": "stderr",
     "output_type": "stream",
     "text": [
      "c:\\python38\\lib\\site-packages\\urllib3\\connectionpool.py:981: InsecureRequestWarning: Unverified HTTPS request is being made to host 'www.sec.gov'. Adding certificate verification is strongly advised. See: https://urllib3.readthedocs.io/en/latest/advanced-usage.html#ssl-warnings\n",
      "  warnings.warn(\n"
     ]
    },
    {
     "name": "stdout",
     "output_type": "stream",
     "text": [
      "{'Revenue': None, 'Net Income': None, 'Cash and cash equivalents': None, 'Goodwill': None, 'Intangible assets': None, 'Total assets': 2049.5, 'Commercial Paper': None, 'Other Current Borrowings': None, 'Long Term Debt': None, 'Short-Term Debt': None, 'Net cash used in operating activities': None, 'Purchases of property and equipment': None}\n",
      "(164) https://www.sec.gov/Archives/edgar/data/1828735/000110465920120674/tm2034409-1_s1.htm\n"
     ]
    },
    {
     "name": "stderr",
     "output_type": "stream",
     "text": [
      "c:\\python38\\lib\\site-packages\\urllib3\\connectionpool.py:981: InsecureRequestWarning: Unverified HTTPS request is being made to host 'www.sec.gov'. Adding certificate verification is strongly advised. See: https://urllib3.readthedocs.io/en/latest/advanced-usage.html#ssl-warnings\n",
      "  warnings.warn(\n"
     ]
    },
    {
     "name": "stdout",
     "output_type": "stream",
     "text": [
      "{'Revenue': None, 'Net Income': None, 'Cash and cash equivalents': None, 'Goodwill': None, 'Intangible assets': None, 'Total assets': 116100.0, 'Commercial Paper': None, 'Other Current Borrowings': None, 'Long Term Debt': None, 'Short-Term Debt': None, 'Net cash used in operating activities': None, 'Purchases of property and equipment': None}\n",
      "(165) https://www.sec.gov/Archives/edgar/data/1750149/000110465920120661/tm2024520-12_s1a.htm\n"
     ]
    },
    {
     "name": "stderr",
     "output_type": "stream",
     "text": [
      "c:\\python38\\lib\\site-packages\\urllib3\\connectionpool.py:981: InsecureRequestWarning: Unverified HTTPS request is being made to host 'www.sec.gov'. Adding certificate verification is strongly advised. See: https://urllib3.readthedocs.io/en/latest/advanced-usage.html#ssl-warnings\n",
      "  warnings.warn(\n"
     ]
    },
    {
     "name": "stdout",
     "output_type": "stream",
     "text": [
      "{'Revenue': None, 'Net Income': None, 'Cash and cash equivalents': None, 'Goodwill': None, 'Intangible assets': None, 'Total assets': 366639.0, 'Commercial Paper': None, 'Other Current Borrowings': None, 'Long Term Debt': None, 'Short-Term Debt': None, 'Net cash used in operating activities': None, 'Purchases of property and equipment': None}\n",
      "(166) https://www.sec.gov/Archives/edgar/data/1824884/000121390020034589/fs12020a3_edocacq.htm\n"
     ]
    },
    {
     "name": "stderr",
     "output_type": "stream",
     "text": [
      "c:\\python38\\lib\\site-packages\\urllib3\\connectionpool.py:981: InsecureRequestWarning: Unverified HTTPS request is being made to host 'www.sec.gov'. Adding certificate verification is strongly advised. See: https://urllib3.readthedocs.io/en/latest/advanced-usage.html#ssl-warnings\n",
      "  warnings.warn(\n"
     ]
    },
    {
     "name": "stdout",
     "output_type": "stream",
     "text": [
      "{'Revenue': None, 'Net Income': -8653.0, 'Cash and cash equivalents': None, 'Goodwill': None, 'Intangible assets': None, 'Total assets': 178938.0, 'Commercial Paper': None, 'Other Current Borrowings': None, 'Long Term Debt': None, 'Short-Term Debt': None, 'Net cash used in operating activities': None, 'Purchases of property and equipment': None}\n",
      "(167) https://www.sec.gov/Archives/edgar/data/1822479/000119312520284069/d93452ds1a.htm\n"
     ]
    },
    {
     "name": "stderr",
     "output_type": "stream",
     "text": [
      "c:\\python38\\lib\\site-packages\\urllib3\\connectionpool.py:981: InsecureRequestWarning: Unverified HTTPS request is being made to host 'www.sec.gov'. Adding certificate verification is strongly advised. See: https://urllib3.readthedocs.io/en/latest/advanced-usage.html#ssl-warnings\n",
      "  warnings.warn(\n"
     ]
    },
    {
     "name": "stdout",
     "output_type": "stream",
     "text": [
      "{'Revenue': None, 'Net Income': None, 'Cash and cash equivalents': None, 'Goodwill': None, 'Intangible assets': None, 'Total assets': None, 'Commercial Paper': None, 'Other Current Borrowings': None, 'Long Term Debt': None, 'Short-Term Debt': None, 'Net cash used in operating activities': None, 'Purchases of property and equipment': None}\n",
      "(168) https://www.sec.gov/Archives/edgar/data/1824119/000095010320021293/dp139824-s1.htm\n"
     ]
    },
    {
     "name": "stderr",
     "output_type": "stream",
     "text": [
      "c:\\python38\\lib\\site-packages\\urllib3\\connectionpool.py:981: InsecureRequestWarning: Unverified HTTPS request is being made to host 'www.sec.gov'. Adding certificate verification is strongly advised. See: https://urllib3.readthedocs.io/en/latest/advanced-usage.html#ssl-warnings\n",
      "  warnings.warn(\n"
     ]
    },
    {
     "name": "stdout",
     "output_type": "stream",
     "text": [
      "{'Revenue': None, 'Net Income': None, 'Cash and cash equivalents': None, 'Goodwill': None, 'Intangible assets': None, 'Total assets': 70348.0, 'Commercial Paper': None, 'Other Current Borrowings': None, 'Long Term Debt': None, 'Short-Term Debt': None, 'Net cash used in operating activities': None, 'Purchases of property and equipment': None}\n",
      "(169) https://www.sec.gov/Archives/edgar/data/1800373/000152013820000524/gdwl-20201102_s1a5.htm\n"
     ]
    },
    {
     "name": "stderr",
     "output_type": "stream",
     "text": [
      "c:\\python38\\lib\\site-packages\\urllib3\\connectionpool.py:981: InsecureRequestWarning: Unverified HTTPS request is being made to host 'www.sec.gov'. Adding certificate verification is strongly advised. See: https://urllib3.readthedocs.io/en/latest/advanced-usage.html#ssl-warnings\n",
      "  warnings.warn(\n"
     ]
    },
    {
     "name": "stdout",
     "output_type": "stream",
     "text": [
      "{'Revenue': None, 'Net Income': None, 'Cash and cash equivalents': None, 'Goodwill': None, 'Intangible assets': None, 'Total assets': None, 'Commercial Paper': None, 'Other Current Borrowings': None, 'Long Term Debt': None, 'Short-Term Debt': None, 'Net cash used in operating activities': None, 'Purchases of property and equipment': None}\n",
      "(170) https://www.sec.gov/Archives/edgar/data/61004/000119380520001361/s1a103725036_11022020.htm\n"
     ]
    },
    {
     "name": "stderr",
     "output_type": "stream",
     "text": [
      "c:\\python38\\lib\\site-packages\\urllib3\\connectionpool.py:981: InsecureRequestWarning: Unverified HTTPS request is being made to host 'www.sec.gov'. Adding certificate verification is strongly advised. See: https://urllib3.readthedocs.io/en/latest/advanced-usage.html#ssl-warnings\n",
      "  warnings.warn(\n"
     ]
    },
    {
     "name": "stdout",
     "output_type": "stream",
     "text": [
      "{'Revenue': None, 'Net Income': None, 'Cash and cash equivalents': None, 'Goodwill': None, 'Intangible assets': None, 'Total assets': None, 'Commercial Paper': None, 'Other Current Borrowings': None, 'Long Term Debt': None, 'Short-Term Debt': None, 'Net cash used in operating activities': None, 'Purchases of property and equipment': None}\n",
      "(171) https://www.sec.gov/Archives/edgar/data/1825042/000119312520284013/d73797ds1a.htm\n"
     ]
    },
    {
     "name": "stderr",
     "output_type": "stream",
     "text": [
      "c:\\python38\\lib\\site-packages\\urllib3\\connectionpool.py:981: InsecureRequestWarning: Unverified HTTPS request is being made to host 'www.sec.gov'. Adding certificate verification is strongly advised. See: https://urllib3.readthedocs.io/en/latest/advanced-usage.html#ssl-warnings\n",
      "  warnings.warn(\n"
     ]
    },
    {
     "name": "stdout",
     "output_type": "stream",
     "text": [
      "{'Revenue': None, 'Net Income': None, 'Cash and cash equivalents': None, 'Goodwill': None, 'Intangible assets': None, 'Total assets': None, 'Commercial Paper': None, 'Other Current Borrowings': None, 'Long Term Debt': None, 'Short-Term Debt': None, 'Net cash used in operating activities': None, 'Purchases of property and equipment': None}\n",
      "(172) https://www.sec.gov/Archives/edgar/data/1828105/000121390020034555/fs12020_reinventtechz.htm\n"
     ]
    },
    {
     "name": "stderr",
     "output_type": "stream",
     "text": [
      "c:\\python38\\lib\\site-packages\\urllib3\\connectionpool.py:981: InsecureRequestWarning: Unverified HTTPS request is being made to host 'www.sec.gov'. Adding certificate verification is strongly advised. See: https://urllib3.readthedocs.io/en/latest/advanced-usage.html#ssl-warnings\n",
      "  warnings.warn(\n"
     ]
    },
    {
     "name": "stdout",
     "output_type": "stream",
     "text": [
      "{'Revenue': None, 'Net Income': -7589.0, 'Cash and cash equivalents': None, 'Goodwill': None, 'Intangible assets': None, 'Total assets': 20717.0, 'Commercial Paper': None, 'Other Current Borrowings': None, 'Long Term Debt': None, 'Short-Term Debt': None, 'Net cash used in operating activities': None, 'Purchases of property and equipment': None}\n",
      "(173) https://www.sec.gov/Archives/edgar/data/725929/000168316820003635/b2digital_s1.htm\n"
     ]
    },
    {
     "name": "stderr",
     "output_type": "stream",
     "text": [
      "c:\\python38\\lib\\site-packages\\urllib3\\connectionpool.py:981: InsecureRequestWarning: Unverified HTTPS request is being made to host 'www.sec.gov'. Adding certificate verification is strongly advised. See: https://urllib3.readthedocs.io/en/latest/advanced-usage.html#ssl-warnings\n",
      "  warnings.warn(\n"
     ]
    },
    {
     "name": "stdout",
     "output_type": "stream",
     "text": [
      "{'Revenue': None, 'Net Income': None, 'Cash and cash equivalents': None, 'Goodwill': None, 'Intangible assets': None, 'Total assets': None, 'Commercial Paper': None, 'Other Current Borrowings': None, 'Long Term Debt': None, 'Short-Term Debt': None, 'Net cash used in operating activities': None, 'Purchases of property and equipment': None}\n",
      "(174) https://www.sec.gov/Archives/edgar/data/1335105/000149315220020295/forms-1a.htm\n"
     ]
    },
    {
     "name": "stderr",
     "output_type": "stream",
     "text": [
      "c:\\python38\\lib\\site-packages\\urllib3\\connectionpool.py:981: InsecureRequestWarning: Unverified HTTPS request is being made to host 'www.sec.gov'. Adding certificate verification is strongly advised. See: https://urllib3.readthedocs.io/en/latest/advanced-usage.html#ssl-warnings\n",
      "  warnings.warn(\n"
     ]
    },
    {
     "name": "stdout",
     "output_type": "stream",
     "text": [
      "{'Revenue': None, 'Net Income': None, 'Cash and cash equivalents': None, 'Goodwill': None, 'Intangible assets': None, 'Total assets': None, 'Commercial Paper': None, 'Other Current Borrowings': None, 'Long Term Debt': None, 'Short-Term Debt': None, 'Net cash used in operating activities': None, 'Purchases of property and equipment': None}\n",
      "(175) https://www.sec.gov/Archives/edgar/data/1762322/000121390020034358/fs12020_shifttech.htm\n"
     ]
    },
    {
     "name": "stderr",
     "output_type": "stream",
     "text": [
      "c:\\python38\\lib\\site-packages\\urllib3\\connectionpool.py:981: InsecureRequestWarning: Unverified HTTPS request is being made to host 'www.sec.gov'. Adding certificate verification is strongly advised. See: https://urllib3.readthedocs.io/en/latest/advanced-usage.html#ssl-warnings\n",
      "  warnings.warn(\n"
     ]
    },
    {
     "name": "stdout",
     "output_type": "stream",
     "text": [
      "{'Revenue': None, 'Net Income': -31324.0, 'Cash and cash equivalents': 23087.0, 'Goodwill': None, 'Intangible assets': None, 'Total assets': 60523.0, 'Commercial Paper': None, 'Other Current Borrowings': None, 'Long Term Debt': None, 'Short-Term Debt': None, 'Net cash used in operating activities': None, 'Purchases of property and equipment': None}\n",
      "(176) https://www.sec.gov/Archives/edgar/data/1484769/000149315220020255/forms-1.htm\n"
     ]
    },
    {
     "name": "stderr",
     "output_type": "stream",
     "text": [
      "c:\\python38\\lib\\site-packages\\urllib3\\connectionpool.py:981: InsecureRequestWarning: Unverified HTTPS request is being made to host 'www.sec.gov'. Adding certificate verification is strongly advised. See: https://urllib3.readthedocs.io/en/latest/advanced-usage.html#ssl-warnings\n",
      "  warnings.warn(\n"
     ]
    },
    {
     "name": "stdout",
     "output_type": "stream",
     "text": [
      "{'Revenue': None, 'Net Income': None, 'Cash and cash equivalents': None, 'Goodwill': None, 'Intangible assets': None, 'Total assets': None, 'Commercial Paper': None, 'Other Current Borrowings': None, 'Long Term Debt': None, 'Short-Term Debt': None, 'Net cash used in operating activities': None, 'Purchases of property and equipment': None}\n",
      "(177) https://www.sec.gov/Archives/edgar/data/1793229/000110465920120123/tm2031592-1_s1.htm\n"
     ]
    },
    {
     "name": "stderr",
     "output_type": "stream",
     "text": [
      "c:\\python38\\lib\\site-packages\\urllib3\\connectionpool.py:981: InsecureRequestWarning: Unverified HTTPS request is being made to host 'www.sec.gov'. Adding certificate verification is strongly advised. See: https://urllib3.readthedocs.io/en/latest/advanced-usage.html#ssl-warnings\n",
      "  warnings.warn(\n"
     ]
    },
    {
     "name": "stdout",
     "output_type": "stream",
     "text": [
      "{'Revenue': None, 'Net Income': 1696498.0, 'Cash and cash equivalents': 178860.0, 'Goodwill': 4142013.0, 'Intangible assets': None, 'Total assets': 1107564339.0, 'Commercial Paper': None, 'Other Current Borrowings': None, 'Long Term Debt': None, 'Short-Term Debt': None, 'Net cash used in operating activities': None, 'Purchases of property and equipment': None}\n",
      "(178) https://www.sec.gov/Archives/edgar/data/1745317/000110465920120116/tm2032946-3_s1a.htm\n"
     ]
    },
    {
     "name": "stderr",
     "output_type": "stream",
     "text": [
      "c:\\python38\\lib\\site-packages\\urllib3\\connectionpool.py:981: InsecureRequestWarning: Unverified HTTPS request is being made to host 'www.sec.gov'. Adding certificate verification is strongly advised. See: https://urllib3.readthedocs.io/en/latest/advanced-usage.html#ssl-warnings\n",
      "  warnings.warn(\n"
     ]
    },
    {
     "name": "stdout",
     "output_type": "stream",
     "text": [
      "{'Revenue': None, 'Net Income': None, 'Cash and cash equivalents': None, 'Goodwill': None, 'Intangible assets': None, 'Total assets': None, 'Commercial Paper': None, 'Other Current Borrowings': None, 'Long Term Debt': None, 'Short-Term Debt': None, 'Net cash used in operating activities': None, 'Purchases of property and equipment': None}\n",
      "(179) https://www.sec.gov/Archives/edgar/data/1822966/000110465920120112/tm2029458-9_s1a.htm\n"
     ]
    },
    {
     "name": "stderr",
     "output_type": "stream",
     "text": [
      "c:\\python38\\lib\\site-packages\\urllib3\\connectionpool.py:981: InsecureRequestWarning: Unverified HTTPS request is being made to host 'www.sec.gov'. Adding certificate verification is strongly advised. See: https://urllib3.readthedocs.io/en/latest/advanced-usage.html#ssl-warnings\n",
      "  warnings.warn(\n"
     ]
    },
    {
     "name": "stdout",
     "output_type": "stream",
     "text": [
      "{'Revenue': None, 'Net Income': None, 'Cash and cash equivalents': None, 'Goodwill': None, 'Intangible assets': None, 'Total assets': None, 'Commercial Paper': None, 'Other Current Borrowings': None, 'Long Term Debt': None, 'Short-Term Debt': None, 'Net cash used in operating activities': None, 'Purchases of property and equipment': None}\n",
      "(180) https://www.sec.gov/Archives/edgar/data/748268/000155479520000269/rcat1025forms1.htm\n"
     ]
    },
    {
     "name": "stderr",
     "output_type": "stream",
     "text": [
      "c:\\python38\\lib\\site-packages\\urllib3\\connectionpool.py:981: InsecureRequestWarning: Unverified HTTPS request is being made to host 'www.sec.gov'. Adding certificate verification is strongly advised. See: https://urllib3.readthedocs.io/en/latest/advanced-usage.html#ssl-warnings\n",
      "  warnings.warn(\n"
     ]
    },
    {
     "name": "stdout",
     "output_type": "stream",
     "text": [
      "{'Revenue': None, 'Net Income': None, 'Cash and cash equivalents': None, 'Goodwill': None, 'Intangible assets': None, 'Total assets': None, 'Commercial Paper': None, 'Other Current Borrowings': None, 'Long Term Debt': None, 'Short-Term Debt': None, 'Net cash used in operating activities': None, 'Purchases of property and equipment': None}\n",
      "(181) https://www.sec.gov/Archives/edgar/data/1829328/000121390020034296/ea129056s1a1_fintechacq5.htm\n"
     ]
    },
    {
     "name": "stderr",
     "output_type": "stream",
     "text": [
      "c:\\python38\\lib\\site-packages\\urllib3\\connectionpool.py:981: InsecureRequestWarning: Unverified HTTPS request is being made to host 'www.sec.gov'. Adding certificate verification is strongly advised. See: https://urllib3.readthedocs.io/en/latest/advanced-usage.html#ssl-warnings\n",
      "  warnings.warn(\n"
     ]
    },
    {
     "name": "stdout",
     "output_type": "stream",
     "text": [
      "{'Revenue': None, 'Net Income': None, 'Cash and cash equivalents': None, 'Goodwill': None, 'Intangible assets': None, 'Total assets': None, 'Commercial Paper': None, 'Other Current Borrowings': None, 'Long Term Debt': None, 'Short-Term Debt': None, 'Net cash used in operating activities': None, 'Purchases of property and equipment': None}\n",
      "(182) https://www.sec.gov/Archives/edgar/data/1826000/000119312520282695/d884122ds1a.htm\n"
     ]
    },
    {
     "name": "stderr",
     "output_type": "stream",
     "text": [
      "c:\\python38\\lib\\site-packages\\urllib3\\connectionpool.py:981: InsecureRequestWarning: Unverified HTTPS request is being made to host 'www.sec.gov'. Adding certificate verification is strongly advised. See: https://urllib3.readthedocs.io/en/latest/advanced-usage.html#ssl-warnings\n",
      "  warnings.warn(\n"
     ]
    },
    {
     "name": "stdout",
     "output_type": "stream",
     "text": [
      "{'Revenue': None, 'Net Income': None, 'Cash and cash equivalents': None, 'Goodwill': None, 'Intangible assets': None, 'Total assets': 248025.0, 'Commercial Paper': None, 'Other Current Borrowings': None, 'Long Term Debt': None, 'Short-Term Debt': None, 'Net cash used in operating activities': None, 'Purchases of property and equipment': None}\n",
      "(183) https://www.sec.gov/Archives/edgar/data/1827075/000119312520282687/d74355ds1.htm\n"
     ]
    },
    {
     "name": "stderr",
     "output_type": "stream",
     "text": [
      "c:\\python38\\lib\\site-packages\\urllib3\\connectionpool.py:981: InsecureRequestWarning: Unverified HTTPS request is being made to host 'www.sec.gov'. Adding certificate verification is strongly advised. See: https://urllib3.readthedocs.io/en/latest/advanced-usage.html#ssl-warnings\n",
      "  warnings.warn(\n"
     ]
    },
    {
     "name": "stdout",
     "output_type": "stream",
     "text": [
      "{'Revenue': None, 'Net Income': -5000.0, 'Cash and cash equivalents': None, 'Goodwill': None, 'Intangible assets': None, 'Total assets': 48000.0, 'Commercial Paper': None, 'Other Current Borrowings': None, 'Long Term Debt': None, 'Short-Term Debt': None, 'Net cash used in operating activities': None, 'Purchases of property and equipment': None}\n",
      "(184) https://www.sec.gov/Archives/edgar/data/931788/000093178820000011/jacksonmarketlinkproadvidoc.htm\n"
     ]
    },
    {
     "name": "stderr",
     "output_type": "stream",
     "text": [
      "c:\\python38\\lib\\site-packages\\urllib3\\connectionpool.py:981: InsecureRequestWarning: Unverified HTTPS request is being made to host 'www.sec.gov'. Adding certificate verification is strongly advised. See: https://urllib3.readthedocs.io/en/latest/advanced-usage.html#ssl-warnings\n",
      "  warnings.warn(\n"
     ]
    },
    {
     "name": "stdout",
     "output_type": "stream",
     "text": [
      "{'Revenue': None, 'Net Income': None, 'Cash and cash equivalents': None, 'Goodwill': None, 'Intangible assets': None, 'Total assets': None, 'Commercial Paper': None, 'Other Current Borrowings': None, 'Long Term Debt': None, 'Short-Term Debt': None, 'Net cash used in operating activities': None, 'Purchases of property and equipment': None}\n",
      "(185) https://www.sec.gov/Archives/edgar/data/1453593/000149315220020239/forms-1a.htm\n"
     ]
    },
    {
     "name": "stderr",
     "output_type": "stream",
     "text": [
      "c:\\python38\\lib\\site-packages\\urllib3\\connectionpool.py:981: InsecureRequestWarning: Unverified HTTPS request is being made to host 'www.sec.gov'. Adding certificate verification is strongly advised. See: https://urllib3.readthedocs.io/en/latest/advanced-usage.html#ssl-warnings\n",
      "  warnings.warn(\n"
     ]
    },
    {
     "name": "stdout",
     "output_type": "stream",
     "text": [
      "{'Revenue': None, 'Net Income': None, 'Cash and cash equivalents': None, 'Goodwill': None, 'Intangible assets': None, 'Total assets': None, 'Commercial Paper': None, 'Other Current Borrowings': None, 'Long Term Debt': None, 'Short-Term Debt': None, 'Net cash used in operating activities': None, 'Purchases of property and equipment': None}\n",
      "(186) https://www.sec.gov/Archives/edgar/data/1825724/000119312520282558/d48600ds1.htm\n"
     ]
    },
    {
     "name": "stderr",
     "output_type": "stream",
     "text": [
      "c:\\python38\\lib\\site-packages\\urllib3\\connectionpool.py:981: InsecureRequestWarning: Unverified HTTPS request is being made to host 'www.sec.gov'. Adding certificate verification is strongly advised. See: https://urllib3.readthedocs.io/en/latest/advanced-usage.html#ssl-warnings\n",
      "  warnings.warn(\n"
     ]
    },
    {
     "name": "stdout",
     "output_type": "stream",
     "text": [
      "{'Revenue': None, 'Net Income': None, 'Cash and cash equivalents': None, 'Goodwill': None, 'Intangible assets': None, 'Total assets': 279605.0, 'Commercial Paper': None, 'Other Current Borrowings': None, 'Long Term Debt': None, 'Short-Term Debt': None, 'Net cash used in operating activities': None, 'Purchases of property and equipment': None}\n",
      "(187) https://www.sec.gov/Archives/edgar/data/1599407/000121390020034214/ea129152-s1_1847holdings.htm\n"
     ]
    },
    {
     "name": "stderr",
     "output_type": "stream",
     "text": [
      "c:\\python38\\lib\\site-packages\\urllib3\\connectionpool.py:981: InsecureRequestWarning: Unverified HTTPS request is being made to host 'www.sec.gov'. Adding certificate verification is strongly advised. See: https://urllib3.readthedocs.io/en/latest/advanced-usage.html#ssl-warnings\n",
      "  warnings.warn(\n"
     ]
    },
    {
     "name": "stdout",
     "output_type": "stream",
     "text": [
      "{'Revenue': 3004056.0, 'Net Income': None, 'Cash and cash equivalents': None, 'Goodwill': None, 'Intangible assets': None, 'Total assets': 9759104.0, 'Commercial Paper': None, 'Other Current Borrowings': None, 'Long Term Debt': None, 'Short-Term Debt': None, 'Net cash used in operating activities': None, 'Purchases of property and equipment': None}\n",
      "(188) https://www.sec.gov/Archives/edgar/data/931788/000093178820000009/jacksonmarketlinkprodoc.htm\n"
     ]
    },
    {
     "name": "stderr",
     "output_type": "stream",
     "text": [
      "c:\\python38\\lib\\site-packages\\urllib3\\connectionpool.py:981: InsecureRequestWarning: Unverified HTTPS request is being made to host 'www.sec.gov'. Adding certificate verification is strongly advised. See: https://urllib3.readthedocs.io/en/latest/advanced-usage.html#ssl-warnings\n",
      "  warnings.warn(\n"
     ]
    },
    {
     "name": "stdout",
     "output_type": "stream",
     "text": [
      "{'Revenue': None, 'Net Income': None, 'Cash and cash equivalents': None, 'Goodwill': None, 'Intangible assets': None, 'Total assets': None, 'Commercial Paper': None, 'Other Current Borrowings': None, 'Long Term Debt': None, 'Short-Term Debt': None, 'Net cash used in operating activities': None, 'Purchases of property and equipment': None}\n",
      "(189) https://www.sec.gov/Archives/edgar/data/1823365/000110465920119989/tm2030321d2_s1a.htm\n"
     ]
    },
    {
     "name": "stderr",
     "output_type": "stream",
     "text": [
      "c:\\python38\\lib\\site-packages\\urllib3\\connectionpool.py:981: InsecureRequestWarning: Unverified HTTPS request is being made to host 'www.sec.gov'. Adding certificate verification is strongly advised. See: https://urllib3.readthedocs.io/en/latest/advanced-usage.html#ssl-warnings\n",
      "  warnings.warn(\n"
     ]
    },
    {
     "name": "stdout",
     "output_type": "stream",
     "text": [
      "{'Revenue': None, 'Net Income': None, 'Cash and cash equivalents': None, 'Goodwill': None, 'Intangible assets': None, 'Total assets': None, 'Commercial Paper': None, 'Other Current Borrowings': None, 'Long Term Debt': None, 'Short-Term Debt': None, 'Net cash used in operating activities': None, 'Purchases of property and equipment': None}\n",
      "(190) https://www.sec.gov/Archives/edgar/data/1750284/000110465920119971/tm2027048-7_s1.htm\n"
     ]
    },
    {
     "name": "stderr",
     "output_type": "stream",
     "text": [
      "c:\\python38\\lib\\site-packages\\urllib3\\connectionpool.py:981: InsecureRequestWarning: Unverified HTTPS request is being made to host 'www.sec.gov'. Adding certificate verification is strongly advised. See: https://urllib3.readthedocs.io/en/latest/advanced-usage.html#ssl-warnings\n",
      "  warnings.warn(\n"
     ]
    },
    {
     "name": "stdout",
     "output_type": "stream",
     "text": [
      "{'Revenue': None, 'Net Income': None, 'Cash and cash equivalents': 127824.0, 'Goodwill': None, 'Intangible assets': None, 'Total assets': 130683.0, 'Commercial Paper': None, 'Other Current Borrowings': None, 'Long Term Debt': None, 'Short-Term Debt': None, 'Net cash used in operating activities': None, 'Purchases of property and equipment': None}\n",
      "(191) https://www.sec.gov/Archives/edgar/data/1823635/000149315220020175/forms-1a.htm\n"
     ]
    },
    {
     "name": "stderr",
     "output_type": "stream",
     "text": [
      "c:\\python38\\lib\\site-packages\\urllib3\\connectionpool.py:981: InsecureRequestWarning: Unverified HTTPS request is being made to host 'www.sec.gov'. Adding certificate verification is strongly advised. See: https://urllib3.readthedocs.io/en/latest/advanced-usage.html#ssl-warnings\n",
      "  warnings.warn(\n"
     ]
    },
    {
     "name": "stdout",
     "output_type": "stream",
     "text": [
      "{'Revenue': None, 'Net Income': None, 'Cash and cash equivalents': None, 'Goodwill': None, 'Intangible assets': None, 'Total assets': None, 'Commercial Paper': None, 'Other Current Borrowings': None, 'Long Term Debt': None, 'Short-Term Debt': None, 'Net cash used in operating activities': None, 'Purchases of property and equipment': None}\n",
      "(192) https://www.sec.gov/Archives/edgar/data/1571934/000110465920119650/tm2024584-6_s1a.htm\n"
     ]
    },
    {
     "name": "stderr",
     "output_type": "stream",
     "text": [
      "c:\\python38\\lib\\site-packages\\urllib3\\connectionpool.py:981: InsecureRequestWarning: Unverified HTTPS request is being made to host 'www.sec.gov'. Adding certificate verification is strongly advised. See: https://urllib3.readthedocs.io/en/latest/advanced-usage.html#ssl-warnings\n",
      "  warnings.warn(\n"
     ]
    },
    {
     "name": "stdout",
     "output_type": "stream",
     "text": [
      "{'Revenue': None, 'Net Income': -5469470.0, 'Cash and cash equivalents': 17382038.0, 'Goodwill': None, 'Intangible assets': None, 'Total assets': 30865416.0, 'Commercial Paper': None, 'Other Current Borrowings': None, 'Long Term Debt': None, 'Short-Term Debt': None, 'Net cash used in operating activities': None, 'Purchases of property and equipment': None}\n",
      "(193) https://www.sec.gov/Archives/edgar/data/1822366/000119312520281368/d26826ds1a.htm\n"
     ]
    },
    {
     "name": "stderr",
     "output_type": "stream",
     "text": [
      "c:\\python38\\lib\\site-packages\\urllib3\\connectionpool.py:981: InsecureRequestWarning: Unverified HTTPS request is being made to host 'www.sec.gov'. Adding certificate verification is strongly advised. See: https://urllib3.readthedocs.io/en/latest/advanced-usage.html#ssl-warnings\n",
      "  warnings.warn(\n"
     ]
    },
    {
     "name": "stdout",
     "output_type": "stream",
     "text": [
      "{'Revenue': None, 'Net Income': None, 'Cash and cash equivalents': None, 'Goodwill': None, 'Intangible assets': None, 'Total assets': 639938.0, 'Commercial Paper': None, 'Other Current Borrowings': None, 'Long Term Debt': None, 'Short-Term Debt': None, 'Net cash used in operating activities': None, 'Purchases of property and equipment': None}\n",
      "(194) https://www.sec.gov/Archives/edgar/data/101594/000149315220020151/forms-1.htm\n"
     ]
    },
    {
     "name": "stderr",
     "output_type": "stream",
     "text": [
      "c:\\python38\\lib\\site-packages\\urllib3\\connectionpool.py:981: InsecureRequestWarning: Unverified HTTPS request is being made to host 'www.sec.gov'. Adding certificate verification is strongly advised. See: https://urllib3.readthedocs.io/en/latest/advanced-usage.html#ssl-warnings\n",
      "  warnings.warn(\n"
     ]
    },
    {
     "name": "stdout",
     "output_type": "stream",
     "text": [
      "{'Revenue': None, 'Net Income': None, 'Cash and cash equivalents': None, 'Goodwill': None, 'Intangible assets': None, 'Total assets': None, 'Commercial Paper': None, 'Other Current Borrowings': None, 'Long Term Debt': None, 'Short-Term Debt': None, 'Net cash used in operating activities': None, 'Purchases of property and equipment': None}\n",
      "(195) https://www.sec.gov/Archives/edgar/data/1820272/000121390020034044/fs12020a2_legatomerger.htm\n"
     ]
    },
    {
     "name": "stderr",
     "output_type": "stream",
     "text": [
      "c:\\python38\\lib\\site-packages\\urllib3\\connectionpool.py:981: InsecureRequestWarning: Unverified HTTPS request is being made to host 'www.sec.gov'. Adding certificate verification is strongly advised. See: https://urllib3.readthedocs.io/en/latest/advanced-usage.html#ssl-warnings\n",
      "  warnings.warn(\n"
     ]
    },
    {
     "name": "stdout",
     "output_type": "stream",
     "text": [
      "{'Revenue': None, 'Net Income': -354.0, 'Cash and cash equivalents': None, 'Goodwill': None, 'Intangible assets': None, 'Total assets': 25994.0, 'Commercial Paper': None, 'Other Current Borrowings': None, 'Long Term Debt': None, 'Short-Term Debt': None, 'Net cash used in operating activities': None, 'Purchases of property and equipment': None}\n",
      "(196) https://www.sec.gov/Archives/edgar/data/1823239/000119312520281158/d73061ds1.htm\n"
     ]
    },
    {
     "name": "stderr",
     "output_type": "stream",
     "text": [
      "c:\\python38\\lib\\site-packages\\urllib3\\connectionpool.py:981: InsecureRequestWarning: Unverified HTTPS request is being made to host 'www.sec.gov'. Adding certificate verification is strongly advised. See: https://urllib3.readthedocs.io/en/latest/advanced-usage.html#ssl-warnings\n",
      "  warnings.warn(\n"
     ]
    },
    {
     "name": "stdout",
     "output_type": "stream",
     "text": [
      "{'Revenue': 123833.0, 'Net Income': -16915.0, 'Cash and cash equivalents': None, 'Goodwill': None, 'Intangible assets': None, 'Total assets': 539676.0, 'Commercial Paper': None, 'Other Current Borrowings': None, 'Long Term Debt': None, 'Short-Term Debt': None, 'Net cash used in operating activities': None, 'Purchases of property and equipment': None}\n",
      "(197) https://www.sec.gov/Archives/edgar/data/1750106/000165495420011598/hfe_s1.htm\n"
     ]
    },
    {
     "name": "stderr",
     "output_type": "stream",
     "text": [
      "c:\\python38\\lib\\site-packages\\urllib3\\connectionpool.py:981: InsecureRequestWarning: Unverified HTTPS request is being made to host 'www.sec.gov'. Adding certificate verification is strongly advised. See: https://urllib3.readthedocs.io/en/latest/advanced-usage.html#ssl-warnings\n",
      "  warnings.warn(\n"
     ]
    },
    {
     "name": "stdout",
     "output_type": "stream",
     "text": [
      "{'Revenue': None, 'Net Income': None, 'Cash and cash equivalents': None, 'Goodwill': None, 'Intangible assets': None, 'Total assets': None, 'Commercial Paper': None, 'Other Current Borrowings': None, 'Long Term Debt': None, 'Short-Term Debt': None, 'Net cash used in operating activities': None, 'Purchases of property and equipment': None}\n",
      "(198) https://www.sec.gov/Archives/edgar/data/1824993/000119312520281075/d30832ds1.htm\n"
     ]
    },
    {
     "name": "stderr",
     "output_type": "stream",
     "text": [
      "c:\\python38\\lib\\site-packages\\urllib3\\connectionpool.py:981: InsecureRequestWarning: Unverified HTTPS request is being made to host 'www.sec.gov'. Adding certificate verification is strongly advised. See: https://urllib3.readthedocs.io/en/latest/advanced-usage.html#ssl-warnings\n",
      "  warnings.warn(\n"
     ]
    },
    {
     "name": "stdout",
     "output_type": "stream",
     "text": [
      "{'Revenue': None, 'Net Income': -5000.0, 'Cash and cash equivalents': None, 'Goodwill': None, 'Intangible assets': None, 'Total assets': 30000.0, 'Commercial Paper': None, 'Other Current Borrowings': None, 'Long Term Debt': None, 'Short-Term Debt': None, 'Net cash used in operating activities': None, 'Purchases of property and equipment': None}\n",
      "(199) https://www.sec.gov/Archives/edgar/data/1095981/000119312520281074/d922631ds1.htm\n"
     ]
    },
    {
     "name": "stderr",
     "output_type": "stream",
     "text": [
      "c:\\python38\\lib\\site-packages\\urllib3\\connectionpool.py:981: InsecureRequestWarning: Unverified HTTPS request is being made to host 'www.sec.gov'. Adding certificate verification is strongly advised. See: https://urllib3.readthedocs.io/en/latest/advanced-usage.html#ssl-warnings\n",
      "  warnings.warn(\n"
     ]
    },
    {
     "name": "stdout",
     "output_type": "stream",
     "text": [
      "{'Revenue': None, 'Net Income': None, 'Cash and cash equivalents': None, 'Goodwill': None, 'Intangible assets': None, 'Total assets': None, 'Commercial Paper': None, 'Other Current Borrowings': None, 'Long Term Debt': None, 'Short-Term Debt': None, 'Net cash used in operating activities': None, 'Purchases of property and equipment': None}\n",
      "(200) https://www.sec.gov/Archives/edgar/data/1583771/000110465920119514/tm2034164-1_s1.htm\n"
     ]
    },
    {
     "name": "stderr",
     "output_type": "stream",
     "text": [
      "c:\\python38\\lib\\site-packages\\urllib3\\connectionpool.py:981: InsecureRequestWarning: Unverified HTTPS request is being made to host 'www.sec.gov'. Adding certificate verification is strongly advised. See: https://urllib3.readthedocs.io/en/latest/advanced-usage.html#ssl-warnings\n",
      "  warnings.warn(\n"
     ]
    },
    {
     "name": "stdout",
     "output_type": "stream",
     "text": [
      "{'Revenue': None, 'Net Income': None, 'Cash and cash equivalents': None, 'Goodwill': None, 'Intangible assets': None, 'Total assets': None, 'Commercial Paper': None, 'Other Current Borrowings': None, 'Long Term Debt': None, 'Short-Term Debt': None, 'Net cash used in operating activities': None, 'Purchases of property and equipment': None}\n",
      "(201) https://www.sec.gov/Archives/edgar/data/1796297/000179629720000008/bymaxcorps1a2.htm\n"
     ]
    },
    {
     "name": "stderr",
     "output_type": "stream",
     "text": [
      "c:\\python38\\lib\\site-packages\\urllib3\\connectionpool.py:981: InsecureRequestWarning: Unverified HTTPS request is being made to host 'www.sec.gov'. Adding certificate verification is strongly advised. See: https://urllib3.readthedocs.io/en/latest/advanced-usage.html#ssl-warnings\n",
      "  warnings.warn(\n"
     ]
    },
    {
     "name": "stdout",
     "output_type": "stream",
     "text": [
      "{'Revenue': None, 'Net Income': -856.0, 'Cash and cash equivalents': 4039.0, 'Goodwill': None, 'Intangible assets': None, 'Total assets': 4039.0, 'Commercial Paper': None, 'Other Current Borrowings': None, 'Long Term Debt': None, 'Short-Term Debt': None, 'Net cash used in operating activities': None, 'Purchases of property and equipment': None}\n",
      "(202) https://www.sec.gov/Archives/edgar/data/1823882/000121390020033795/fs12020a2_newbeginningsacq.htm\n"
     ]
    },
    {
     "name": "stderr",
     "output_type": "stream",
     "text": [
      "c:\\python38\\lib\\site-packages\\urllib3\\connectionpool.py:981: InsecureRequestWarning: Unverified HTTPS request is being made to host 'www.sec.gov'. Adding certificate verification is strongly advised. See: https://urllib3.readthedocs.io/en/latest/advanced-usage.html#ssl-warnings\n",
      "  warnings.warn(\n"
     ]
    },
    {
     "name": "stdout",
     "output_type": "stream",
     "text": [
      "{'Revenue': None, 'Net Income': -461.0, 'Cash and cash equivalents': None, 'Goodwill': None, 'Intangible assets': None, 'Total assets': 50000.0, 'Commercial Paper': None, 'Other Current Borrowings': None, 'Long Term Debt': None, 'Short-Term Debt': None, 'Net cash used in operating activities': None, 'Purchases of property and equipment': None}\n",
      "(203) https://www.sec.gov/Archives/edgar/data/1805077/000121390020033743/fs12020_bmrg2.htm\n"
     ]
    },
    {
     "name": "stderr",
     "output_type": "stream",
     "text": [
      "c:\\python38\\lib\\site-packages\\urllib3\\connectionpool.py:981: InsecureRequestWarning: Unverified HTTPS request is being made to host 'www.sec.gov'. Adding certificate verification is strongly advised. See: https://urllib3.readthedocs.io/en/latest/advanced-usage.html#ssl-warnings\n",
      "  warnings.warn(\n"
     ]
    },
    {
     "name": "stdout",
     "output_type": "stream",
     "text": [
      "{'Revenue': 211.0, 'Net Income': -85289.0, 'Cash and cash equivalents': 497.0, 'Goodwill': None, 'Intangible assets': None, 'Total assets': 177515829.0, 'Commercial Paper': None, 'Other Current Borrowings': None, 'Long Term Debt': None, 'Short-Term Debt': None, 'Net cash used in operating activities': -277254.0, 'Purchases of property and equipment': -1401.0}\n",
      "(204) https://www.sec.gov/Archives/edgar/data/1823406/000119312520279990/d26823ds1a.htm\n"
     ]
    },
    {
     "name": "stderr",
     "output_type": "stream",
     "text": [
      "c:\\python38\\lib\\site-packages\\urllib3\\connectionpool.py:981: InsecureRequestWarning: Unverified HTTPS request is being made to host 'www.sec.gov'. Adding certificate verification is strongly advised. See: https://urllib3.readthedocs.io/en/latest/advanced-usage.html#ssl-warnings\n",
      "  warnings.warn(\n"
     ]
    },
    {
     "name": "stdout",
     "output_type": "stream",
     "text": [
      "{'Revenue': None, 'Net Income': None, 'Cash and cash equivalents': 48117.0, 'Goodwill': 17217.0, 'Intangible assets': 19035.0, 'Total assets': 319294.0, 'Commercial Paper': None, 'Other Current Borrowings': None, 'Long Term Debt': None, 'Short-Term Debt': None, 'Net cash used in operating activities': None, 'Purchases of property and equipment': None}\n",
      "(205) https://www.sec.gov/Archives/edgar/data/1824920/000119312520279986/d88316ds1a.htm\n"
     ]
    },
    {
     "name": "stderr",
     "output_type": "stream",
     "text": [
      "c:\\python38\\lib\\site-packages\\urllib3\\connectionpool.py:981: InsecureRequestWarning: Unverified HTTPS request is being made to host 'www.sec.gov'. Adding certificate verification is strongly advised. See: https://urllib3.readthedocs.io/en/latest/advanced-usage.html#ssl-warnings\n",
      "  warnings.warn(\n"
     ]
    },
    {
     "name": "stdout",
     "output_type": "stream",
     "text": [
      "{'Revenue': None, 'Net Income': -1000.0, 'Cash and cash equivalents': None, 'Goodwill': None, 'Intangible assets': None, 'Total assets': 70000.0, 'Commercial Paper': None, 'Other Current Borrowings': None, 'Long Term Debt': None, 'Short-Term Debt': None, 'Net cash used in operating activities': None, 'Purchases of property and equipment': None}\n",
      "(206) https://www.sec.gov/Archives/edgar/data/1661039/000165495420011532/tptw_s1.htm\n"
     ]
    },
    {
     "name": "stderr",
     "output_type": "stream",
     "text": [
      "c:\\python38\\lib\\site-packages\\urllib3\\connectionpool.py:981: InsecureRequestWarning: Unverified HTTPS request is being made to host 'www.sec.gov'. Adding certificate verification is strongly advised. See: https://urllib3.readthedocs.io/en/latest/advanced-usage.html#ssl-warnings\n",
      "  warnings.warn(\n"
     ]
    },
    {
     "name": "stdout",
     "output_type": "stream",
     "text": [
      "{'Revenue': None, 'Net Income': None, 'Cash and cash equivalents': None, 'Goodwill': None, 'Intangible assets': None, 'Total assets': None, 'Commercial Paper': None, 'Other Current Borrowings': None, 'Long Term Debt': None, 'Short-Term Debt': None, 'Net cash used in operating activities': None, 'Purchases of property and equipment': None}\n",
      "(207) https://www.sec.gov/Archives/edgar/data/1821806/000119312520279330/d905917ds1a.htm\n"
     ]
    },
    {
     "name": "stderr",
     "output_type": "stream",
     "text": [
      "c:\\python38\\lib\\site-packages\\urllib3\\connectionpool.py:981: InsecureRequestWarning: Unverified HTTPS request is being made to host 'www.sec.gov'. Adding certificate verification is strongly advised. See: https://urllib3.readthedocs.io/en/latest/advanced-usage.html#ssl-warnings\n",
      "  warnings.warn(\n"
     ]
    },
    {
     "name": "stdout",
     "output_type": "stream",
     "text": [
      "{'Revenue': None, 'Net Income': None, 'Cash and cash equivalents': None, 'Goodwill': None, 'Intangible assets': None, 'Total assets': None, 'Commercial Paper': None, 'Other Current Borrowings': None, 'Long Term Debt': None, 'Short-Term Debt': None, 'Net cash used in operating activities': None, 'Purchases of property and equipment': None}\n",
      "(208) https://www.sec.gov/Archives/edgar/data/1424657/000121390020033598/ea127711-s1_cuentasinc.htm\n"
     ]
    },
    {
     "name": "stderr",
     "output_type": "stream",
     "text": [
      "c:\\python38\\lib\\site-packages\\urllib3\\connectionpool.py:981: InsecureRequestWarning: Unverified HTTPS request is being made to host 'www.sec.gov'. Adding certificate verification is strongly advised. See: https://urllib3.readthedocs.io/en/latest/advanced-usage.html#ssl-warnings\n",
      "  warnings.warn(\n"
     ]
    },
    {
     "name": "stdout",
     "output_type": "stream",
     "text": [
      "{'Revenue': None, 'Net Income': None, 'Cash and cash equivalents': None, 'Goodwill': None, 'Intangible assets': None, 'Total assets': None, 'Commercial Paper': None, 'Other Current Borrowings': None, 'Long Term Debt': None, 'Short-Term Debt': None, 'Net cash used in operating activities': None, 'Purchases of property and equipment': None}\n",
      "(209) https://www.sec.gov/Archives/edgar/data/1827669/000121390020033584/fs12020_omnichannelacq.htm\n"
     ]
    },
    {
     "name": "stderr",
     "output_type": "stream",
     "text": [
      "c:\\python38\\lib\\site-packages\\urllib3\\connectionpool.py:981: InsecureRequestWarning: Unverified HTTPS request is being made to host 'www.sec.gov'. Adding certificate verification is strongly advised. See: https://urllib3.readthedocs.io/en/latest/advanced-usage.html#ssl-warnings\n",
      "  warnings.warn(\n"
     ]
    },
    {
     "name": "stdout",
     "output_type": "stream",
     "text": [
      "{'Revenue': None, 'Net Income': -2000.0, 'Cash and cash equivalents': None, 'Goodwill': None, 'Intangible assets': None, 'Total assets': 75000.0, 'Commercial Paper': None, 'Other Current Borrowings': None, 'Long Term Debt': None, 'Short-Term Debt': None, 'Net cash used in operating activities': None, 'Purchases of property and equipment': None}\n",
      "(210) https://www.sec.gov/Archives/edgar/data/1800373/000152013820000508/gdwl-20201027_s1a4.htm\n"
     ]
    },
    {
     "name": "stderr",
     "output_type": "stream",
     "text": [
      "c:\\python38\\lib\\site-packages\\urllib3\\connectionpool.py:981: InsecureRequestWarning: Unverified HTTPS request is being made to host 'www.sec.gov'. Adding certificate verification is strongly advised. See: https://urllib3.readthedocs.io/en/latest/advanced-usage.html#ssl-warnings\n",
      "  warnings.warn(\n"
     ]
    },
    {
     "name": "stdout",
     "output_type": "stream",
     "text": [
      "{'Revenue': None, 'Net Income': None, 'Cash and cash equivalents': None, 'Goodwill': None, 'Intangible assets': None, 'Total assets': None, 'Commercial Paper': None, 'Other Current Borrowings': None, 'Long Term Debt': None, 'Short-Term Debt': None, 'Net cash used in operating activities': None, 'Purchases of property and equipment': None}\n",
      "(211) https://www.sec.gov/Archives/edgar/data/1820201/000110465920118606/tm2034278d1_s1a.htm\n"
     ]
    },
    {
     "name": "stderr",
     "output_type": "stream",
     "text": [
      "c:\\python38\\lib\\site-packages\\urllib3\\connectionpool.py:981: InsecureRequestWarning: Unverified HTTPS request is being made to host 'www.sec.gov'. Adding certificate verification is strongly advised. See: https://urllib3.readthedocs.io/en/latest/advanced-usage.html#ssl-warnings\n",
      "  warnings.warn(\n"
     ]
    },
    {
     "name": "stdout",
     "output_type": "stream",
     "text": [
      "{'Revenue': None, 'Net Income': None, 'Cash and cash equivalents': None, 'Goodwill': None, 'Intangible assets': None, 'Total assets': 82500.0, 'Commercial Paper': None, 'Other Current Borrowings': None, 'Long Term Debt': None, 'Short-Term Debt': None, 'Net cash used in operating activities': None, 'Purchases of property and equipment': None}\n",
      "(212) https://www.sec.gov/Archives/edgar/data/1824888/000121390020033569/ea128958-s1a1_naturalorder.htm\n"
     ]
    },
    {
     "name": "stderr",
     "output_type": "stream",
     "text": [
      "c:\\python38\\lib\\site-packages\\urllib3\\connectionpool.py:981: InsecureRequestWarning: Unverified HTTPS request is being made to host 'www.sec.gov'. Adding certificate verification is strongly advised. See: https://urllib3.readthedocs.io/en/latest/advanced-usage.html#ssl-warnings\n",
      "  warnings.warn(\n"
     ]
    },
    {
     "name": "stdout",
     "output_type": "stream",
     "text": [
      "{'Revenue': None, 'Net Income': None, 'Cash and cash equivalents': None, 'Goodwill': None, 'Intangible assets': None, 'Total assets': 272450.0, 'Commercial Paper': None, 'Other Current Borrowings': None, 'Long Term Debt': None, 'Short-Term Debt': None, 'Net cash used in operating activities': None, 'Purchases of property and equipment': None}\n",
      "(213) https://www.sec.gov/Archives/edgar/data/1127993/000109181820000230/gaxy10272020forms1a.htm\n"
     ]
    },
    {
     "name": "stderr",
     "output_type": "stream",
     "text": [
      "c:\\python38\\lib\\site-packages\\urllib3\\connectionpool.py:981: InsecureRequestWarning: Unverified HTTPS request is being made to host 'www.sec.gov'. Adding certificate verification is strongly advised. See: https://urllib3.readthedocs.io/en/latest/advanced-usage.html#ssl-warnings\n",
      "  warnings.warn(\n"
     ]
    },
    {
     "name": "stdout",
     "output_type": "stream",
     "text": [
      "{'Revenue': None, 'Net Income': None, 'Cash and cash equivalents': None, 'Goodwill': None, 'Intangible assets': None, 'Total assets': None, 'Commercial Paper': None, 'Other Current Borrowings': None, 'Long Term Debt': None, 'Short-Term Debt': None, 'Net cash used in operating activities': None, 'Purchases of property and equipment': None}\n",
      "(214) https://www.sec.gov/Archives/edgar/data/910267/000110465920118552/tm2033419-5_s1a.htm\n"
     ]
    },
    {
     "name": "stderr",
     "output_type": "stream",
     "text": [
      "c:\\python38\\lib\\site-packages\\urllib3\\connectionpool.py:981: InsecureRequestWarning: Unverified HTTPS request is being made to host 'www.sec.gov'. Adding certificate verification is strongly advised. See: https://urllib3.readthedocs.io/en/latest/advanced-usage.html#ssl-warnings\n",
      "  warnings.warn(\n"
     ]
    },
    {
     "name": "stdout",
     "output_type": "stream",
     "text": [
      "{'Revenue': None, 'Net Income': None, 'Cash and cash equivalents': None, 'Goodwill': None, 'Intangible assets': None, 'Total assets': None, 'Commercial Paper': None, 'Other Current Borrowings': None, 'Long Term Debt': None, 'Short-Term Debt': None, 'Net cash used in operating activities': None, 'Purchases of property and equipment': None}\n",
      "(215) https://www.sec.gov/Archives/edgar/data/1824893/000110465920118538/tm2030948-16_s1a.htm\n"
     ]
    },
    {
     "name": "stderr",
     "output_type": "stream",
     "text": [
      "c:\\python38\\lib\\site-packages\\urllib3\\connectionpool.py:981: InsecureRequestWarning: Unverified HTTPS request is being made to host 'www.sec.gov'. Adding certificate verification is strongly advised. See: https://urllib3.readthedocs.io/en/latest/advanced-usage.html#ssl-warnings\n",
      "  warnings.warn(\n"
     ]
    },
    {
     "name": "stdout",
     "output_type": "stream",
     "text": [
      "{'Revenue': None, 'Net Income': None, 'Cash and cash equivalents': None, 'Goodwill': None, 'Intangible assets': None, 'Total assets': None, 'Commercial Paper': None, 'Other Current Borrowings': None, 'Long Term Debt': None, 'Short-Term Debt': None, 'Net cash used in operating activities': None, 'Purchases of property and equipment': None}\n",
      "(216) https://www.sec.gov/Archives/edgar/data/1818089/000110465920118507/tm2025064-17_s1a.htm\n"
     ]
    },
    {
     "name": "stderr",
     "output_type": "stream",
     "text": [
      "c:\\python38\\lib\\site-packages\\urllib3\\connectionpool.py:981: InsecureRequestWarning: Unverified HTTPS request is being made to host 'www.sec.gov'. Adding certificate verification is strongly advised. See: https://urllib3.readthedocs.io/en/latest/advanced-usage.html#ssl-warnings\n",
      "  warnings.warn(\n"
     ]
    },
    {
     "name": "stdout",
     "output_type": "stream",
     "text": [
      "{'Revenue': None, 'Net Income': None, 'Cash and cash equivalents': None, 'Goodwill': None, 'Intangible assets': None, 'Total assets': None, 'Commercial Paper': None, 'Other Current Borrowings': None, 'Long Term Debt': None, 'Short-Term Debt': None, 'Net cash used in operating activities': None, 'Purchases of property and equipment': None}\n",
      "(217) https://www.sec.gov/Archives/edgar/data/1407583/000149315220019971/forms-1.htm\n"
     ]
    },
    {
     "name": "stderr",
     "output_type": "stream",
     "text": [
      "c:\\python38\\lib\\site-packages\\urllib3\\connectionpool.py:981: InsecureRequestWarning: Unverified HTTPS request is being made to host 'www.sec.gov'. Adding certificate verification is strongly advised. See: https://urllib3.readthedocs.io/en/latest/advanced-usage.html#ssl-warnings\n",
      "  warnings.warn(\n"
     ]
    },
    {
     "name": "stdout",
     "output_type": "stream",
     "text": [
      "{'Revenue': None, 'Net Income': None, 'Cash and cash equivalents': None, 'Goodwill': None, 'Intangible assets': None, 'Total assets': None, 'Commercial Paper': None, 'Other Current Borrowings': None, 'Long Term Debt': None, 'Short-Term Debt': None, 'Net cash used in operating activities': None, 'Purchases of property and equipment': None}\n",
      "(218) https://www.sec.gov/Archives/edgar/data/1788882/000162828020014828/roots-1a3.htm\n"
     ]
    },
    {
     "name": "stderr",
     "output_type": "stream",
     "text": [
      "c:\\python38\\lib\\site-packages\\urllib3\\connectionpool.py:981: InsecureRequestWarning: Unverified HTTPS request is being made to host 'www.sec.gov'. Adding certificate verification is strongly advised. See: https://urllib3.readthedocs.io/en/latest/advanced-usage.html#ssl-warnings\n",
      "  warnings.warn(\n"
     ]
    },
    {
     "name": "stdout",
     "output_type": "stream",
     "text": [
      "{'Revenue': None, 'Net Income': None, 'Cash and cash equivalents': 240.9, 'Goodwill': None, 'Intangible assets': None, 'Total assets': 706.8, 'Commercial Paper': None, 'Other Current Borrowings': None, 'Long Term Debt': None, 'Short-Term Debt': None, 'Net cash used in operating activities': None, 'Purchases of property and equipment': None}\n",
      "(219) https://www.sec.gov/Archives/edgar/data/1755953/000121390020033384/ea128934-s1a2_akernacorp.htm\n"
     ]
    },
    {
     "name": "stderr",
     "output_type": "stream",
     "text": [
      "c:\\python38\\lib\\site-packages\\urllib3\\connectionpool.py:981: InsecureRequestWarning: Unverified HTTPS request is being made to host 'www.sec.gov'. Adding certificate verification is strongly advised. See: https://urllib3.readthedocs.io/en/latest/advanced-usage.html#ssl-warnings\n",
      "  warnings.warn(\n"
     ]
    },
    {
     "name": "stdout",
     "output_type": "stream",
     "text": [
      "{'Revenue': None, 'Net Income': -16384104.0, 'Cash and cash equivalents': None, 'Goodwill': None, 'Intangible assets': None, 'Total assets': 58529619.0, 'Commercial Paper': None, 'Other Current Borrowings': None, 'Long Term Debt': None, 'Short-Term Debt': None, 'Net cash used in operating activities': None, 'Purchases of property and equipment': None}\n",
      "(220) https://www.sec.gov/Archives/edgar/data/1815632/000165495420011454/tci_s1.htm\n"
     ]
    },
    {
     "name": "stderr",
     "output_type": "stream",
     "text": [
      "c:\\python38\\lib\\site-packages\\urllib3\\connectionpool.py:981: InsecureRequestWarning: Unverified HTTPS request is being made to host 'www.sec.gov'. Adding certificate verification is strongly advised. See: https://urllib3.readthedocs.io/en/latest/advanced-usage.html#ssl-warnings\n",
      "  warnings.warn(\n"
     ]
    },
    {
     "name": "stdout",
     "output_type": "stream",
     "text": [
      "{'Revenue': None, 'Net Income': None, 'Cash and cash equivalents': None, 'Goodwill': None, 'Intangible assets': None, 'Total assets': None, 'Commercial Paper': None, 'Other Current Borrowings': None, 'Long Term Debt': None, 'Short-Term Debt': None, 'Net cash used in operating activities': None, 'Purchases of property and equipment': None}\n",
      "(221) https://www.sec.gov/Archives/edgar/data/1818089/000110465920118330/tm2025064-13_s1a.htm\n"
     ]
    },
    {
     "name": "stderr",
     "output_type": "stream",
     "text": [
      "c:\\python38\\lib\\site-packages\\urllib3\\connectionpool.py:981: InsecureRequestWarning: Unverified HTTPS request is being made to host 'www.sec.gov'. Adding certificate verification is strongly advised. See: https://urllib3.readthedocs.io/en/latest/advanced-usage.html#ssl-warnings\n",
      "  warnings.warn(\n"
     ]
    },
    {
     "name": "stdout",
     "output_type": "stream",
     "text": [
      "{'Revenue': None, 'Net Income': None, 'Cash and cash equivalents': None, 'Goodwill': None, 'Intangible assets': None, 'Total assets': 79652.0, 'Commercial Paper': None, 'Other Current Borrowings': None, 'Long Term Debt': None, 'Short-Term Debt': None, 'Net cash used in operating activities': None, 'Purchases of property and equipment': None}\n",
      "(222) https://www.sec.gov/Archives/edgar/data/1824884/000121390020033358/fs12020a2_edocacquisition.htm\n"
     ]
    },
    {
     "name": "stderr",
     "output_type": "stream",
     "text": [
      "c:\\python38\\lib\\site-packages\\urllib3\\connectionpool.py:981: InsecureRequestWarning: Unverified HTTPS request is being made to host 'www.sec.gov'. Adding certificate verification is strongly advised. See: https://urllib3.readthedocs.io/en/latest/advanced-usage.html#ssl-warnings\n",
      "  warnings.warn(\n"
     ]
    },
    {
     "name": "stdout",
     "output_type": "stream",
     "text": [
      "{'Revenue': None, 'Net Income': -8653.0, 'Cash and cash equivalents': None, 'Goodwill': None, 'Intangible assets': None, 'Total assets': 178938.0, 'Commercial Paper': None, 'Other Current Borrowings': None, 'Long Term Debt': None, 'Short-Term Debt': None, 'Net cash used in operating activities': None, 'Purchases of property and equipment': None}\n",
      "(223) https://www.sec.gov/Archives/edgar/data/1716166/000149315220019967/forms1a.htm\n"
     ]
    },
    {
     "name": "stderr",
     "output_type": "stream",
     "text": [
      "c:\\python38\\lib\\site-packages\\urllib3\\connectionpool.py:981: InsecureRequestWarning: Unverified HTTPS request is being made to host 'www.sec.gov'. Adding certificate verification is strongly advised. See: https://urllib3.readthedocs.io/en/latest/advanced-usage.html#ssl-warnings\n",
      "  warnings.warn(\n"
     ]
    },
    {
     "name": "stdout",
     "output_type": "stream",
     "text": [
      "{'Revenue': None, 'Net Income': None, 'Cash and cash equivalents': None, 'Goodwill': None, 'Intangible assets': None, 'Total assets': None, 'Commercial Paper': None, 'Other Current Borrowings': None, 'Long Term Debt': None, 'Short-Term Debt': None, 'Net cash used in operating activities': None, 'Purchases of property and equipment': None}\n",
      "(224) https://www.sec.gov/Archives/edgar/data/1817640/000119312520277138/d20689ds1.htm\n"
     ]
    },
    {
     "name": "stderr",
     "output_type": "stream",
     "text": [
      "c:\\python38\\lib\\site-packages\\urllib3\\connectionpool.py:981: InsecureRequestWarning: Unverified HTTPS request is being made to host 'www.sec.gov'. Adding certificate verification is strongly advised. See: https://urllib3.readthedocs.io/en/latest/advanced-usage.html#ssl-warnings\n",
      "  warnings.warn(\n"
     ]
    },
    {
     "name": "stdout",
     "output_type": "stream",
     "text": [
      "{'Revenue': None, 'Net Income': None, 'Cash and cash equivalents': None, 'Goodwill': None, 'Intangible assets': None, 'Total assets': 52500.0, 'Commercial Paper': None, 'Other Current Borrowings': None, 'Long Term Debt': None, 'Short-Term Debt': None, 'Net cash used in operating activities': None, 'Purchases of property and equipment': None}\n",
      "(225) https://www.sec.gov/Archives/edgar/data/1824153/000119312520277126/d13915ds1.htm\n"
     ]
    },
    {
     "name": "stderr",
     "output_type": "stream",
     "text": [
      "c:\\python38\\lib\\site-packages\\urllib3\\connectionpool.py:981: InsecureRequestWarning: Unverified HTTPS request is being made to host 'www.sec.gov'. Adding certificate verification is strongly advised. See: https://urllib3.readthedocs.io/en/latest/advanced-usage.html#ssl-warnings\n",
      "  warnings.warn(\n"
     ]
    },
    {
     "name": "stdout",
     "output_type": "stream",
     "text": [
      "{'Revenue': None, 'Net Income': -10542.0, 'Cash and cash equivalents': None, 'Goodwill': None, 'Intangible assets': None, 'Total assets': 164458.0, 'Commercial Paper': None, 'Other Current Borrowings': None, 'Long Term Debt': None, 'Short-Term Debt': None, 'Net cash used in operating activities': None, 'Purchases of property and equipment': None}\n",
      "(226) https://www.sec.gov/Archives/edgar/data/1819394/000119312520277072/d70164ds1a.htm\n"
     ]
    },
    {
     "name": "stderr",
     "output_type": "stream",
     "text": [
      "c:\\python38\\lib\\site-packages\\urllib3\\connectionpool.py:981: InsecureRequestWarning: Unverified HTTPS request is being made to host 'www.sec.gov'. Adding certificate verification is strongly advised. See: https://urllib3.readthedocs.io/en/latest/advanced-usage.html#ssl-warnings\n",
      "  warnings.warn(\n"
     ]
    },
    {
     "name": "stdout",
     "output_type": "stream",
     "text": [
      "{'Revenue': None, 'Net Income': -20884.0, 'Cash and cash equivalents': None, 'Goodwill': None, 'Intangible assets': None, 'Total assets': 518755.0, 'Commercial Paper': None, 'Other Current Borrowings': None, 'Long Term Debt': None, 'Short-Term Debt': None, 'Net cash used in operating activities': None, 'Purchases of property and equipment': None}\n",
      "(227) https://www.sec.gov/Archives/edgar/data/849636/000149315220019955/forms-1a.htm\n"
     ]
    },
    {
     "name": "stderr",
     "output_type": "stream",
     "text": [
      "c:\\python38\\lib\\site-packages\\urllib3\\connectionpool.py:981: InsecureRequestWarning: Unverified HTTPS request is being made to host 'www.sec.gov'. Adding certificate verification is strongly advised. See: https://urllib3.readthedocs.io/en/latest/advanced-usage.html#ssl-warnings\n",
      "  warnings.warn(\n"
     ]
    }
   ],
   "source": [
    "fields_dict = {'Statement of Operations':['Revenue',\n",
    "                                         ['Net Income', 'Net Loss', 'net income (loss)']],\n",
    "              'Balance Sheet': ['Cash and cash equivalents',\n",
    "                                'Goodwill', \n",
    "                                'Intangible assets', \n",
    "                                'Total assets', \n",
    "                                'Commercial Paper', \n",
    "                                'Other Current Borrowings', \n",
    "                                ['Long Term Debt', 'current portion'],\n",
    "                                'Short-Term Debt'],\n",
    "              'Statement of Cash Flow': ['Net cash used in operating activities', \n",
    "                                         ['Purchases of property and equipment', 'Proceeds from property and equipment']]}\n",
    "result = []\n",
    "for n, url in enumerate(df['linkToFilingDetails']):\n",
    "    print(f'({n}) {url}')\n",
    "    dict = iterate_fields_dict(html=get_html(url), fields_dict=fields_dict)\n",
    "    result.append(dict)\n",
    "    print(dict)\n"
   ]
  },
  {
   "cell_type": "code",
   "execution_count": null,
   "metadata": {},
   "outputs": [],
   "source": [
    "output = pd.DataFrame()\n",
    "for item in result:\n",
    "    output = output.append(item, ignore_index=True)\n",
    "output\n"
   ]
  },
  {
   "cell_type": "code",
   "execution_count": 11,
   "metadata": {},
   "outputs": [],
   "source": [
    "result = pd.concat([df, output], axis=1, sort=False)\n",
    "# result.to_csv('s1-result.csv')"
   ]
  },
  {
   "cell_type": "code",
   "execution_count": 19,
   "metadata": {},
   "outputs": [
    {
     "name": "stdout",
     "output_type": "stream",
     "text": [
      "<class 'pandas.core.frame.DataFrame'>\n",
      "RangeIndex: 200 entries, 0 to 199\n",
      "Data columns (total 30 columns):\n",
      " #   Column                                 Non-Null Count  Dtype  \n",
      "---  ------                                 --------------  -----  \n",
      " 0   Unnamed: 0                             200 non-null    int64  \n",
      " 1   id                                     200 non-null    object \n",
      " 2   accessionNo                            200 non-null    object \n",
      " 3   cik                                    200 non-null    int64  \n",
      " 4   ticker                                 143 non-null    object \n",
      " 5   companyName                            200 non-null    object \n",
      " 6   companyNameLong                        200 non-null    object \n",
      " 7   formType                               200 non-null    object \n",
      " 8   description                            200 non-null    object \n",
      " 9   filedAt                                200 non-null    object \n",
      " 10  linkToTxt                              200 non-null    object \n",
      " 11  linkToHtml                             200 non-null    object \n",
      " 12  linkToXbrl                             0 non-null      float64\n",
      " 13  linkToFilingDetails                    200 non-null    object \n",
      " 14  entities                               200 non-null    object \n",
      " 15  documentFormatFiles                    200 non-null    object \n",
      " 16  dataFiles                              200 non-null    object \n",
      " 17  seriesAndClassesContractsInformation   200 non-null    object \n",
      " 18  Cash and cash equivalents              48 non-null     float64\n",
      " 19  Commercial Paper                       2 non-null      float64\n",
      " 20  Goodwill                               16 non-null     float64\n",
      " 21  Intangible assets                      8 non-null      float64\n",
      " 22  Long Term Debt                         0 non-null      float64\n",
      " 23  Net Income                             63 non-null     float64\n",
      " 24  Net cash used in operating activities  8 non-null      float64\n",
      " 25  Other Current Borrowings               0 non-null      float64\n",
      " 26  Purchases of property and equipment    2 non-null      float64\n",
      " 27  Revenue                                16 non-null     float64\n",
      " 28  Short-Term Debt                        0 non-null      float64\n",
      " 29  Total assets                           121 non-null    float64\n",
      "dtypes: float64(13), int64(2), object(15)\n",
      "memory usage: 47.0+ KB\n"
     ]
    }
   ],
   "source": [
    "result.info()"
   ]
  },
  {
   "cell_type": "code",
   "execution_count": null,
   "metadata": {},
   "outputs": [],
   "source": []
  },
  {
   "cell_type": "code",
   "execution_count": null,
   "metadata": {},
   "outputs": [],
   "source": []
  }
 ],
 "metadata": {
  "kernelspec": {
   "display_name": "Python 3",
   "language": "python",
   "name": "python3"
  },
  "language_info": {
   "codemirror_mode": {
    "name": "ipython",
    "version": 3
   },
   "file_extension": ".py",
   "mimetype": "text/x-python",
   "name": "python",
   "nbconvert_exporter": "python",
   "pygments_lexer": "ipython3",
   "version": "3.8.6"
  }
 },
 "nbformat": 4,
 "nbformat_minor": 4
}
